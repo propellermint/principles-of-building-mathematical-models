{
  "nbformat": 4,
  "nbformat_minor": 0,
  "metadata": {
    "kernelspec": {
      "display_name": "Python 3",
      "language": "python",
      "name": "python3"
    },
    "language_info": {
      "codemirror_mode": {
        "name": "ipython",
        "version": 3
      },
      "file_extension": ".py",
      "mimetype": "text/x-python",
      "name": "python",
      "nbconvert_exporter": "python",
      "pygments_lexer": "ipython3",
      "version": "3.7.6"
    },
    "latex_envs": {
      "LaTeX_envs_menu_present": true,
      "autoclose": false,
      "autocomplete": true,
      "bibliofile": "biblio.bib",
      "cite_by": "apalike",
      "current_citInitial": 1,
      "eqLabelWithNumbers": true,
      "eqNumInitial": 1,
      "hotkeys": {
        "equation": "Ctrl-E",
        "itemize": "Ctrl-I"
      },
      "labels_anchors": false,
      "latex_user_defs": false,
      "report_style_numbering": false,
      "user_envs_cfg": false
    },
    "colab": {
      "name": "tf.ipynb",
      "provenance": [],
      "collapsed_sections": []
    }
  },
  "cells": [
    {
      "cell_type": "code",
      "metadata": {
        "id": "gaDioOD5d2Ba",
        "colab_type": "code",
        "colab": {}
      },
      "source": [
        "import matplotlib\n",
        "import matplotlib.pyplot as plt"
      ],
      "execution_count": 0,
      "outputs": []
    },
    {
      "cell_type": "code",
      "metadata": {
        "id": "27Xx6Ehdd2Bn",
        "colab_type": "code",
        "outputId": "12d82e9e-4ce8-45a1-d99a-1bd958066a9a",
        "colab": {
          "base_uri": "https://localhost:8080/",
          "height": 35
        }
      },
      "source": [
        "import tensorflow as tf\n",
        "from google.colab import drive\n",
        "drive.mount('/content/drive')"
      ],
      "execution_count": 2,
      "outputs": [
        {
          "output_type": "stream",
          "text": [
            "Drive already mounted at /content/drive; to attempt to forcibly remount, call drive.mount(\"/content/drive\", force_remount=True).\n"
          ],
          "name": "stdout"
        }
      ]
    },
    {
      "cell_type": "markdown",
      "metadata": {
        "id": "uYK0I-w_d2B2",
        "colab_type": "text"
      },
      "source": [
        "**Задание 3b.1**\n",
        "\n",
        "Перед вами опять до боли знакомый набор данных детектора черенковского излучения. Ваша задача переписать классификатор из блокнота `torch.ipynb` с использованием фреймворка TensorFlow и API Keras. Почти весь код уже написан, вам осталось самостоятельно заполнить пропущенные места, используя документацию (https://www.tensorflow.org/api_docs/python/tf/keras/layers):\n",
        "\n",
        "* Аналогом `torch.nn.Sequential` является `tf.keras.Sequential`,\n",
        "* Полносвязный слой удобно задавать используя `tf.keras.layers.Dense`.\n",
        "\n",
        "Используйте значения метапараметров (количество скрытых нейронов, скорость обучения и т.п.) определенные при работе с аналогичным заданием из блокнота `torch.ipynb`."
      ]
    },
    {
      "cell_type": "code",
      "metadata": {
        "id": "OxqXtwc7d2B4",
        "colab_type": "code",
        "colab": {}
      },
      "source": [
        "import numpy as np\n",
        "import pandas as pd\n",
        "\n",
        "names = [\"length\", \"width\", \"size\", \"conc\", \"conc1\", \"asym\", \"m3long\", \"m3trans\", \"alpha\", \"dist\", \"class\"]\n",
        "data = pd.read_csv('/content/drive/My Drive/2020-hw3-propellermint/magic04.csv', names=names)\n",
        "\n",
        "x = np.asarray(data.iloc[:, :-1]).astype(np.float32)\n",
        "y = np.asarray(data.iloc[:, [-1]])\n",
        "y = (y == 'g').astype(np.float32)"
      ],
      "execution_count": 0,
      "outputs": []
    },
    {
      "cell_type": "code",
      "metadata": {
        "id": "Py0NRRNad2CA",
        "colab_type": "code",
        "colab": {}
      },
      "source": [
        "from sklearn.model_selection import train_test_split\n",
        "\n",
        "x_train, x_test, y_train, y_test = train_test_split(x, y)\n",
        "\n",
        "train_dataset = tf.data.Dataset.from_tensor_slices((x_train, y_train)).batch(5)\n",
        "test_dataset = tf.data.Dataset.from_tensor_slices((x_test, y_test)).batch(5)"
      ],
      "execution_count": 0,
      "outputs": []
    },
    {
      "cell_type": "code",
      "metadata": {
        "id": "O0bKR6iyd2CH",
        "colab_type": "code",
        "outputId": "5442afee-6cea-4b13-ec0c-0618d79babab",
        "colab": {
          "base_uri": "https://localhost:8080/",
          "height": 1000
        }
      },
      "source": [
        "tf.random.set_seed(43)\n",
        "\n",
        "INPUT_DIM  = x.shape[1]\n",
        "HIDDEN_DIM = 30 # ???\n",
        "OUTPUT_DIM = y.shape[1]\n",
        "\n",
        "model = tf.keras.Sequential()\n",
        "model.add(tf.keras.layers.Dense(HIDDEN_DIM, activation='sigmoid'))\n",
        "model.add(tf.keras.layers.Dense(OUTPUT_DIM, activation='tanh'))\n",
        "\n",
        "#model = torch.nn.Sequential(\n",
        "#    torch.nn.Linear(INPUT_DIM, HIDDEN_DIM),\n",
        "#    torch.nn.Sigmoid(),\n",
        "#    torch.nn.Linear(HIDDEN_DIM, OUTPUT_DIM),\n",
        "#    torch.nn.Sigmoid(),\n",
        "#)\n",
        "\n",
        "learning_rate = 1e-3\n",
        "model.compile(optimizer=tf.keras.optimizers.Adam(learning_rate=learning_rate), loss='MSE', metrics=['accuracy'])\n",
        "\n",
        "_ = model.fit(train_dataset, epochs=50, validation_data=test_dataset)"
      ],
      "execution_count": 5,
      "outputs": [
        {
          "output_type": "stream",
          "text": [
            "Epoch 1/50\n",
            "2853/2853 [==============================] - 4s 1ms/step - loss: 0.2014 - accuracy: 0.7159 - val_loss: 0.1592 - val_accuracy: 0.7710\n",
            "Epoch 2/50\n",
            "2853/2853 [==============================] - 4s 1ms/step - loss: 0.1598 - accuracy: 0.7675 - val_loss: 0.1512 - val_accuracy: 0.7796\n",
            "Epoch 3/50\n",
            "2853/2853 [==============================] - 4s 1ms/step - loss: 0.1528 - accuracy: 0.7819 - val_loss: 0.1478 - val_accuracy: 0.7931\n",
            "Epoch 4/50\n",
            "2853/2853 [==============================] - 4s 1ms/step - loss: 0.1476 - accuracy: 0.7941 - val_loss: 0.1426 - val_accuracy: 0.8017\n",
            "Epoch 5/50\n",
            "2853/2853 [==============================] - 5s 2ms/step - loss: 0.1416 - accuracy: 0.8037 - val_loss: 0.1395 - val_accuracy: 0.8116\n",
            "Epoch 6/50\n",
            "2853/2853 [==============================] - 4s 1ms/step - loss: 0.1372 - accuracy: 0.8122 - val_loss: 0.1352 - val_accuracy: 0.8181\n",
            "Epoch 7/50\n",
            "2853/2853 [==============================] - 4s 1ms/step - loss: 0.1351 - accuracy: 0.8150 - val_loss: 0.1351 - val_accuracy: 0.8164\n",
            "Epoch 8/50\n",
            "2853/2853 [==============================] - 4s 1ms/step - loss: 0.1345 - accuracy: 0.8157 - val_loss: 0.1361 - val_accuracy: 0.8162\n",
            "Epoch 9/50\n",
            "2853/2853 [==============================] - 4s 1ms/step - loss: 0.1340 - accuracy: 0.8160 - val_loss: 0.1359 - val_accuracy: 0.8124\n",
            "Epoch 10/50\n",
            "2853/2853 [==============================] - 4s 1ms/step - loss: 0.1336 - accuracy: 0.8163 - val_loss: 0.1332 - val_accuracy: 0.8219\n",
            "Epoch 11/50\n",
            "2853/2853 [==============================] - 4s 1ms/step - loss: 0.1333 - accuracy: 0.8163 - val_loss: 0.1332 - val_accuracy: 0.8191\n",
            "Epoch 12/50\n",
            "2853/2853 [==============================] - 4s 1ms/step - loss: 0.1325 - accuracy: 0.8180 - val_loss: 0.1311 - val_accuracy: 0.8238\n",
            "Epoch 13/50\n",
            "2853/2853 [==============================] - 4s 1ms/step - loss: 0.1325 - accuracy: 0.8178 - val_loss: 0.1309 - val_accuracy: 0.8231\n",
            "Epoch 14/50\n",
            "2853/2853 [==============================] - 4s 1ms/step - loss: 0.1318 - accuracy: 0.8217 - val_loss: 0.1314 - val_accuracy: 0.8183\n",
            "Epoch 15/50\n",
            "2853/2853 [==============================] - 4s 1ms/step - loss: 0.1319 - accuracy: 0.8196 - val_loss: 0.1314 - val_accuracy: 0.8219\n",
            "Epoch 16/50\n",
            "2853/2853 [==============================] - 4s 1ms/step - loss: 0.1314 - accuracy: 0.8180 - val_loss: 0.1303 - val_accuracy: 0.8215\n",
            "Epoch 17/50\n",
            "2853/2853 [==============================] - 4s 2ms/step - loss: 0.1305 - accuracy: 0.8200 - val_loss: 0.1299 - val_accuracy: 0.8198\n",
            "Epoch 18/50\n",
            "2853/2853 [==============================] - 4s 1ms/step - loss: 0.1300 - accuracy: 0.8215 - val_loss: 0.1293 - val_accuracy: 0.8257\n",
            "Epoch 19/50\n",
            "2853/2853 [==============================] - 4s 2ms/step - loss: 0.1298 - accuracy: 0.8210 - val_loss: 0.1299 - val_accuracy: 0.8233\n",
            "Epoch 20/50\n",
            "2853/2853 [==============================] - 4s 1ms/step - loss: 0.1300 - accuracy: 0.8232 - val_loss: 0.1308 - val_accuracy: 0.8242\n",
            "Epoch 21/50\n",
            "2853/2853 [==============================] - 4s 1ms/step - loss: 0.1293 - accuracy: 0.8235 - val_loss: 0.1315 - val_accuracy: 0.8259\n",
            "Epoch 22/50\n",
            "2853/2853 [==============================] - 4s 1ms/step - loss: 0.1291 - accuracy: 0.8225 - val_loss: 0.1317 - val_accuracy: 0.8212\n",
            "Epoch 23/50\n",
            "2853/2853 [==============================] - 4s 1ms/step - loss: 0.1290 - accuracy: 0.8242 - val_loss: 0.1327 - val_accuracy: 0.8204\n",
            "Epoch 24/50\n",
            "2853/2853 [==============================] - 4s 1ms/step - loss: 0.1283 - accuracy: 0.8247 - val_loss: 0.1302 - val_accuracy: 0.8227\n",
            "Epoch 25/50\n",
            "2853/2853 [==============================] - 4s 1ms/step - loss: 0.1282 - accuracy: 0.8243 - val_loss: 0.1298 - val_accuracy: 0.8250\n",
            "Epoch 26/50\n",
            "2853/2853 [==============================] - 4s 1ms/step - loss: 0.1277 - accuracy: 0.8258 - val_loss: 0.1305 - val_accuracy: 0.8231\n",
            "Epoch 27/50\n",
            "2853/2853 [==============================] - 4s 1ms/step - loss: 0.1276 - accuracy: 0.8238 - val_loss: 0.1288 - val_accuracy: 0.8240\n",
            "Epoch 28/50\n",
            "2853/2853 [==============================] - 4s 1ms/step - loss: 0.1272 - accuracy: 0.8274 - val_loss: 0.1293 - val_accuracy: 0.8244\n",
            "Epoch 29/50\n",
            "2853/2853 [==============================] - 4s 1ms/step - loss: 0.1273 - accuracy: 0.8264 - val_loss: 0.1289 - val_accuracy: 0.8200\n",
            "Epoch 30/50\n",
            "2853/2853 [==============================] - 4s 1ms/step - loss: 0.1270 - accuracy: 0.8262 - val_loss: 0.1289 - val_accuracy: 0.8223\n",
            "Epoch 31/50\n",
            "2853/2853 [==============================] - 4s 1ms/step - loss: 0.1271 - accuracy: 0.8268 - val_loss: 0.1287 - val_accuracy: 0.8229\n",
            "Epoch 32/50\n",
            "2853/2853 [==============================] - 4s 1ms/step - loss: 0.1272 - accuracy: 0.8271 - val_loss: 0.1297 - val_accuracy: 0.8215\n",
            "Epoch 33/50\n",
            "2853/2853 [==============================] - 4s 1ms/step - loss: 0.1271 - accuracy: 0.8276 - val_loss: 0.1283 - val_accuracy: 0.8225\n",
            "Epoch 34/50\n",
            "2853/2853 [==============================] - 4s 1ms/step - loss: 0.1274 - accuracy: 0.8271 - val_loss: 0.1288 - val_accuracy: 0.8189\n",
            "Epoch 35/50\n",
            "2853/2853 [==============================] - 4s 1ms/step - loss: 0.1270 - accuracy: 0.8284 - val_loss: 0.1295 - val_accuracy: 0.8217\n",
            "Epoch 36/50\n",
            "2853/2853 [==============================] - 4s 1ms/step - loss: 0.1269 - accuracy: 0.8271 - val_loss: 0.1291 - val_accuracy: 0.8223\n",
            "Epoch 37/50\n",
            "2853/2853 [==============================] - 4s 1ms/step - loss: 0.1271 - accuracy: 0.8261 - val_loss: 0.1292 - val_accuracy: 0.8242\n",
            "Epoch 38/50\n",
            "2853/2853 [==============================] - 4s 1ms/step - loss: 0.1268 - accuracy: 0.8271 - val_loss: 0.1296 - val_accuracy: 0.8227\n",
            "Epoch 39/50\n",
            "2853/2853 [==============================] - 4s 1ms/step - loss: 0.1267 - accuracy: 0.8273 - val_loss: 0.1290 - val_accuracy: 0.8267\n",
            "Epoch 40/50\n",
            "2853/2853 [==============================] - 4s 1ms/step - loss: 0.1268 - accuracy: 0.8273 - val_loss: 0.1290 - val_accuracy: 0.8246\n",
            "Epoch 41/50\n",
            "2853/2853 [==============================] - 4s 1ms/step - loss: 0.1266 - accuracy: 0.8292 - val_loss: 0.1278 - val_accuracy: 0.8275\n",
            "Epoch 42/50\n",
            "2853/2853 [==============================] - 4s 1ms/step - loss: 0.1266 - accuracy: 0.8277 - val_loss: 0.1288 - val_accuracy: 0.8263\n",
            "Epoch 43/50\n",
            "2853/2853 [==============================] - 6s 2ms/step - loss: 0.1264 - accuracy: 0.8297 - val_loss: 0.1280 - val_accuracy: 0.8278\n",
            "Epoch 44/50\n",
            "2853/2853 [==============================] - 9s 3ms/step - loss: 0.1261 - accuracy: 0.8297 - val_loss: 0.1290 - val_accuracy: 0.8246\n",
            "Epoch 45/50\n",
            "2853/2853 [==============================] - 5s 2ms/step - loss: 0.1264 - accuracy: 0.8289 - val_loss: 0.1281 - val_accuracy: 0.8244\n",
            "Epoch 46/50\n",
            "2853/2853 [==============================] - 4s 1ms/step - loss: 0.1264 - accuracy: 0.8269 - val_loss: 0.1289 - val_accuracy: 0.8263\n",
            "Epoch 47/50\n",
            "2853/2853 [==============================] - 4s 1ms/step - loss: 0.1256 - accuracy: 0.8287 - val_loss: 0.1284 - val_accuracy: 0.8297\n",
            "Epoch 48/50\n",
            "2853/2853 [==============================] - 4s 1ms/step - loss: 0.1257 - accuracy: 0.8280 - val_loss: 0.1292 - val_accuracy: 0.8273\n",
            "Epoch 49/50\n",
            "2853/2853 [==============================] - 4s 1ms/step - loss: 0.1257 - accuracy: 0.8293 - val_loss: 0.1288 - val_accuracy: 0.8252\n",
            "Epoch 50/50\n",
            "2853/2853 [==============================] - 4s 1ms/step - loss: 0.1257 - accuracy: 0.8297 - val_loss: 0.1292 - val_accuracy: 0.8284\n"
          ],
          "name": "stdout"
        }
      ]
    },
    {
      "cell_type": "code",
      "metadata": {
        "id": "6FX02OkTd2CR",
        "colab_type": "code",
        "outputId": "7af63299-d10c-413d-e40b-cbcdb3a1d033",
        "colab": {
          "base_uri": "https://localhost:8080/",
          "height": 575
        }
      },
      "source": [
        "import sklearn.metrics\n",
        "\n",
        "y_true = y_test\n",
        "scores = model.predict(x_test)\n",
        "\n",
        "min_score, max_score = np.min(scores), np.max(scores)\n",
        "bins = np.linspace(min_score, max_score, 25)\n",
        "plt.figure()\n",
        "plt.hist(scores[y_true.reshape(-1) == 0], bins, alpha=0.5, label='Hadron (negative)')\n",
        "plt.hist(scores[y_true.reshape(-1) == 1], bins, alpha=0.5, label='Gamma (positive)')\n",
        "plt.xlabel(\"Decision function (value)\")\n",
        "plt.ylabel(\"Frequency\")\n",
        "plt.legend()\n",
        "\n",
        "fpr, tpr, _ = sklearn.metrics.roc_curve(y_true, scores)\n",
        "auc = sklearn.metrics.roc_auc_score(y_true, scores)\n",
        "plt.figure()\n",
        "plt.plot(fpr, tpr)\n",
        "plt.title(\"Receiver operating characteristic\")\n",
        "plt.xlabel(\"False positive rate\")\n",
        "plt.ylabel(\"True positive rate\")\n",
        "print(\"AUC                       = {:.4f}\".format(auc))"
      ],
      "execution_count": 6,
      "outputs": [
        {
          "output_type": "stream",
          "text": [
            "AUC                       = 0.8813\n"
          ],
          "name": "stdout"
        },
        {
          "output_type": "display_data",
          "data": {
            "image/png": "[encoded data removed]",
            "text/plain": [
              "<Figure size 432x288 with 1 Axes>"
            ]
          },
          "metadata": {
            "tags": [],
            "needs_background": "light"
          }
        },
        {
          "output_type": "display_data",
          "data": {
            "image/png": "[encoded data removed]",
            "text/plain": [
              "<Figure size 432x288 with 1 Axes>"
            ]
          },
          "metadata": {
            "tags": [],
            "needs_background": "light"
          }
        }
      ]
    },
    {
      "cell_type": "markdown",
      "metadata": {
        "id": "D5qXAmtfd2Ce",
        "colab_type": "text"
      },
      "source": [
        "**Задание 3b.2**\n",
        "\n",
        "В блокноте `torch.ipynb` реализован автоэнкодер для набора рукописных цифр MNIST на базе свёрточных нейронных сетей. Настало время переписать и его с использованием фреймворка TensorFlow и API Keras.\n",
        "Используйте документацию (https://www.tensorflow.org/api_docs/python/tf/keras/layers), чтобы воспроизвести известную вам существующую архитектуру с помощью нового фреймворка.\n",
        "\n",
        "* Нарисуйте четыре случайных изображения из тестового набора данных: исходное изображение, закодированное сжатое представление в виде гистограмы, и раскодированное изображение.\n",
        "* Попробуйте сгенерировать четыре случайных изображения, подав на вход декодера случайные данные."
      ]
    },
    {
      "cell_type": "code",
      "metadata": {
        "id": "zg9lN6rTd2Ch",
        "colab_type": "code",
        "colab": {}
      },
      "source": [
        "tf.random.set_seed(43)\n",
        "\n",
        "(x_train, y_train), (x_test, y_test) = tf.keras.datasets.mnist.load_data()\n",
        "x_train, x_test = x_train / 255.0, x_test / 255.0\n",
        "\n",
        "train_dataset = tf.data.Dataset.from_tensor_slices((x_train, x_train)).shuffle(1000).batch(4)\n",
        "test_dataset = tf.data.Dataset.from_tensor_slices((x_test, x_test)).shuffle(1000).batch(4)"
      ],
      "execution_count": 0,
      "outputs": []
    },
    {
      "cell_type": "code",
      "metadata": {
        "id": "CjgNylP7d2Cn",
        "colab_type": "code",
        "colab": {}
      },
      "source": [
        "INPUT_SHAPE = (28, 28, 1) \n",
        "HIDDEN1_CH = 24 \n",
        "HIDDEN2_CH = 32 \n",
        "LATENT_DIM = 8 \n",
        " \n",
        "def get_model(): \n",
        "    inputs = tf.keras.Input(shape=INPUT_SHAPE, name='encoder_input') \n",
        " \n",
        "    encoder = tf.keras.Sequential([ \n",
        "    inputs, \n",
        "    tf.keras.layers.Conv2D(HIDDEN1_CH, 3, strides = 2, activation='relu'), \n",
        "    tf.keras.layers.Conv2D(HIDDEN2_CH, 3, strides=2, activation='relu',use_bias=False), \n",
        "    tf.keras.layers.Conv2D(LATENT_DIM, 6, activation='sigmoid',use_bias=False) \n",
        "    ]) \n",
        "\n",
        "    decoder = tf.keras.Sequential([ \n",
        "    tf.keras.layers.LayerNormalization(), \n",
        "    tf.keras.layers.Conv2DTranspose(HIDDEN2_CH, 6, activation='relu',use_bias=False), \n",
        "    tf.keras.layers.Conv2DTranspose(HIDDEN2_CH, 3, strides=2, activation='relu',use_bias=False), \n",
        "    tf.keras.layers.Conv2DTranspose(HIDDEN1_CH, 4, strides=2, activation='relu',use_bias=False), \n",
        "    tf.keras.layers.Conv2DTranspose(1, 1, activation='sigmoid',use_bias=False) \n",
        "    ]) \n",
        "\n",
        "    autoencoder = tf.keras.Model(inputs=inputs, outputs=decoder(encoder(inputs))) \n",
        "\n",
        "    return autoencoder, encoder, decoder \n",
        " \n",
        "model, encoder, decoder = get_model()"
      ],
      "execution_count": 0,
      "outputs": []
    },
    {
      "cell_type": "code",
      "metadata": {
        "id": "ghFxFCNwJz8G",
        "colab_type": "code",
        "colab": {
          "base_uri": "https://localhost:8080/",
          "height": 237
        },
        "outputId": "3d325871-f6c4-4226-e9b5-d36a1e904821"
      },
      "source": [
        "tf.random.set_seed(41)\n",
        "\n",
        "learning_rate = 1e-3\n",
        "model.compile(optimizer=tf.keras.optimizers.Adam(learning_rate=learning_rate), loss='MSE')\n",
        "\n",
        "_ = model.fit(train_dataset, epochs=6, validation_data=test_dataset)"
      ],
      "execution_count": 9,
      "outputs": [
        {
          "output_type": "stream",
          "text": [
            "Epoch 1/6\n",
            "15000/15000 [==============================] - 457s 30ms/step - loss: 0.0275 - val_loss: 0.0238\n",
            "Epoch 2/6\n",
            "15000/15000 [==============================] - 577s 38ms/step - loss: 0.0231 - val_loss: 0.0225\n",
            "Epoch 3/6\n",
            "15000/15000 [==============================] - 591s 39ms/step - loss: 0.0221 - val_loss: 0.0220\n",
            "Epoch 4/6\n",
            "15000/15000 [==============================] - 884s 59ms/step - loss: 0.0216 - val_loss: 0.0217\n",
            "Epoch 5/6\n",
            "15000/15000 [==============================] - 831s 55ms/step - loss: 0.0212 - val_loss: 0.0212\n",
            "Epoch 6/6\n",
            "15000/15000 [==============================] - 835s 56ms/step - loss: 0.0210 - val_loss: 0.0210\n"
          ],
          "name": "stdout"
        }
      ]
    },
    {
      "cell_type": "code",
      "metadata": {
        "id": "AS8MwWzPd2Cz",
        "colab_type": "code",
        "outputId": "705ec5c5-d1d5-4eac-985c-82b855e2f294",
        "colab": {
          "base_uri": "https://localhost:8080/",
          "height": 457
        }
      },
      "source": [
        "images, _ = iter(test_dataset).next()\n",
        "plt.figure(figsize=(10, 7.5)) \n",
        "n_col = 4 \n",
        "encoded = encoder(images) \n",
        "decoded = decoder(encoded) \n",
        "for i in range(n_col): \n",
        " ax = plt.subplot(3, n_col, i + 1) \n",
        " plt.imshow(images[i], cmap='gray') \n",
        " ax = plt.subplot(3, n_col, i + 1 + n_col) \n",
        " plt.bar(np.arange(8), tf.reshape(encoded[i],8)) \n",
        " ax = plt.subplot(3, n_col, i + 1 + n_col * 2) \n",
        " plt.imshow(tf.reshape(decoded[i], [28,28]), cmap='gray') \n",
        " \n",
        "plt.show()"
      ],
      "execution_count": 10,
      "outputs": [
        {
          "output_type": "display_data",
          "data": {
            "image/png": "[encoded data removed]",
            "text/plain": [
              "<Figure size 720x540 with 12 Axes>"
            ]
          },
          "metadata": {
            "tags": [],
            "needs_background": "light"
          }
        }
      ]
    },
    {
      "cell_type": "code",
      "metadata": {
        "id": "LHJ6_Voqd2C4",
        "colab_type": "code",
        "colab": {
          "base_uri": "https://localhost:8080/",
          "height": 322
        },
        "outputId": "fe325e82-1cf4-43bb-fcc6-ed6e89d45bd4"
      },
      "source": [
        "np.random.seed(41) \n",
        " \n",
        "encoded = tf.random.uniform((4,1,1,8)) \n",
        "decoded = decoder(encoded) \n",
        " \n",
        "plt.figure(figsize=(10, 5)) \n",
        "n_col = 4 \n",
        "for i in range(n_col): \n",
        " ax = plt.subplot(2, n_col, i + 1) \n",
        " plt.bar(np.arange(encoded.shape[3]), tf.reshape(encoded[i,:],8)) \n",
        " ax = plt.subplot(2, n_col, i + 1 + n_col) \n",
        " plt.imshow(tf.reshape(decoded[i],[28,28]), cmap='gray') \n",
        "plt.show()"
      ],
      "execution_count": 14,
      "outputs": [
        {
          "output_type": "display_data",
          "data": {
            "image/png": "[encoded data removed]",
            "text/plain": [
              "<Figure size 720x360 with 8 Axes>"
            ]
          },
          "metadata": {
            "tags": [],
            "needs_background": "light"
          }
        }
      ]
    },
    {
      "cell_type": "code",
      "metadata": {
        "id": "IiGKymLvhvpJ",
        "colab_type": "code",
        "colab": {}
      },
      "source": [
        ""
      ],
      "execution_count": 0,
      "outputs": []
    }
  ]
}