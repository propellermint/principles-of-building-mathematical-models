{
  "nbformat": 4,
  "nbformat_minor": 0,
  "metadata": {
    "kernelspec": {
      "display_name": "Python 3",
      "language": "python",
      "name": "python3"
    },
    "language_info": {
      "codemirror_mode": {
        "name": "ipython",
        "version": 3
      },
      "file_extension": ".py",
      "mimetype": "text/x-python",
      "name": "python",
      "nbconvert_exporter": "python",
      "pygments_lexer": "ipython3",
      "version": "3.7.6"
    },
    "latex_envs": {
      "LaTeX_envs_menu_present": true,
      "autoclose": false,
      "autocomplete": true,
      "bibliofile": "biblio.bib",
      "cite_by": "apalike",
      "current_citInitial": 1,
      "eqLabelWithNumbers": true,
      "eqNumInitial": 1,
      "hotkeys": {
        "equation": "Ctrl-E",
        "itemize": "Ctrl-I"
      },
      "labels_anchors": false,
      "latex_user_defs": false,
      "report_style_numbering": false,
      "user_envs_cfg": false
    },
    "colab": {
      "name": "particles.ipynb",
      "provenance": [],
      "collapsed_sections": []
    },
    "widgets": {
      "application/vnd.jupyter.widget-state+json": {
        "8957dd7e10164a5eba7fc83fc1e0abd9": {
          "model_module": "@jupyter-widgets/controls",
          "model_name": "HBoxModel",
          "state": {
            "_view_name": "HBoxView",
            "_dom_classes": [],
            "_model_name": "HBoxModel",
            "_view_module": "@jupyter-widgets/controls",
            "_model_module_version": "1.5.0",
            "_view_count": null,
            "_view_module_version": "1.5.0",
            "box_style": "",
            "layout": "IPY_MODEL_e7f8e860d7954baa8719762621de9254",
            "_model_module": "@jupyter-widgets/controls",
            "children": [
              "IPY_MODEL_b568288b011046f6adcb804d3fbe0f67",
              "IPY_MODEL_6f0856a6654241b888a14a76543cba28"
            ]
          }
        },
        "e7f8e860d7954baa8719762621de9254": {
          "model_module": "@jupyter-widgets/base",
          "model_name": "LayoutModel",
          "state": {
            "_view_name": "LayoutView",
            "grid_template_rows": null,
            "right": null,
            "justify_content": null,
            "_view_module": "@jupyter-widgets/base",
            "overflow": null,
            "_model_module_version": "1.2.0",
            "_view_count": null,
            "flex_flow": null,
            "width": null,
            "min_width": null,
            "border": null,
            "align_items": null,
            "bottom": null,
            "_model_module": "@jupyter-widgets/base",
            "top": null,
            "grid_column": null,
            "overflow_y": null,
            "overflow_x": null,
            "grid_auto_flow": null,
            "grid_area": null,
            "grid_template_columns": null,
            "flex": null,
            "_model_name": "LayoutModel",
            "justify_items": null,
            "grid_row": null,
            "max_height": null,
            "align_content": null,
            "visibility": null,
            "align_self": null,
            "height": null,
            "min_height": null,
            "padding": null,
            "grid_auto_rows": null,
            "grid_gap": null,
            "max_width": null,
            "order": null,
            "_view_module_version": "1.2.0",
            "grid_template_areas": null,
            "object_position": null,
            "object_fit": null,
            "grid_auto_columns": null,
            "margin": null,
            "display": null,
            "left": null
          }
        },
        "b568288b011046f6adcb804d3fbe0f67": {
          "model_module": "@jupyter-widgets/controls",
          "model_name": "FloatProgressModel",
          "state": {
            "_view_name": "ProgressView",
            "style": "IPY_MODEL_61689d5c2f13483a8006cdf8feaad62b",
            "_dom_classes": [],
            "description": "100%",
            "_model_name": "FloatProgressModel",
            "bar_style": "success",
            "max": 6,
            "_view_module": "@jupyter-widgets/controls",
            "_model_module_version": "1.5.0",
            "value": 6,
            "_view_count": null,
            "_view_module_version": "1.5.0",
            "orientation": "horizontal",
            "min": 0,
            "description_tooltip": null,
            "_model_module": "@jupyter-widgets/controls",
            "layout": "IPY_MODEL_a02c4a94103040a3a3a8c245641a1e50"
          }
        },
        "6f0856a6654241b888a14a76543cba28": {
          "model_module": "@jupyter-widgets/controls",
          "model_name": "HTMLModel",
          "state": {
            "_view_name": "HTMLView",
            "style": "IPY_MODEL_12058f80c3df48b3af257c52bbe6f919",
            "_dom_classes": [],
            "description": "",
            "_model_name": "HTMLModel",
            "placeholder": "​",
            "_view_module": "@jupyter-widgets/controls",
            "_model_module_version": "1.5.0",
            "value": " 6/6 [23:44&lt;00:00, 237.35s/it]",
            "_view_count": null,
            "_view_module_version": "1.5.0",
            "description_tooltip": null,
            "_model_module": "@jupyter-widgets/controls",
            "layout": "IPY_MODEL_7640f06700834ea295034d2f9fbbef12"
          }
        },
        "61689d5c2f13483a8006cdf8feaad62b": {
          "model_module": "@jupyter-widgets/controls",
          "model_name": "ProgressStyleModel",
          "state": {
            "_view_name": "StyleView",
            "_model_name": "ProgressStyleModel",
            "description_width": "initial",
            "_view_module": "@jupyter-widgets/base",
            "_model_module_version": "1.5.0",
            "_view_count": null,
            "_view_module_version": "1.2.0",
            "bar_color": null,
            "_model_module": "@jupyter-widgets/controls"
          }
        },
        "a02c4a94103040a3a3a8c245641a1e50": {
          "model_module": "@jupyter-widgets/base",
          "model_name": "LayoutModel",
          "state": {
            "_view_name": "LayoutView",
            "grid_template_rows": null,
            "right": null,
            "justify_content": null,
            "_view_module": "@jupyter-widgets/base",
            "overflow": null,
            "_model_module_version": "1.2.0",
            "_view_count": null,
            "flex_flow": null,
            "width": null,
            "min_width": null,
            "border": null,
            "align_items": null,
            "bottom": null,
            "_model_module": "@jupyter-widgets/base",
            "top": null,
            "grid_column": null,
            "overflow_y": null,
            "overflow_x": null,
            "grid_auto_flow": null,
            "grid_area": null,
            "grid_template_columns": null,
            "flex": null,
            "_model_name": "LayoutModel",
            "justify_items": null,
            "grid_row": null,
            "max_height": null,
            "align_content": null,
            "visibility": null,
            "align_self": null,
            "height": null,
            "min_height": null,
            "padding": null,
            "grid_auto_rows": null,
            "grid_gap": null,
            "max_width": null,
            "order": null,
            "_view_module_version": "1.2.0",
            "grid_template_areas": null,
            "object_position": null,
            "object_fit": null,
            "grid_auto_columns": null,
            "margin": null,
            "display": null,
            "left": null
          }
        },
        "12058f80c3df48b3af257c52bbe6f919": {
          "model_module": "@jupyter-widgets/controls",
          "model_name": "DescriptionStyleModel",
          "state": {
            "_view_name": "StyleView",
            "_model_name": "DescriptionStyleModel",
            "description_width": "",
            "_view_module": "@jupyter-widgets/base",
            "_model_module_version": "1.5.0",
            "_view_count": null,
            "_view_module_version": "1.2.0",
            "_model_module": "@jupyter-widgets/controls"
          }
        },
        "7640f06700834ea295034d2f9fbbef12": {
          "model_module": "@jupyter-widgets/base",
          "model_name": "LayoutModel",
          "state": {
            "_view_name": "LayoutView",
            "grid_template_rows": null,
            "right": null,
            "justify_content": null,
            "_view_module": "@jupyter-widgets/base",
            "overflow": null,
            "_model_module_version": "1.2.0",
            "_view_count": null,
            "flex_flow": null,
            "width": null,
            "min_width": null,
            "border": null,
            "align_items": null,
            "bottom": null,
            "_model_module": "@jupyter-widgets/base",
            "top": null,
            "grid_column": null,
            "overflow_y": null,
            "overflow_x": null,
            "grid_auto_flow": null,
            "grid_area": null,
            "grid_template_columns": null,
            "flex": null,
            "_model_name": "LayoutModel",
            "justify_items": null,
            "grid_row": null,
            "max_height": null,
            "align_content": null,
            "visibility": null,
            "align_self": null,
            "height": null,
            "min_height": null,
            "padding": null,
            "grid_auto_rows": null,
            "grid_gap": null,
            "max_width": null,
            "order": null,
            "_view_module_version": "1.2.0",
            "grid_template_areas": null,
            "object_position": null,
            "object_fit": null,
            "grid_auto_columns": null,
            "margin": null,
            "display": null,
            "left": null
          }
        },
        "acf5fdd98e5d4ea6abaae25e589bec40": {
          "model_module": "@jupyter-widgets/controls",
          "model_name": "HBoxModel",
          "state": {
            "_view_name": "HBoxView",
            "_dom_classes": [],
            "_model_name": "HBoxModel",
            "_view_module": "@jupyter-widgets/controls",
            "_model_module_version": "1.5.0",
            "_view_count": null,
            "_view_module_version": "1.5.0",
            "box_style": "",
            "layout": "IPY_MODEL_b4775dccd76d4138a72cd41e96df8d6c",
            "_model_module": "@jupyter-widgets/controls",
            "children": [
              "IPY_MODEL_d3c3b42927354f4bb8243a2f0254ce75",
              "IPY_MODEL_bc45771903014daf8f5b2d5c46016843"
            ]
          }
        },
        "b4775dccd76d4138a72cd41e96df8d6c": {
          "model_module": "@jupyter-widgets/base",
          "model_name": "LayoutModel",
          "state": {
            "_view_name": "LayoutView",
            "grid_template_rows": null,
            "right": null,
            "justify_content": null,
            "_view_module": "@jupyter-widgets/base",
            "overflow": null,
            "_model_module_version": "1.2.0",
            "_view_count": null,
            "flex_flow": null,
            "width": null,
            "min_width": null,
            "border": null,
            "align_items": null,
            "bottom": null,
            "_model_module": "@jupyter-widgets/base",
            "top": null,
            "grid_column": null,
            "overflow_y": null,
            "overflow_x": null,
            "grid_auto_flow": null,
            "grid_area": null,
            "grid_template_columns": null,
            "flex": null,
            "_model_name": "LayoutModel",
            "justify_items": null,
            "grid_row": null,
            "max_height": null,
            "align_content": null,
            "visibility": null,
            "align_self": null,
            "height": null,
            "min_height": null,
            "padding": null,
            "grid_auto_rows": null,
            "grid_gap": null,
            "max_width": null,
            "order": null,
            "_view_module_version": "1.2.0",
            "grid_template_areas": null,
            "object_position": null,
            "object_fit": null,
            "grid_auto_columns": null,
            "margin": null,
            "display": null,
            "left": null
          }
        },
        "d3c3b42927354f4bb8243a2f0254ce75": {
          "model_module": "@jupyter-widgets/controls",
          "model_name": "FloatProgressModel",
          "state": {
            "_view_name": "ProgressView",
            "style": "IPY_MODEL_4024e4e9f9144941ab973b377227099f",
            "_dom_classes": [],
            "description": "100%",
            "_model_name": "FloatProgressModel",
            "bar_style": "success",
            "max": 4,
            "_view_module": "@jupyter-widgets/controls",
            "_model_module_version": "1.5.0",
            "value": 4,
            "_view_count": null,
            "_view_module_version": "1.5.0",
            "orientation": "horizontal",
            "min": 0,
            "description_tooltip": null,
            "_model_module": "@jupyter-widgets/controls",
            "layout": "IPY_MODEL_f01acf643d9949ee954b348fdaaf93ee"
          }
        },
        "bc45771903014daf8f5b2d5c46016843": {
          "model_module": "@jupyter-widgets/controls",
          "model_name": "HTMLModel",
          "state": {
            "_view_name": "HTMLView",
            "style": "IPY_MODEL_73616c45aae34ef0bb080c2d4cb89268",
            "_dom_classes": [],
            "description": "",
            "_model_name": "HTMLModel",
            "placeholder": "​",
            "_view_module": "@jupyter-widgets/controls",
            "_model_module_version": "1.5.0",
            "value": " 4/4 [2:16:57&lt;00:00, 2054.42s/it]",
            "_view_count": null,
            "_view_module_version": "1.5.0",
            "description_tooltip": null,
            "_model_module": "@jupyter-widgets/controls",
            "layout": "IPY_MODEL_24a82a038bd944769058737a69a45abe"
          }
        },
        "4024e4e9f9144941ab973b377227099f": {
          "model_module": "@jupyter-widgets/controls",
          "model_name": "ProgressStyleModel",
          "state": {
            "_view_name": "StyleView",
            "_model_name": "ProgressStyleModel",
            "description_width": "initial",
            "_view_module": "@jupyter-widgets/base",
            "_model_module_version": "1.5.0",
            "_view_count": null,
            "_view_module_version": "1.2.0",
            "bar_color": null,
            "_model_module": "@jupyter-widgets/controls"
          }
        },
        "f01acf643d9949ee954b348fdaaf93ee": {
          "model_module": "@jupyter-widgets/base",
          "model_name": "LayoutModel",
          "state": {
            "_view_name": "LayoutView",
            "grid_template_rows": null,
            "right": null,
            "justify_content": null,
            "_view_module": "@jupyter-widgets/base",
            "overflow": null,
            "_model_module_version": "1.2.0",
            "_view_count": null,
            "flex_flow": null,
            "width": null,
            "min_width": null,
            "border": null,
            "align_items": null,
            "bottom": null,
            "_model_module": "@jupyter-widgets/base",
            "top": null,
            "grid_column": null,
            "overflow_y": null,
            "overflow_x": null,
            "grid_auto_flow": null,
            "grid_area": null,
            "grid_template_columns": null,
            "flex": null,
            "_model_name": "LayoutModel",
            "justify_items": null,
            "grid_row": null,
            "max_height": null,
            "align_content": null,
            "visibility": null,
            "align_self": null,
            "height": null,
            "min_height": null,
            "padding": null,
            "grid_auto_rows": null,
            "grid_gap": null,
            "max_width": null,
            "order": null,
            "_view_module_version": "1.2.0",
            "grid_template_areas": null,
            "object_position": null,
            "object_fit": null,
            "grid_auto_columns": null,
            "margin": null,
            "display": null,
            "left": null
          }
        },
        "73616c45aae34ef0bb080c2d4cb89268": {
          "model_module": "@jupyter-widgets/controls",
          "model_name": "DescriptionStyleModel",
          "state": {
            "_view_name": "StyleView",
            "_model_name": "DescriptionStyleModel",
            "description_width": "",
            "_view_module": "@jupyter-widgets/base",
            "_model_module_version": "1.5.0",
            "_view_count": null,
            "_view_module_version": "1.2.0",
            "_model_module": "@jupyter-widgets/controls"
          }
        },
        "24a82a038bd944769058737a69a45abe": {
          "model_module": "@jupyter-widgets/base",
          "model_name": "LayoutModel",
          "state": {
            "_view_name": "LayoutView",
            "grid_template_rows": null,
            "right": null,
            "justify_content": null,
            "_view_module": "@jupyter-widgets/base",
            "overflow": null,
            "_model_module_version": "1.2.0",
            "_view_count": null,
            "flex_flow": null,
            "width": null,
            "min_width": null,
            "border": null,
            "align_items": null,
            "bottom": null,
            "_model_module": "@jupyter-widgets/base",
            "top": null,
            "grid_column": null,
            "overflow_y": null,
            "overflow_x": null,
            "grid_auto_flow": null,
            "grid_area": null,
            "grid_template_columns": null,
            "flex": null,
            "_model_name": "LayoutModel",
            "justify_items": null,
            "grid_row": null,
            "max_height": null,
            "align_content": null,
            "visibility": null,
            "align_self": null,
            "height": null,
            "min_height": null,
            "padding": null,
            "grid_auto_rows": null,
            "grid_gap": null,
            "max_width": null,
            "order": null,
            "_view_module_version": "1.2.0",
            "grid_template_areas": null,
            "object_position": null,
            "object_fit": null,
            "grid_auto_columns": null,
            "margin": null,
            "display": null,
            "left": null
          }
        },
        "c2f7b511973148f99537128498a6b2e4": {
          "model_module": "@jupyter-widgets/controls",
          "model_name": "HBoxModel",
          "state": {
            "_view_name": "HBoxView",
            "_dom_classes": [],
            "_model_name": "HBoxModel",
            "_view_module": "@jupyter-widgets/controls",
            "_model_module_version": "1.5.0",
            "_view_count": null,
            "_view_module_version": "1.5.0",
            "box_style": "",
            "layout": "IPY_MODEL_d1d9a9f3cfac42d091bba0e5e7b66b97",
            "_model_module": "@jupyter-widgets/controls",
            "children": [
              "IPY_MODEL_b209e610b1d94c489ab96af57a043234",
              "IPY_MODEL_163b13a29e59460e8ab6344ebffd7ad6"
            ]
          }
        },
        "d1d9a9f3cfac42d091bba0e5e7b66b97": {
          "model_module": "@jupyter-widgets/base",
          "model_name": "LayoutModel",
          "state": {
            "_view_name": "LayoutView",
            "grid_template_rows": null,
            "right": null,
            "justify_content": null,
            "_view_module": "@jupyter-widgets/base",
            "overflow": null,
            "_model_module_version": "1.2.0",
            "_view_count": null,
            "flex_flow": null,
            "width": null,
            "min_width": null,
            "border": null,
            "align_items": null,
            "bottom": null,
            "_model_module": "@jupyter-widgets/base",
            "top": null,
            "grid_column": null,
            "overflow_y": null,
            "overflow_x": null,
            "grid_auto_flow": null,
            "grid_area": null,
            "grid_template_columns": null,
            "flex": null,
            "_model_name": "LayoutModel",
            "justify_items": null,
            "grid_row": null,
            "max_height": null,
            "align_content": null,
            "visibility": null,
            "align_self": null,
            "height": null,
            "min_height": null,
            "padding": null,
            "grid_auto_rows": null,
            "grid_gap": null,
            "max_width": null,
            "order": null,
            "_view_module_version": "1.2.0",
            "grid_template_areas": null,
            "object_position": null,
            "object_fit": null,
            "grid_auto_columns": null,
            "margin": null,
            "display": null,
            "left": null
          }
        },
        "b209e610b1d94c489ab96af57a043234": {
          "model_module": "@jupyter-widgets/controls",
          "model_name": "FloatProgressModel",
          "state": {
            "_view_name": "ProgressView",
            "style": "IPY_MODEL_aaed0344418942a5b8b38fe3d0bb6932",
            "_dom_classes": [],
            "description": "100%",
            "_model_name": "FloatProgressModel",
            "bar_style": "success",
            "max": 6,
            "_view_module": "@jupyter-widgets/controls",
            "_model_module_version": "1.5.0",
            "value": 6,
            "_view_count": null,
            "_view_module_version": "1.5.0",
            "orientation": "horizontal",
            "min": 0,
            "description_tooltip": null,
            "_model_module": "@jupyter-widgets/controls",
            "layout": "IPY_MODEL_472ec57eaf494cebb1eb4845aaa9a975"
          }
        },
        "163b13a29e59460e8ab6344ebffd7ad6": {
          "model_module": "@jupyter-widgets/controls",
          "model_name": "HTMLModel",
          "state": {
            "_view_name": "HTMLView",
            "style": "IPY_MODEL_22a05df29dac4c408c82f9bb3589c0e4",
            "_dom_classes": [],
            "description": "",
            "_model_name": "HTMLModel",
            "placeholder": "​",
            "_view_module": "@jupyter-widgets/controls",
            "_model_module_version": "1.5.0",
            "value": " 6/6 [00:02&lt;00:00,  2.62it/s]",
            "_view_count": null,
            "_view_module_version": "1.5.0",
            "description_tooltip": null,
            "_model_module": "@jupyter-widgets/controls",
            "layout": "IPY_MODEL_7a22700ee1f64f36b2590d9319dbbaf7"
          }
        },
        "aaed0344418942a5b8b38fe3d0bb6932": {
          "model_module": "@jupyter-widgets/controls",
          "model_name": "ProgressStyleModel",
          "state": {
            "_view_name": "StyleView",
            "_model_name": "ProgressStyleModel",
            "description_width": "initial",
            "_view_module": "@jupyter-widgets/base",
            "_model_module_version": "1.5.0",
            "_view_count": null,
            "_view_module_version": "1.2.0",
            "bar_color": null,
            "_model_module": "@jupyter-widgets/controls"
          }
        },
        "472ec57eaf494cebb1eb4845aaa9a975": {
          "model_module": "@jupyter-widgets/base",
          "model_name": "LayoutModel",
          "state": {
            "_view_name": "LayoutView",
            "grid_template_rows": null,
            "right": null,
            "justify_content": null,
            "_view_module": "@jupyter-widgets/base",
            "overflow": null,
            "_model_module_version": "1.2.0",
            "_view_count": null,
            "flex_flow": null,
            "width": null,
            "min_width": null,
            "border": null,
            "align_items": null,
            "bottom": null,
            "_model_module": "@jupyter-widgets/base",
            "top": null,
            "grid_column": null,
            "overflow_y": null,
            "overflow_x": null,
            "grid_auto_flow": null,
            "grid_area": null,
            "grid_template_columns": null,
            "flex": null,
            "_model_name": "LayoutModel",
            "justify_items": null,
            "grid_row": null,
            "max_height": null,
            "align_content": null,
            "visibility": null,
            "align_self": null,
            "height": null,
            "min_height": null,
            "padding": null,
            "grid_auto_rows": null,
            "grid_gap": null,
            "max_width": null,
            "order": null,
            "_view_module_version": "1.2.0",
            "grid_template_areas": null,
            "object_position": null,
            "object_fit": null,
            "grid_auto_columns": null,
            "margin": null,
            "display": null,
            "left": null
          }
        },
        "22a05df29dac4c408c82f9bb3589c0e4": {
          "model_module": "@jupyter-widgets/controls",
          "model_name": "DescriptionStyleModel",
          "state": {
            "_view_name": "StyleView",
            "_model_name": "DescriptionStyleModel",
            "description_width": "",
            "_view_module": "@jupyter-widgets/base",
            "_model_module_version": "1.5.0",
            "_view_count": null,
            "_view_module_version": "1.2.0",
            "_model_module": "@jupyter-widgets/controls"
          }
        },
        "7a22700ee1f64f36b2590d9319dbbaf7": {
          "model_module": "@jupyter-widgets/base",
          "model_name": "LayoutModel",
          "state": {
            "_view_name": "LayoutView",
            "grid_template_rows": null,
            "right": null,
            "justify_content": null,
            "_view_module": "@jupyter-widgets/base",
            "overflow": null,
            "_model_module_version": "1.2.0",
            "_view_count": null,
            "flex_flow": null,
            "width": null,
            "min_width": null,
            "border": null,
            "align_items": null,
            "bottom": null,
            "_model_module": "@jupyter-widgets/base",
            "top": null,
            "grid_column": null,
            "overflow_y": null,
            "overflow_x": null,
            "grid_auto_flow": null,
            "grid_area": null,
            "grid_template_columns": null,
            "flex": null,
            "_model_name": "LayoutModel",
            "justify_items": null,
            "grid_row": null,
            "max_height": null,
            "align_content": null,
            "visibility": null,
            "align_self": null,
            "height": null,
            "min_height": null,
            "padding": null,
            "grid_auto_rows": null,
            "grid_gap": null,
            "max_width": null,
            "order": null,
            "_view_module_version": "1.2.0",
            "grid_template_areas": null,
            "object_position": null,
            "object_fit": null,
            "grid_auto_columns": null,
            "margin": null,
            "display": null,
            "left": null
          }
        },
        "833e54cdcfef452d908f349fb0088eda": {
          "model_module": "@jupyter-widgets/controls",
          "model_name": "HBoxModel",
          "state": {
            "_view_name": "HBoxView",
            "_dom_classes": [],
            "_model_name": "HBoxModel",
            "_view_module": "@jupyter-widgets/controls",
            "_model_module_version": "1.5.0",
            "_view_count": null,
            "_view_module_version": "1.5.0",
            "box_style": "",
            "layout": "IPY_MODEL_d67feba3ef5248a3aeb27ebfc5737bc5",
            "_model_module": "@jupyter-widgets/controls",
            "children": [
              "IPY_MODEL_34b0260386b24e86b854465787f0a344",
              "IPY_MODEL_26fe6d3412b943488f3aa49ce928e29c"
            ]
          }
        },
        "d67feba3ef5248a3aeb27ebfc5737bc5": {
          "model_module": "@jupyter-widgets/base",
          "model_name": "LayoutModel",
          "state": {
            "_view_name": "LayoutView",
            "grid_template_rows": null,
            "right": null,
            "justify_content": null,
            "_view_module": "@jupyter-widgets/base",
            "overflow": null,
            "_model_module_version": "1.2.0",
            "_view_count": null,
            "flex_flow": null,
            "width": null,
            "min_width": null,
            "border": null,
            "align_items": null,
            "bottom": null,
            "_model_module": "@jupyter-widgets/base",
            "top": null,
            "grid_column": null,
            "overflow_y": null,
            "overflow_x": null,
            "grid_auto_flow": null,
            "grid_area": null,
            "grid_template_columns": null,
            "flex": null,
            "_model_name": "LayoutModel",
            "justify_items": null,
            "grid_row": null,
            "max_height": null,
            "align_content": null,
            "visibility": null,
            "align_self": null,
            "height": null,
            "min_height": null,
            "padding": null,
            "grid_auto_rows": null,
            "grid_gap": null,
            "max_width": null,
            "order": null,
            "_view_module_version": "1.2.0",
            "grid_template_areas": null,
            "object_position": null,
            "object_fit": null,
            "grid_auto_columns": null,
            "margin": null,
            "display": null,
            "left": null
          }
        },
        "34b0260386b24e86b854465787f0a344": {
          "model_module": "@jupyter-widgets/controls",
          "model_name": "FloatProgressModel",
          "state": {
            "_view_name": "ProgressView",
            "style": "IPY_MODEL_07ee2e0f18b04321840bd91aff2ff878",
            "_dom_classes": [],
            "description": "100%",
            "_model_name": "FloatProgressModel",
            "bar_style": "success",
            "max": 1,
            "_view_module": "@jupyter-widgets/controls",
            "_model_module_version": "1.5.0",
            "value": 1,
            "_view_count": null,
            "_view_module_version": "1.5.0",
            "orientation": "horizontal",
            "min": 0,
            "description_tooltip": null,
            "_model_module": "@jupyter-widgets/controls",
            "layout": "IPY_MODEL_2d9b75ed32de4fe99b672e50c42f84eb"
          }
        },
        "26fe6d3412b943488f3aa49ce928e29c": {
          "model_module": "@jupyter-widgets/controls",
          "model_name": "HTMLModel",
          "state": {
            "_view_name": "HTMLView",
            "style": "IPY_MODEL_1162646177874245be82e29f6a1cc42d",
            "_dom_classes": [],
            "description": "",
            "_model_name": "HTMLModel",
            "placeholder": "​",
            "_view_module": "@jupyter-widgets/controls",
            "_model_module_version": "1.5.0",
            "value": " 1/1 [5:56:21&lt;00:00, 21381.95s/it]",
            "_view_count": null,
            "_view_module_version": "1.5.0",
            "description_tooltip": null,
            "_model_module": "@jupyter-widgets/controls",
            "layout": "IPY_MODEL_feffea21751d4bb2b8726a74bdffc4b0"
          }
        },
        "07ee2e0f18b04321840bd91aff2ff878": {
          "model_module": "@jupyter-widgets/controls",
          "model_name": "ProgressStyleModel",
          "state": {
            "_view_name": "StyleView",
            "_model_name": "ProgressStyleModel",
            "description_width": "initial",
            "_view_module": "@jupyter-widgets/base",
            "_model_module_version": "1.5.0",
            "_view_count": null,
            "_view_module_version": "1.2.0",
            "bar_color": null,
            "_model_module": "@jupyter-widgets/controls"
          }
        },
        "2d9b75ed32de4fe99b672e50c42f84eb": {
          "model_module": "@jupyter-widgets/base",
          "model_name": "LayoutModel",
          "state": {
            "_view_name": "LayoutView",
            "grid_template_rows": null,
            "right": null,
            "justify_content": null,
            "_view_module": "@jupyter-widgets/base",
            "overflow": null,
            "_model_module_version": "1.2.0",
            "_view_count": null,
            "flex_flow": null,
            "width": null,
            "min_width": null,
            "border": null,
            "align_items": null,
            "bottom": null,
            "_model_module": "@jupyter-widgets/base",
            "top": null,
            "grid_column": null,
            "overflow_y": null,
            "overflow_x": null,
            "grid_auto_flow": null,
            "grid_area": null,
            "grid_template_columns": null,
            "flex": null,
            "_model_name": "LayoutModel",
            "justify_items": null,
            "grid_row": null,
            "max_height": null,
            "align_content": null,
            "visibility": null,
            "align_self": null,
            "height": null,
            "min_height": null,
            "padding": null,
            "grid_auto_rows": null,
            "grid_gap": null,
            "max_width": null,
            "order": null,
            "_view_module_version": "1.2.0",
            "grid_template_areas": null,
            "object_position": null,
            "object_fit": null,
            "grid_auto_columns": null,
            "margin": null,
            "display": null,
            "left": null
          }
        },
        "1162646177874245be82e29f6a1cc42d": {
          "model_module": "@jupyter-widgets/controls",
          "model_name": "DescriptionStyleModel",
          "state": {
            "_view_name": "StyleView",
            "_model_name": "DescriptionStyleModel",
            "description_width": "",
            "_view_module": "@jupyter-widgets/base",
            "_model_module_version": "1.5.0",
            "_view_count": null,
            "_view_module_version": "1.2.0",
            "_model_module": "@jupyter-widgets/controls"
          }
        },
        "feffea21751d4bb2b8726a74bdffc4b0": {
          "model_module": "@jupyter-widgets/base",
          "model_name": "LayoutModel",
          "state": {
            "_view_name": "LayoutView",
            "grid_template_rows": null,
            "right": null,
            "justify_content": null,
            "_view_module": "@jupyter-widgets/base",
            "overflow": null,
            "_model_module_version": "1.2.0",
            "_view_count": null,
            "flex_flow": null,
            "width": null,
            "min_width": null,
            "border": null,
            "align_items": null,
            "bottom": null,
            "_model_module": "@jupyter-widgets/base",
            "top": null,
            "grid_column": null,
            "overflow_y": null,
            "overflow_x": null,
            "grid_auto_flow": null,
            "grid_area": null,
            "grid_template_columns": null,
            "flex": null,
            "_model_name": "LayoutModel",
            "justify_items": null,
            "grid_row": null,
            "max_height": null,
            "align_content": null,
            "visibility": null,
            "align_self": null,
            "height": null,
            "min_height": null,
            "padding": null,
            "grid_auto_rows": null,
            "grid_gap": null,
            "max_width": null,
            "order": null,
            "_view_module_version": "1.2.0",
            "grid_template_areas": null,
            "object_position": null,
            "object_fit": null,
            "grid_auto_columns": null,
            "margin": null,
            "display": null,
            "left": null
          }
        },
        "75947890c26340a5b9721893ef76c231": {
          "model_module": "@jupyter-widgets/controls",
          "model_name": "HBoxModel",
          "state": {
            "_view_name": "HBoxView",
            "_dom_classes": [],
            "_model_name": "HBoxModel",
            "_view_module": "@jupyter-widgets/controls",
            "_model_module_version": "1.5.0",
            "_view_count": null,
            "_view_module_version": "1.5.0",
            "box_style": "",
            "layout": "IPY_MODEL_d183bdcafa234e43b0c126f6cdc7570b",
            "_model_module": "@jupyter-widgets/controls",
            "children": [
              "IPY_MODEL_7f72e1c0604d4215b350bc3ce9ef2951",
              "IPY_MODEL_eeac16f812af49b5b8a97192ab8f73d7"
            ]
          }
        },
        "d183bdcafa234e43b0c126f6cdc7570b": {
          "model_module": "@jupyter-widgets/base",
          "model_name": "LayoutModel",
          "state": {
            "_view_name": "LayoutView",
            "grid_template_rows": null,
            "right": null,
            "justify_content": null,
            "_view_module": "@jupyter-widgets/base",
            "overflow": null,
            "_model_module_version": "1.2.0",
            "_view_count": null,
            "flex_flow": null,
            "width": null,
            "min_width": null,
            "border": null,
            "align_items": null,
            "bottom": null,
            "_model_module": "@jupyter-widgets/base",
            "top": null,
            "grid_column": null,
            "overflow_y": null,
            "overflow_x": null,
            "grid_auto_flow": null,
            "grid_area": null,
            "grid_template_columns": null,
            "flex": null,
            "_model_name": "LayoutModel",
            "justify_items": null,
            "grid_row": null,
            "max_height": null,
            "align_content": null,
            "visibility": null,
            "align_self": null,
            "height": null,
            "min_height": null,
            "padding": null,
            "grid_auto_rows": null,
            "grid_gap": null,
            "max_width": null,
            "order": null,
            "_view_module_version": "1.2.0",
            "grid_template_areas": null,
            "object_position": null,
            "object_fit": null,
            "grid_auto_columns": null,
            "margin": null,
            "display": null,
            "left": null
          }
        },
        "7f72e1c0604d4215b350bc3ce9ef2951": {
          "model_module": "@jupyter-widgets/controls",
          "model_name": "FloatProgressModel",
          "state": {
            "_view_name": "ProgressView",
            "style": "IPY_MODEL_f4106569808c42c4be3ff9f4e1ebcffa",
            "_dom_classes": [],
            "description": "  0%",
            "_model_name": "FloatProgressModel",
            "bar_style": "danger",
            "max": 1,
            "_view_module": "@jupyter-widgets/controls",
            "_model_module_version": "1.5.0",
            "value": 0,
            "_view_count": null,
            "_view_module_version": "1.5.0",
            "orientation": "horizontal",
            "min": 0,
            "description_tooltip": null,
            "_model_module": "@jupyter-widgets/controls",
            "layout": "IPY_MODEL_a36e45fc3e0a4c44be9486903377d906"
          }
        },
        "eeac16f812af49b5b8a97192ab8f73d7": {
          "model_module": "@jupyter-widgets/controls",
          "model_name": "HTMLModel",
          "state": {
            "_view_name": "HTMLView",
            "style": "IPY_MODEL_94621ee5aa6049efa2a5ecf4514207cc",
            "_dom_classes": [],
            "description": "",
            "_model_name": "HTMLModel",
            "placeholder": "​",
            "_view_module": "@jupyter-widgets/controls",
            "_model_module_version": "1.5.0",
            "value": " 0/1 [2:50:36&lt;?, ?it/s]",
            "_view_count": null,
            "_view_module_version": "1.5.0",
            "description_tooltip": null,
            "_model_module": "@jupyter-widgets/controls",
            "layout": "IPY_MODEL_22838e80b4594420934d2e148dd8b694"
          }
        },
        "f4106569808c42c4be3ff9f4e1ebcffa": {
          "model_module": "@jupyter-widgets/controls",
          "model_name": "ProgressStyleModel",
          "state": {
            "_view_name": "StyleView",
            "_model_name": "ProgressStyleModel",
            "description_width": "initial",
            "_view_module": "@jupyter-widgets/base",
            "_model_module_version": "1.5.0",
            "_view_count": null,
            "_view_module_version": "1.2.0",
            "bar_color": null,
            "_model_module": "@jupyter-widgets/controls"
          }
        },
        "a36e45fc3e0a4c44be9486903377d906": {
          "model_module": "@jupyter-widgets/base",
          "model_name": "LayoutModel",
          "state": {
            "_view_name": "LayoutView",
            "grid_template_rows": null,
            "right": null,
            "justify_content": null,
            "_view_module": "@jupyter-widgets/base",
            "overflow": null,
            "_model_module_version": "1.2.0",
            "_view_count": null,
            "flex_flow": null,
            "width": null,
            "min_width": null,
            "border": null,
            "align_items": null,
            "bottom": null,
            "_model_module": "@jupyter-widgets/base",
            "top": null,
            "grid_column": null,
            "overflow_y": null,
            "overflow_x": null,
            "grid_auto_flow": null,
            "grid_area": null,
            "grid_template_columns": null,
            "flex": null,
            "_model_name": "LayoutModel",
            "justify_items": null,
            "grid_row": null,
            "max_height": null,
            "align_content": null,
            "visibility": null,
            "align_self": null,
            "height": null,
            "min_height": null,
            "padding": null,
            "grid_auto_rows": null,
            "grid_gap": null,
            "max_width": null,
            "order": null,
            "_view_module_version": "1.2.0",
            "grid_template_areas": null,
            "object_position": null,
            "object_fit": null,
            "grid_auto_columns": null,
            "margin": null,
            "display": null,
            "left": null
          }
        },
        "94621ee5aa6049efa2a5ecf4514207cc": {
          "model_module": "@jupyter-widgets/controls",
          "model_name": "DescriptionStyleModel",
          "state": {
            "_view_name": "StyleView",
            "_model_name": "DescriptionStyleModel",
            "description_width": "",
            "_view_module": "@jupyter-widgets/base",
            "_model_module_version": "1.5.0",
            "_view_count": null,
            "_view_module_version": "1.2.0",
            "_model_module": "@jupyter-widgets/controls"
          }
        },
        "22838e80b4594420934d2e148dd8b694": {
          "model_module": "@jupyter-widgets/base",
          "model_name": "LayoutModel",
          "state": {
            "_view_name": "LayoutView",
            "grid_template_rows": null,
            "right": null,
            "justify_content": null,
            "_view_module": "@jupyter-widgets/base",
            "overflow": null,
            "_model_module_version": "1.2.0",
            "_view_count": null,
            "flex_flow": null,
            "width": null,
            "min_width": null,
            "border": null,
            "align_items": null,
            "bottom": null,
            "_model_module": "@jupyter-widgets/base",
            "top": null,
            "grid_column": null,
            "overflow_y": null,
            "overflow_x": null,
            "grid_auto_flow": null,
            "grid_area": null,
            "grid_template_columns": null,
            "flex": null,
            "_model_name": "LayoutModel",
            "justify_items": null,
            "grid_row": null,
            "max_height": null,
            "align_content": null,
            "visibility": null,
            "align_self": null,
            "height": null,
            "min_height": null,
            "padding": null,
            "grid_auto_rows": null,
            "grid_gap": null,
            "max_width": null,
            "order": null,
            "_view_module_version": "1.2.0",
            "grid_template_areas": null,
            "object_position": null,
            "object_fit": null,
            "grid_auto_columns": null,
            "margin": null,
            "display": null,
            "left": null
          }
        }
      }
    }
  },
  "cells": [
    {
      "cell_type": "code",
      "metadata": {
        "id": "PDD-sP6BIkwh",
        "colab_type": "code",
        "outputId": "2ad9bbfc-e419-4c0c-cee3-3a623421d1dd",
        "colab": {
          "base_uri": "https://localhost:8080/",
          "height": 35
        }
      },
      "source": [
        "from google.colab import drive\n",
        "drive.mount('/content/drive')"
      ],
      "execution_count": 26,
      "outputs": [
        {
          "output_type": "stream",
          "text": [
            "Drive already mounted at /content/drive; to attempt to forcibly remount, call drive.mount(\"/content/drive\", force_remount=True).\n"
          ],
          "name": "stdout"
        }
      ]
    },
    {
      "cell_type": "code",
      "metadata": {
        "scrolled": true,
        "id": "hbzaiL3tIhkF",
        "colab_type": "code",
        "colab": {}
      },
      "source": [
        "import numpy as np\n",
        "import pandas as pd"
      ],
      "execution_count": 0,
      "outputs": []
    },
    {
      "cell_type": "code",
      "metadata": {
        "scrolled": true,
        "id": "lGcA_jj7Ihkp",
        "colab_type": "code",
        "colab": {}
      },
      "source": [
        "%matplotlib inline\n",
        "import matplotlib\n",
        "import matplotlib.pyplot as plt"
      ],
      "execution_count": 0,
      "outputs": []
    },
    {
      "cell_type": "code",
      "metadata": {
        "scrolled": true,
        "id": "Gv18VdmlIhlS",
        "colab_type": "code",
        "colab": {}
      },
      "source": [
        "from tqdm.notebook import tqdm"
      ],
      "execution_count": 0,
      "outputs": []
    },
    {
      "cell_type": "code",
      "metadata": {
        "scrolled": true,
        "id": "h863d6E8Ihlv",
        "colab_type": "code",
        "colab": {}
      },
      "source": [
        "def flat_dict(x):\n",
        "    if len(x) == 0:\n",
        "        return dict()\n",
        "    return {k: np.asarray([e[k] for e in x]) for k in x[0].keys()}"
      ],
      "execution_count": 0,
      "outputs": []
    },
    {
      "cell_type": "code",
      "metadata": {
        "scrolled": true,
        "id": "2_7JB9HOIhmM",
        "colab_type": "code",
        "colab": {}
      },
      "source": [
        "from urllib.parse import urlparse\n",
        "from urllib.request import urlretrieve\n",
        "import os\n",
        "\n",
        "def load_data(url, **kwargs):\n",
        "    path = urlparse(url).path\n",
        "    filename = os.path.basename(path)\n",
        "    if not os.path.exists(filename):\n",
        "        urlretrieve(url, filename)\n",
        "    return pd.read_csv(filename, **kwargs)"
      ],
      "execution_count": 0,
      "outputs": []
    },
    {
      "cell_type": "code",
      "metadata": {
        "scrolled": true,
        "id": "LlegovnuIhmi",
        "colab_type": "code",
        "colab": {}
      },
      "source": [
        "data = load_data('https://github.com/hse-aml/hadron-collider-machine-learning/releases/download/Week_2/training.csv.gz')"
      ],
      "execution_count": 0,
      "outputs": []
    },
    {
      "cell_type": "code",
      "metadata": {
        "scrolled": true,
        "id": "NXIOaNQlIhmw",
        "colab_type": "code",
        "outputId": "44426127-075a-4773-99ca-d1467610e4f5",
        "colab": {
          "base_uri": "https://localhost:8080/",
          "height": 226
        }
      },
      "source": [
        "data.head()"
      ],
      "execution_count": 33,
      "outputs": [
        {
          "output_type": "execute_result",
          "data": {
            "text/html": [
              "<div>\n",
              "<style scoped>\n",
              "    .dataframe tbody tr th:only-of-type {\n",
              "        vertical-align: middle;\n",
              "    }\n",
              "\n",
              "    .dataframe tbody tr th {\n",
              "        vertical-align: top;\n",
              "    }\n",
              "\n",
              "    .dataframe thead th {\n",
              "        text-align: right;\n",
              "    }\n",
              "</style>\n",
              "<table border=\"1\" class=\"dataframe\">\n",
              "  <thead>\n",
              "    <tr style=\"text-align: right;\">\n",
              "      <th></th>\n",
              "      <th>TrackP</th>\n",
              "      <th>TrackNDoFSubdetector2</th>\n",
              "      <th>BremDLLbeElectron</th>\n",
              "      <th>MuonLooseFlag</th>\n",
              "      <th>FlagSpd</th>\n",
              "      <th>SpdE</th>\n",
              "      <th>EcalDLLbeElectron</th>\n",
              "      <th>DLLmuon</th>\n",
              "      <th>RICHpFlagElectron</th>\n",
              "      <th>EcalDLLbeMuon</th>\n",
              "      <th>TrackQualitySubdetector2</th>\n",
              "      <th>FlagPrs</th>\n",
              "      <th>DLLelectron</th>\n",
              "      <th>DLLkaon</th>\n",
              "      <th>EcalE</th>\n",
              "      <th>TrackQualityPerNDoF</th>\n",
              "      <th>DLLproton</th>\n",
              "      <th>PrsDLLbeElectron</th>\n",
              "      <th>FlagRICH1</th>\n",
              "      <th>MuonLLbeBCK</th>\n",
              "      <th>FlagHcal</th>\n",
              "      <th>EcalShowerLongitudinalParameter</th>\n",
              "      <th>Calo2dFitQuality</th>\n",
              "      <th>TrackPt</th>\n",
              "      <th>TrackDistanceToZ</th>\n",
              "      <th>RICHpFlagPion</th>\n",
              "      <th>HcalDLLbeElectron</th>\n",
              "      <th>Calo3dFitQuality</th>\n",
              "      <th>FlagEcal</th>\n",
              "      <th>MuonLLbeMuon</th>\n",
              "      <th>TrackNDoFSubdetector1</th>\n",
              "      <th>RICHpFlagProton</th>\n",
              "      <th>RICHpFlagKaon</th>\n",
              "      <th>GhostProbability</th>\n",
              "      <th>TrackQualitySubdetector1</th>\n",
              "      <th>Label</th>\n",
              "      <th>RICH_DLLbeBCK</th>\n",
              "      <th>FlagRICH2</th>\n",
              "      <th>FlagBrem</th>\n",
              "      <th>HcalDLLbeMuon</th>\n",
              "      <th>TrackNDoF</th>\n",
              "      <th>RICHpFlagMuon</th>\n",
              "      <th>RICH_DLLbeKaon</th>\n",
              "      <th>RICH_DLLbeElectron</th>\n",
              "      <th>HcalE</th>\n",
              "      <th>MuonFlag</th>\n",
              "      <th>FlagMuon</th>\n",
              "      <th>PrsE</th>\n",
              "      <th>RICH_DLLbeMuon</th>\n",
              "      <th>RICH_DLLbeProton</th>\n",
              "    </tr>\n",
              "  </thead>\n",
              "  <tbody>\n",
              "    <tr>\n",
              "      <th>0</th>\n",
              "      <td>74791.156263</td>\n",
              "      <td>15.0</td>\n",
              "      <td>0.232275</td>\n",
              "      <td>1.0</td>\n",
              "      <td>1.0</td>\n",
              "      <td>3.2</td>\n",
              "      <td>-2.505719</td>\n",
              "      <td>6.604153</td>\n",
              "      <td>1.0</td>\n",
              "      <td>1.929960</td>\n",
              "      <td>17.585680</td>\n",
              "      <td>1.0</td>\n",
              "      <td>-6.411697</td>\n",
              "      <td>-7.213295</td>\n",
              "      <td>0.000001</td>\n",
              "      <td>1.467550</td>\n",
              "      <td>-26.667494</td>\n",
              "      <td>-2.730674</td>\n",
              "      <td>1.0</td>\n",
              "      <td>-5.152923</td>\n",
              "      <td>1.0</td>\n",
              "      <td>-999.000000</td>\n",
              "      <td>19.954819</td>\n",
              "      <td>3141.930677</td>\n",
              "      <td>0.613640</td>\n",
              "      <td>1.0</td>\n",
              "      <td>-0.909544</td>\n",
              "      <td>-999.000000</td>\n",
              "      <td>1.0</td>\n",
              "      <td>-0.661823</td>\n",
              "      <td>4.0</td>\n",
              "      <td>1.0</td>\n",
              "      <td>1.0</td>\n",
              "      <td>0.018913</td>\n",
              "      <td>5.366212</td>\n",
              "      <td>Muon</td>\n",
              "      <td>-21.913000</td>\n",
              "      <td>1.0</td>\n",
              "      <td>1.0</td>\n",
              "      <td>1.015345</td>\n",
              "      <td>28.0</td>\n",
              "      <td>1.0</td>\n",
              "      <td>-7.213300</td>\n",
              "      <td>-0.280200</td>\n",
              "      <td>5586.589846</td>\n",
              "      <td>1.0</td>\n",
              "      <td>1.0</td>\n",
              "      <td>10.422315</td>\n",
              "      <td>-2.081143e-07</td>\n",
              "      <td>-24.824400</td>\n",
              "    </tr>\n",
              "    <tr>\n",
              "      <th>1</th>\n",
              "      <td>2738.489989</td>\n",
              "      <td>15.0</td>\n",
              "      <td>-0.357748</td>\n",
              "      <td>0.0</td>\n",
              "      <td>1.0</td>\n",
              "      <td>3.2</td>\n",
              "      <td>1.864351</td>\n",
              "      <td>0.263651</td>\n",
              "      <td>1.0</td>\n",
              "      <td>-2.061959</td>\n",
              "      <td>20.230680</td>\n",
              "      <td>1.0</td>\n",
              "      <td>5.453014</td>\n",
              "      <td>0.000006</td>\n",
              "      <td>1531.542000</td>\n",
              "      <td>3.570540</td>\n",
              "      <td>-0.711194</td>\n",
              "      <td>1.773806</td>\n",
              "      <td>1.0</td>\n",
              "      <td>-999.000000</td>\n",
              "      <td>0.0</td>\n",
              "      <td>33.187644</td>\n",
              "      <td>0.037601</td>\n",
              "      <td>199.573653</td>\n",
              "      <td>0.465480</td>\n",
              "      <td>1.0</td>\n",
              "      <td>0.434909</td>\n",
              "      <td>13.667366</td>\n",
              "      <td>1.0</td>\n",
              "      <td>-999.000000</td>\n",
              "      <td>10.0</td>\n",
              "      <td>0.0</td>\n",
              "      <td>0.0</td>\n",
              "      <td>0.351206</td>\n",
              "      <td>9.144749</td>\n",
              "      <td>Ghost</td>\n",
              "      <td>-0.703617</td>\n",
              "      <td>0.0</td>\n",
              "      <td>1.0</td>\n",
              "      <td>-2.394644</td>\n",
              "      <td>32.0</td>\n",
              "      <td>1.0</td>\n",
              "      <td>-0.324317</td>\n",
              "      <td>1.707283</td>\n",
              "      <td>-0.000007</td>\n",
              "      <td>0.0</td>\n",
              "      <td>1.0</td>\n",
              "      <td>43.334935</td>\n",
              "      <td>2.771583e+00</td>\n",
              "      <td>-0.648017</td>\n",
              "    </tr>\n",
              "    <tr>\n",
              "      <th>2</th>\n",
              "      <td>2161.409908</td>\n",
              "      <td>17.0</td>\n",
              "      <td>-999.000000</td>\n",
              "      <td>0.0</td>\n",
              "      <td>0.0</td>\n",
              "      <td>-999.0</td>\n",
              "      <td>-999.000000</td>\n",
              "      <td>-999.000000</td>\n",
              "      <td>0.0</td>\n",
              "      <td>-999.000000</td>\n",
              "      <td>11.619878</td>\n",
              "      <td>0.0</td>\n",
              "      <td>-999.000000</td>\n",
              "      <td>-999.000000</td>\n",
              "      <td>-999.000000</td>\n",
              "      <td>0.826442</td>\n",
              "      <td>-999.000000</td>\n",
              "      <td>-999.000000</td>\n",
              "      <td>0.0</td>\n",
              "      <td>-999.000000</td>\n",
              "      <td>0.0</td>\n",
              "      <td>-999.000000</td>\n",
              "      <td>-999.000000</td>\n",
              "      <td>94.829418</td>\n",
              "      <td>0.241891</td>\n",
              "      <td>0.0</td>\n",
              "      <td>-999.000000</td>\n",
              "      <td>-999.000000</td>\n",
              "      <td>0.0</td>\n",
              "      <td>-999.000000</td>\n",
              "      <td>5.0</td>\n",
              "      <td>0.0</td>\n",
              "      <td>0.0</td>\n",
              "      <td>0.195717</td>\n",
              "      <td>1.459992</td>\n",
              "      <td>Ghost</td>\n",
              "      <td>-999.000000</td>\n",
              "      <td>0.0</td>\n",
              "      <td>0.0</td>\n",
              "      <td>-999.000000</td>\n",
              "      <td>27.0</td>\n",
              "      <td>0.0</td>\n",
              "      <td>-999.000000</td>\n",
              "      <td>-999.000000</td>\n",
              "      <td>-999.000000</td>\n",
              "      <td>0.0</td>\n",
              "      <td>0.0</td>\n",
              "      <td>-999.000000</td>\n",
              "      <td>-9.990000e+02</td>\n",
              "      <td>-999.000000</td>\n",
              "    </tr>\n",
              "    <tr>\n",
              "      <th>3</th>\n",
              "      <td>15277.730490</td>\n",
              "      <td>20.0</td>\n",
              "      <td>-0.638984</td>\n",
              "      <td>0.0</td>\n",
              "      <td>1.0</td>\n",
              "      <td>3.2</td>\n",
              "      <td>-2.533918</td>\n",
              "      <td>-8.724949</td>\n",
              "      <td>1.0</td>\n",
              "      <td>-3.253981</td>\n",
              "      <td>15.336305</td>\n",
              "      <td>1.0</td>\n",
              "      <td>-10.616585</td>\n",
              "      <td>-39.447507</td>\n",
              "      <td>4385.688000</td>\n",
              "      <td>1.076721</td>\n",
              "      <td>-29.291509</td>\n",
              "      <td>-3.053104</td>\n",
              "      <td>1.0</td>\n",
              "      <td>-999.000000</td>\n",
              "      <td>1.0</td>\n",
              "      <td>231.190351</td>\n",
              "      <td>2.839508</td>\n",
              "      <td>808.631064</td>\n",
              "      <td>0.680705</td>\n",
              "      <td>1.0</td>\n",
              "      <td>-1.504160</td>\n",
              "      <td>1939.259641</td>\n",
              "      <td>1.0</td>\n",
              "      <td>-999.000000</td>\n",
              "      <td>9.0</td>\n",
              "      <td>0.0</td>\n",
              "      <td>1.0</td>\n",
              "      <td>0.003972</td>\n",
              "      <td>22.950573</td>\n",
              "      <td>Pion</td>\n",
              "      <td>-47.223118</td>\n",
              "      <td>1.0</td>\n",
              "      <td>1.0</td>\n",
              "      <td>-0.321242</td>\n",
              "      <td>36.0</td>\n",
              "      <td>1.0</td>\n",
              "      <td>-35.202221</td>\n",
              "      <td>-14.742319</td>\n",
              "      <td>4482.803707</td>\n",
              "      <td>0.0</td>\n",
              "      <td>1.0</td>\n",
              "      <td>2.194175</td>\n",
              "      <td>-3.070819e+00</td>\n",
              "      <td>-29.291519</td>\n",
              "    </tr>\n",
              "    <tr>\n",
              "      <th>4</th>\n",
              "      <td>7563.700195</td>\n",
              "      <td>19.0</td>\n",
              "      <td>-0.638962</td>\n",
              "      <td>0.0</td>\n",
              "      <td>1.0</td>\n",
              "      <td>3.2</td>\n",
              "      <td>-2.087146</td>\n",
              "      <td>-7.060422</td>\n",
              "      <td>1.0</td>\n",
              "      <td>-0.995816</td>\n",
              "      <td>10.954629</td>\n",
              "      <td>1.0</td>\n",
              "      <td>-8.144945</td>\n",
              "      <td>26.050386</td>\n",
              "      <td>1220.930044</td>\n",
              "      <td>0.439767</td>\n",
              "      <td>21.386587</td>\n",
              "      <td>-2.730648</td>\n",
              "      <td>1.0</td>\n",
              "      <td>-999.000000</td>\n",
              "      <td>1.0</td>\n",
              "      <td>-794.866475</td>\n",
              "      <td>1.209193</td>\n",
              "      <td>1422.569214</td>\n",
              "      <td>0.575066</td>\n",
              "      <td>1.0</td>\n",
              "      <td>-1.576249</td>\n",
              "      <td>1867.165142</td>\n",
              "      <td>1.0</td>\n",
              "      <td>-999.000000</td>\n",
              "      <td>5.0</td>\n",
              "      <td>0.0</td>\n",
              "      <td>0.0</td>\n",
              "      <td>0.015232</td>\n",
              "      <td>3.516173</td>\n",
              "      <td>Proton</td>\n",
              "      <td>15.304688</td>\n",
              "      <td>0.0</td>\n",
              "      <td>1.0</td>\n",
              "      <td>-1.038026</td>\n",
              "      <td>33.0</td>\n",
              "      <td>1.0</td>\n",
              "      <td>25.084287</td>\n",
              "      <td>-10.272412</td>\n",
              "      <td>5107.554680</td>\n",
              "      <td>0.0</td>\n",
              "      <td>1.0</td>\n",
              "      <td>0.000015</td>\n",
              "      <td>-5.373712e+00</td>\n",
              "      <td>23.653087</td>\n",
              "    </tr>\n",
              "  </tbody>\n",
              "</table>\n",
              "</div>"
            ],
            "text/plain": [
              "         TrackP  TrackNDoFSubdetector2  ...  RICH_DLLbeMuon  RICH_DLLbeProton\n",
              "0  74791.156263                   15.0  ...   -2.081143e-07        -24.824400\n",
              "1   2738.489989                   15.0  ...    2.771583e+00         -0.648017\n",
              "2   2161.409908                   17.0  ...   -9.990000e+02       -999.000000\n",
              "3  15277.730490                   20.0  ...   -3.070819e+00        -29.291519\n",
              "4   7563.700195                   19.0  ...   -5.373712e+00         23.653087\n",
              "\n",
              "[5 rows x 50 columns]"
            ]
          },
          "metadata": {
            "tags": []
          },
          "execution_count": 33
        }
      ]
    },
    {
      "cell_type": "markdown",
      "metadata": {
        "id": "dKgf2iTeIhnC",
        "colab_type": "text"
      },
      "source": [
        "In this programming assignment you will train a classifier to identify type of a particle. There are six particle types: electron, proton, muon, kaon, pion and ghost. Ghost is a particle with other type than the first five or a detector noise. \n",
        "\n",
        "Different particle types remain different responses in the detector systems or subdetectors. Thre are five systems: tracking system, ring imaging Cherenkov detector (RICH), electromagnetic and hadron calorimeters, and muon system.\n",
        "\n",
        "![pid](seminar5/pid.jpg)"
      ]
    },
    {
      "cell_type": "markdown",
      "metadata": {
        "id": "X85LZ-2KIhnG",
        "colab_type": "text"
      },
      "source": [
        "### List of columns in the samples\n",
        "\n",
        "Here, **Spd** stands for Scintillating Pad Detector, **Prs** - Preshower, **Ecal** - electromagnetic calorimeter, **Hcal** - hadronic calorimeter, **Brem** denotes traces of the particles that were deflected by detector.\n",
        "\n",
        "- ID - id value for tracks (presents only in the test file for the submitting purposes)\n",
        "- Label - string valued observable denoting particle types. Can take values \"Electron\", \"Muon\", \"Kaon\", \"Proton\", \"Pion\" and \"Ghost\". This column is absent in the test file.\n",
        "- FlagSpd - flag (0 or 1), if reconstructed track passes through Spd\n",
        "- FlagPrs - flag (0 or 1), if reconstructed track passes through Prs\n",
        "- FlagBrem - flag (0 or 1), if reconstructed track passes through Brem\n",
        "- FlagEcal - flag (0 or 1), if reconstructed track passes through Ecal\n",
        "- FlagHcal - flag (0 or 1), if reconstructed track passes through Hcal\n",
        "- FlagRICH1 - flag (0 or 1), if reconstructed track passes through the first RICH detector\n",
        "- FlagRICH2 - flag (0 or 1), if reconstructed track passes through the second RICH detector\n",
        "- FlagMuon - flag (0 or 1), if reconstructed track passes through muon stations (Muon)\n",
        "- SpdE - energy deposit associated to the track in the Spd\n",
        "- PrsE - energy deposit associated to the track in the Prs\n",
        "- EcalE - energy deposit associated to the track in the Hcal\n",
        "- HcalE - energy deposit associated to the track in the Hcal\n",
        "- PrsDLLbeElectron - delta log-likelihood for a particle candidate to be electron using information from Prs\n",
        "- BremDLLbeElectron - delta log-likelihood for a particle candidate to be electron using information from Brem\n",
        "- TrackP - particle momentum\n",
        "- TrackPt - particle transverse momentum\n",
        "- TrackNDoFSubdetector1  - number of degrees of freedom for track fit using hits in the tracking sub-detector1\n",
        "- TrackQualitySubdetector1 - chi2 quality of the track fit using hits in the tracking sub-detector1\n",
        "- TrackNDoFSubdetector2 - number of degrees of freedom for track fit using hits in the tracking sub-detector2\n",
        "- TrackQualitySubdetector2 - chi2 quality of the track fit using hits in the  tracking sub-detector2\n",
        "- TrackNDoF - number of degrees of freedom for track fit using hits in all tracking sub-detectors\n",
        "- TrackQualityPerNDoF - chi2 quality of the track fit per degree of freedom\n",
        "- TrackDistanceToZ - distance between track and z-axis (beam axis)\n",
        "- Calo2dFitQuality - quality of the 2d fit of the clusters in the calorimeter \n",
        "- Calo3dFitQuality - quality of the 3d fit in the calorimeter with assumption that particle was electron\n",
        "- EcalDLLbeElectron - delta log-likelihood for a particle candidate to be electron using information from Ecal\n",
        "- EcalDLLbeMuon - delta log-likelihood for a particle candidate to be muon using information from Ecal\n",
        "- EcalShowerLongitudinalParameter - longitudinal parameter of Ecal shower\n",
        "- HcalDLLbeElectron - delta log-likelihood for a particle candidate to be electron using information from Hcal\n",
        "- HcalDLLbeMuon - delta log-likelihood for a particle candidate to be using information from Hcal\n",
        "- RICHpFlagElectron - flag (0 or 1) if momentum is greater than threshold for electrons to produce Cherenkov light\n",
        "- RICHpFlagProton - flag (0 or 1) if momentum is greater than threshold for protons to produce Cherenkov light\n",
        "- RICHpFlagPion - flag (0 or 1) if momentum is greater than threshold for pions to produce Cherenkov light\n",
        "- RICHpFlagKaon - flag (0 or 1) if momentum is greater than threshold for kaons to produce Cherenkov light\n",
        "- RICHpFlagMuon - flag (0 or 1) if momentum is greater than threshold for muons to produce Cherenkov light\n",
        "- RICH_DLLbeBCK  - delta log-likelihood for a particle candidate to be background using information from RICH\n",
        "- RICH_DLLbeKaon - delta log-likelihood for a particle candidate to be kaon using information from RICH\n",
        "- RICH_DLLbeElectron - delta log-likelihood for a particle candidate to be electron using information from RICH\n",
        "- RICH_DLLbeMuon - delta log-likelihood for a particle candidate to be muon using information from RICH\n",
        "- RICH_DLLbeProton - delta log-likelihood for a particle candidate to be proton using information from RICH\n",
        "- MuonFlag - muon flag (is this track muon) which is determined from muon stations\n",
        "- MuonLooseFlag muon flag (is this track muon) which is determined from muon stations using looser criteria\n",
        "- MuonLLbeBCK - log-likelihood for a particle candidate to be not muon using information from muon stations\n",
        "- MuonLLbeMuon - log-likelihood for a particle candidate to be muon using information from muon stations\n",
        "- DLLelectron - delta log-likelihood for a particle candidate to be electron using information from all subdetectors\n",
        "- DLLmuon - delta log-likelihood for a particle candidate to be muon using information from all subdetectors\n",
        "- DLLkaon - delta log-likelihood for a particle candidate to be kaon using information from all subdetectors\n",
        "- DLLproton - delta log-likelihood for a particle candidate to be proton using information from all subdetectors\n",
        "- GhostProbability - probability for a particle candidate to be ghost track. This variable is an output of classification model used in the tracking algorithm.\n",
        "\n",
        "Delta log-likelihood in the features descriptions means the difference between log-likelihood for the mass hypothesis that a given track is made by some particle (for example, electron) and log-likelihood for the mass hypothesis that a given track is produced by a pion (so, DLLpion = 0 and thus we don't have these columns). This is done since most tracks (~80%) are left by pions and in practice we actually need to discriminate other particles from pions. In other words, the null hypothesis is that particle is a pion.\n",
        "\n",
        "![features](seminar5/features.jpeg)"
      ]
    },
    {
      "cell_type": "code",
      "metadata": {
        "scrolled": false,
        "id": "ez1xNwHoIhnN",
        "colab_type": "code",
        "outputId": "41c082f5-f1ac-4f72-ba72-5b2cdb167b82",
        "colab": {
          "base_uri": "https://localhost:8080/",
          "height": 35
        }
      },
      "source": [
        "from sklearn import preprocessing\n",
        "\n",
        "le = preprocessing.LabelEncoder()\n",
        "le.fit(data.Label)\n",
        "y = le.transform(data.Label).astype(np.float)\n",
        "print(y)"
      ],
      "execution_count": 34,
      "outputs": [
        {
          "output_type": "stream",
          "text": [
            "[3. 1. 1. ... 4. 3. 4.]\n"
          ],
          "name": "stdout"
        }
      ]
    },
    {
      "cell_type": "code",
      "metadata": {
        "scrolled": true,
        "id": "WcfM9FXlIhno",
        "colab_type": "code",
        "outputId": "b4c70e37-bbcf-4c39-c6ba-c28f62e5e9c5",
        "colab": {
          "base_uri": "https://localhost:8080/",
          "height": 35
        }
      },
      "source": [
        "labels = np.array(le.classes_, dtype=np.str)\n",
        "labels"
      ],
      "execution_count": 35,
      "outputs": [
        {
          "output_type": "execute_result",
          "data": {
            "text/plain": [
              "array(['Electron', 'Ghost', 'Kaon', 'Muon', 'Pion', 'Proton'], dtype='<U8')"
            ]
          },
          "metadata": {
            "tags": []
          },
          "execution_count": 35
        }
      ]
    },
    {
      "cell_type": "code",
      "metadata": {
        "scrolled": true,
        "id": "ccGxT9c-Ihn1",
        "colab_type": "code",
        "outputId": "78747604-1006-4615-bed6-d4f63c7046ce",
        "colab": {
          "base_uri": "https://localhost:8080/",
          "height": 265
        }
      },
      "source": [
        "count = np.array([(data.Label == l).sum() for l in labels])\n",
        "plt.bar(np.arange(len(labels)), count / np.sum(count))\n",
        "plt.xticks(np.arange(len(labels)), labels)\n",
        "plt.show()"
      ],
      "execution_count": 36,
      "outputs": [
        {
          "output_type": "display_data",
          "data": {
            "image/png": "[encoded data removed]",
            "text/plain": [
              "<Figure size 432x288 with 1 Axes>"
            ]
          },
          "metadata": {
            "tags": [],
            "needs_background": "light"
          }
        }
      ]
    },
    {
      "cell_type": "code",
      "metadata": {
        "scrolled": true,
        "id": "nr-0srMaIhoO",
        "colab_type": "code",
        "outputId": "d8e46283-56d0-4a19-ad58-ab949f6343fc",
        "colab": {
          "base_uri": "https://localhost:8080/",
          "height": 35
        }
      },
      "source": [
        "features = np.asarray(list(set(data.columns) - {'Label',}))\n",
        "\n",
        "x = np.asarray(data[features])\n",
        "print(x.shape)"
      ],
      "execution_count": 37,
      "outputs": [
        {
          "output_type": "stream",
          "text": [
            "(1200000, 49)\n"
          ],
          "name": "stdout"
        }
      ]
    },
    {
      "cell_type": "code",
      "metadata": {
        "scrolled": false,
        "id": "CEt_VQ66Ihoh",
        "colab_type": "code",
        "outputId": "96eac6d0-98fd-4190-b218-1ba759c0c86e",
        "colab": {
          "base_uri": "https://localhost:8080/",
          "height": 1000
        }
      },
      "source": [
        "for s in features:\n",
        "    if s.find(\"Flag\") < 0:\n",
        "        continue\n",
        "    plt.figure()\n",
        "    ratio = np.array([data[data.Label == l][s].sum() for l in labels]) / count\n",
        "    plt.title(s)\n",
        "    plt.bar(np.arange(len(labels)), ratio)\n",
        "    plt.xticks(np.arange(len(labels)), labels)\n",
        "    plt.show()"
      ],
      "execution_count": 38,
      "outputs": [
        {
          "output_type": "display_data",
          "data": {
            "image/png": "[encoded data removed]",
            "text/plain": [
              "<Figure size 432x288 with 1 Axes>"
            ]
          },
          "metadata": {
            "tags": [],
            "needs_background": "light"
          }
        },
        {
          "output_type": "display_data",
          "data": {
            "image/png": "[encoded data removed]",
            "text/plain": [
              "<Figure size 432x288 with 1 Axes>"
            ]
          },
          "metadata": {
            "tags": [],
            "needs_background": "light"
          }
        },
        {
          "output_type": "display_data",
          "data": {
            "image/png": "[encoded data removed]",
            "text/plain": [
              "<Figure size 432x288 with 1 Axes>"
            ]
          },
          "metadata": {
            "tags": [],
            "needs_background": "light"
          }
        },
        {
          "output_type": "display_data",
          "data": {
            "image/png": "[encoded data removed]",
            "text/plain": [
              "<Figure size 432x288 with 1 Axes>"
            ]
          },
          "metadata": {
            "tags": [],
            "needs_background": "light"
          }
        },
        {
          "output_type": "display_data",
          "data": {
            "image/png": "[encoded data removed]",
            "text/plain": [
              "<Figure size 432x288 with 1 Axes>"
            ]
          },
          "metadata": {
            "tags": [],
            "needs_background": "light"
          }
        },
        {
          "output_type": "display_data",
          "data": {
            "image/png": "[encoded data removed]",
            "text/plain": [
              "<Figure size 432x288 with 1 Axes>"
            ]
          },
          "metadata": {
            "tags": [],
            "needs_background": "light"
          }
        },
        {
          "output_type": "display_data",
          "data": {
            "image/png": "[encoded data removed]",
            "text/plain": [
              "<Figure size 432x288 with 1 Axes>"
            ]
          },
          "metadata": {
            "tags": [],
            "needs_background": "light"
          }
        },
        {
          "output_type": "display_data",
          "data": {
            "image/png": "[encoded data removed]",
            "text/plain": [
              "<Figure size 432x288 with 1 Axes>"
            ]
          },
          "metadata": {
            "tags": [],
            "needs_background": "light"
          }
        },
        {
          "output_type": "display_data",
          "data": {
            "image/png": "[encoded data removed]",
            "text/plain": [
              "<Figure size 432x288 with 1 Axes>"
            ]
          },
          "metadata": {
            "tags": [],
            "needs_background": "light"
          }
        },
        {
          "output_type": "display_data",
          "data": {
            "image/png": "[encoded data removed]",
            "text/plain": [
              "<Figure size 432x288 with 1 Axes>"
            ]
          },
          "metadata": {
            "tags": [],
            "needs_background": "light"
          }
        },
        {
          "output_type": "display_data",
          "data": {
            "image/png": "[encoded data removed]",
            "text/plain": [
              "<Figure size 432x288 with 1 Axes>"
            ]
          },
          "metadata": {
            "tags": [],
            "needs_background": "light"
          }
        },
        {
          "output_type": "display_data",
          "data": {
            "image/png": "[encoded data removed]",
            "text/plain": [
              "<Figure size 432x288 with 1 Axes>"
            ]
          },
          "metadata": {
            "tags": [],
            "needs_background": "light"
          }
        },
        {
          "output_type": "display_data",
          "data": {
            "image/png": "[encoded data removed]",
            "text/plain": [
              "<Figure size 432x288 with 1 Axes>"
            ]
          },
          "metadata": {
            "tags": [],
            "needs_background": "light"
          }
        },
        {
          "output_type": "display_data",
          "data": {
            "image/png": "[encoded data removed]",
            "text/plain": [
              "<Figure size 432x288 with 1 Axes>"
            ]
          },
          "metadata": {
            "tags": [],
            "needs_background": "light"
          }
        },
        {
          "output_type": "display_data",
          "data": {
            "image/png": "[encoded data removed]",
            "text/plain": [
              "<Figure size 432x288 with 1 Axes>"
            ]
          },
          "metadata": {
            "tags": [],
            "needs_background": "light"
          }
        }
      ]
    },
    {
      "cell_type": "code",
      "metadata": {
        "scrolled": false,
        "id": "XjwEYJ9SIhow",
        "colab_type": "code",
        "outputId": "e0c58313-9255-4da5-f178-49fedada839a",
        "colab": {
          "base_uri": "https://localhost:8080/",
          "height": 1000
        }
      },
      "source": [
        "for s in features:\n",
        "    if s.find(\"DLL\") < 0:\n",
        "        continue\n",
        "    plt.figure()\n",
        "    dll = list([data[data.Label == l][s] for l in labels])\n",
        "    dll = list([x[x > -998] for x in dll])\n",
        "    plt.title(s)\n",
        "    plt.boxplot(dll, showfliers=False)\n",
        "    plt.xticks(np.arange(len(labels))+1, labels)\n",
        "    plt.show()"
      ],
      "execution_count": 39,
      "outputs": [
        {
          "output_type": "display_data",
          "data": {
            "image/png": "[encoded data removed]",
            "text/plain": [
              "<Figure size 432x288 with 1 Axes>"
            ]
          },
          "metadata": {
            "tags": [],
            "needs_background": "light"
          }
        },
        {
          "output_type": "display_data",
          "data": {
            "image/png": "[encoded data removed]",
            "text/plain": [
              "<Figure size 432x288 with 1 Axes>"
            ]
          },
          "metadata": {
            "tags": [],
            "needs_background": "light"
          }
        },
        {
          "output_type": "display_data",
          "data": {
            "image/png": "[encoded data removed]",
            "text/plain": [
              "<Figure size 432x288 with 1 Axes>"
            ]
          },
          "metadata": {
            "tags": [],
            "needs_background": "light"
          }
        },
        {
          "output_type": "display_data",
          "data": {
            "image/png": "[encoded data removed]",
            "text/plain": [
              "<Figure size 432x288 with 1 Axes>"
            ]
          },
          "metadata": {
            "tags": [],
            "needs_background": "light"
          }
        },
        {
          "output_type": "display_data",
          "data": {
            "image/png": "[encoded data removed]",
            "text/plain": [
              "<Figure size 432x288 with 1 Axes>"
            ]
          },
          "metadata": {
            "tags": [],
            "needs_background": "light"
          }
        },
        {
          "output_type": "display_data",
          "data": {
            "image/png": "[encoded data removed]",
            "text/plain": [
              "<Figure size 432x288 with 1 Axes>"
            ]
          },
          "metadata": {
            "tags": [],
            "needs_background": "light"
          }
        },
        {
          "output_type": "display_data",
          "data": {
            "image/png": "[encoded data removed]",
            "text/plain": [
              "<Figure size 432x288 with 1 Axes>"
            ]
          },
          "metadata": {
            "tags": [],
            "needs_background": "light"
          }
        },
        {
          "output_type": "display_data",
          "data": {
            "image/png": "[encoded data removed]",
            "text/plain": [
              "<Figure size 432x288 with 1 Axes>"
            ]
          },
          "metadata": {
            "tags": [],
            "needs_background": "light"
          }
        },
        {
          "output_type": "display_data",
          "data": {
            "image/png": "[encoded data removed]",
            "text/plain": [
              "<Figure size 432x288 with 1 Axes>"
            ]
          },
          "metadata": {
            "tags": [],
            "needs_background": "light"
          }
        },
        {
          "output_type": "display_data",
          "data": {
            "image/png": "[encoded data removed]",
            "text/plain": [
              "<Figure size 432x288 with 1 Axes>"
            ]
          },
          "metadata": {
            "tags": [],
            "needs_background": "light"
          }
        },
        {
          "output_type": "display_data",
          "data": {
            "image/png": "[encoded data removed]",
            "text/plain": [
              "<Figure size 432x288 with 1 Axes>"
            ]
          },
          "metadata": {
            "tags": [],
            "needs_background": "light"
          }
        },
        {
          "output_type": "display_data",
          "data": {
            "image/png": "[encoded data removed]",
            "text/plain": [
              "<Figure size 432x288 with 1 Axes>"
            ]
          },
          "metadata": {
            "tags": [],
            "needs_background": "light"
          }
        },
        {
          "output_type": "display_data",
          "data": {
            "image/png": "[encoded data removed]",
            "text/plain": [
              "<Figure size 432x288 with 1 Axes>"
            ]
          },
          "metadata": {
            "tags": [],
            "needs_background": "light"
          }
        },
        {
          "output_type": "display_data",
          "data": {
            "image/png": "[encoded data removed]",
            "text/plain": [
              "<Figure size 432x288 with 1 Axes>"
            ]
          },
          "metadata": {
            "tags": [],
            "needs_background": "light"
          }
        },
        {
          "output_type": "display_data",
          "data": {
            "image/png": "[encoded data removed]",
            "text/plain": [
              "<Figure size 432x288 with 1 Axes>"
            ]
          },
          "metadata": {
            "tags": [],
            "needs_background": "light"
          }
        }
      ]
    },
    {
      "cell_type": "code",
      "metadata": {
        "scrolled": false,
        "id": "ufB7YVyjIhpG",
        "colab_type": "code",
        "outputId": "a3b7ffb9-8fac-48bb-d996-b91f26d21de4",
        "colab": {
          "base_uri": "https://localhost:8080/",
          "height": 1000
        }
      },
      "source": [
        "import re\n",
        "\n",
        "for s in features:\n",
        "    if not re.match(r'(.*?)E$', s):\n",
        "        continue\n",
        "    plt.figure()\n",
        "    e = list([data[data.Label == l][s] for l in labels])\n",
        "    e = list([x[x > -998] for x in e])\n",
        "    plt.title(s)\n",
        "    plt.boxplot(e, showfliers=False)\n",
        "    plt.xticks(np.arange(len(labels))+1, labels)\n",
        "    plt.show()"
      ],
      "execution_count": 40,
      "outputs": [
        {
          "output_type": "display_data",
          "data": {
            "image/png": "[encoded data removed]",
            "text/plain": [
              "<Figure size 432x288 with 1 Axes>"
            ]
          },
          "metadata": {
            "tags": [],
            "needs_background": "light"
          }
        },
        {
          "output_type": "display_data",
          "data": {
            "image/png": "[encoded data removed]",
            "text/plain": [
              "<Figure size 432x288 with 1 Axes>"
            ]
          },
          "metadata": {
            "tags": [],
            "needs_background": "light"
          }
        },
        {
          "output_type": "display_data",
          "data": {
            "image/png": "[encoded data removed]",
            "text/plain": [
              "<Figure size 432x288 with 1 Axes>"
            ]
          },
          "metadata": {
            "tags": [],
            "needs_background": "light"
          }
        },
        {
          "output_type": "display_data",
          "data": {
            "image/png": "[encoded data removed]",
            "text/plain": [
              "<Figure size 432x288 with 1 Axes>"
            ]
          },
          "metadata": {
            "tags": [],
            "needs_background": "light"
          }
        }
      ]
    },
    {
      "cell_type": "code",
      "metadata": {
        "id": "rzcAY31aIhpU",
        "colab_type": "code",
        "outputId": "826d88a9-eba7-446c-9667-efe7959f9707",
        "colab": {
          "base_uri": "https://localhost:8080/",
          "height": 807
        }
      },
      "source": [
        "x_cov = np.cov(x.T)\n",
        "sigma = np.sqrt(np.diag(x_cov))\n",
        "x_cor = x_cov / np.outer(sigma, sigma)\n",
        "\n",
        "plt.figure(figsize=(12, 12))\n",
        "vmax = 1.0\n",
        "plt.imshow(x_cor, interpolation='nearest', vmin=-vmax, vmax=vmax, cmap=plt.cm.RdBu)\n",
        "plt.title(\"Correlation matrix\")\n",
        "plt.colorbar()\n",
        "plt.yticks(np.arange(len(features)), features)\n",
        "plt.xticks(rotation=90)\n",
        "_ = plt.xticks(np.arange(len(features)), features)"
      ],
      "execution_count": 41,
      "outputs": [
        {
          "output_type": "display_data",
          "data": {
            "image/png": "[encoded data removed]",
            "text/plain": [
              "<Figure size 864x864 with 2 Axes>"
            ]
          },
          "metadata": {
            "tags": [],
            "needs_background": "light"
          }
        }
      ]
    },
    {
      "cell_type": "code",
      "metadata": {
        "scrolled": false,
        "id": "uUaMka-rIhpn",
        "colab_type": "code",
        "outputId": "c9087447-52f3-44e5-f33e-0f4007d57b67",
        "colab": {
          "base_uri": "https://localhost:8080/",
          "height": 1000
        }
      },
      "source": [
        "from sklearn.decomposition import PCA\n",
        "\n",
        "for l, label in enumerate(labels):\n",
        "    pca = PCA(1)\n",
        "    \n",
        "    subset = (y == l)\n",
        "    \n",
        "    pca.fit(x[subset])\n",
        "    f = features[np.abs(pca.components_[0]).argsort()[-5:]]\n",
        "\n",
        "    npca = PCA(1)\n",
        "    npca.fit(x[~subset])\n",
        "    nf = features[np.abs(npca.components_[0]).argsort()[-5:]]\n",
        "    \n",
        "    print(pca.components_[0])\n",
        "    print(\"{}\".format(label))\n",
        "    print(np.vstack([f,nf]).T)\n",
        "    print()"
      ],
      "execution_count": 42,
      "outputs": [
        {
          "output_type": "stream",
          "text": [
            "[ 1.84370712e-06 -2.29221114e-06  1.06876091e-05  8.77860224e-04\n",
            "  3.36293728e-06  5.26163601e-04  7.43064122e-06  2.70124650e-02\n",
            " -2.98556723e-07  9.91562442e-07  5.49255473e-04  1.07492541e-03\n",
            "  5.50916867e-04  7.18009673e-07  5.56307702e-04 -4.81055672e-07\n",
            " -4.10283606e-04  9.52217761e-04 -2.13130152e-07 -4.47032692e-05\n",
            "  4.16840833e-06  5.25924797e-04  9.94873863e-04 -3.14854764e-06\n",
            "  2.41282330e-01  9.13729746e-07  2.91513663e-02  1.12370345e-03\n",
            "  1.83535066e-03 -3.22687008e-04 -1.38676764e-06 -7.01500476e-05\n",
            " -3.13194743e-05  9.12628309e-07  6.43206397e-04  5.20602151e-04\n",
            " -2.32121725e-06 -2.50403639e-03  9.69630879e-01 -5.16880676e-04\n",
            "  1.09640688e-05  1.03222486e-06  1.13702280e-03  4.87581182e-07\n",
            "  1.19508726e-05 -5.16735209e-04 -8.89499347e-05 -5.14250557e-05\n",
            "  5.69306449e-04]\n",
            "Electron\n",
            "[['BremDLLbeElectron' 'EcalShowerLongitudinalParameter']\n",
            " ['HcalE' 'EcalE']\n",
            " ['TrackPt' 'TrackPt']\n",
            " ['EcalE' 'HcalE']\n",
            " ['TrackP' 'TrackP']]\n",
            "\n",
            "[ 4.61758737e-06 -2.48459396e-06  1.57014469e-05  3.09480159e-03\n",
            "  6.44601479e-06  3.08244423e-03  1.72036406e-05  1.61628199e-01\n",
            " -1.25872722e-07  2.83915563e-06  3.11380267e-03  3.68065970e-03\n",
            "  2.99549650e-03  2.52600834e-06  3.05320046e-03 -1.52475800e-07\n",
            "  6.25374265e-04  3.18525021e-03 -2.09137024e-07 -6.48269062e-05\n",
            "  7.70168523e-06  2.25914008e-02  3.19206547e-03 -6.63739622e-06\n",
            "  5.53443718e-02  3.45569194e-06  2.63235616e-02  3.91548509e-03\n",
            "  3.25936127e-03  6.21492932e-04 -2.25617452e-06  6.47487624e-04\n",
            " -1.28842883e-05  2.67535199e-06  3.04932094e-03  3.00596988e-03\n",
            " -2.95040869e-06 -2.63720368e-03  9.84607228e-01 -2.11562017e-04\n",
            "  1.07165703e-05  3.63379439e-06  3.92131159e-03  2.68413342e-06\n",
            "  1.47789702e-05 -2.12481698e-04  6.09650340e-04 -7.31704597e-05\n",
            "  3.06407424e-03]\n",
            "Ghost\n",
            "[['Calo3dFitQuality' 'BremDLLbeElectron']\n",
            " ['TrackPt' 'TrackPt']\n",
            " ['EcalE' 'EcalE']\n",
            " ['HcalE' 'HcalE']\n",
            " ['TrackP' 'TrackP']]\n",
            "\n",
            "[-1.58582103e-08 -5.24158764e-06  6.75219771e-06 -3.40181034e-04\n",
            " -1.89791333e-09 -3.35801534e-03 -1.40705904e-05  1.11219501e-01\n",
            " -3.82736466e-07 -2.33707887e-06 -2.83990909e-04 -1.59244193e-03\n",
            " -3.25533646e-03 -3.10503986e-07 -5.24699644e-04 -6.11042000e-07\n",
            " -7.08245596e-04 -2.40328538e-03 -9.96788890e-08 -5.30641965e-05\n",
            "  6.84549941e-07 -5.16951617e-03 -2.38041714e-03 -1.55155309e-05\n",
            "  3.64351493e-02  1.00811207e-06  1.79859287e-02 -3.06541492e-03\n",
            " -2.36234047e-03 -5.57108156e-04 -1.39508876e-07 -5.39457732e-04\n",
            " -4.42657160e-05 -2.41096768e-06 -3.73404293e-04 -3.26259659e-03\n",
            " -5.01330439e-06 -5.26847966e-03  9.92899996e-01 -7.67422727e-04\n",
            "  9.27861539e-06 -3.01300309e-06 -3.06330692e-03 -3.22250807e-06\n",
            "  9.14324202e-06 -7.67187331e-04 -5.29256311e-04 -7.62765194e-05\n",
            " -5.34191354e-04]\n",
            "Kaon\n",
            "[['BremDLLbeElectron' 'EcalShowerLongitudinalParameter']\n",
            " ['TrackPt' 'TrackPt']\n",
            " ['EcalE' 'EcalE']\n",
            " ['HcalE' 'HcalE']\n",
            " ['TrackP' 'TrackP']]\n",
            "\n",
            "[ 1.78916014e-07 -1.66121849e-06  3.11470178e-06 -1.50981756e-04\n",
            "  2.17779554e-07 -1.11449488e-03  7.31855346e-07  6.41222357e-03\n",
            "  5.46332222e-07 -7.19678567e-07 -5.15369131e-05 -1.10532710e-03\n",
            " -1.13131800e-03 -9.24225179e-08 -1.13382736e-04  5.74545366e-07\n",
            " -1.98079837e-04 -8.05952089e-04 -1.91586491e-07 -2.02848874e-05\n",
            "  6.04544696e-07 -4.62078642e-03 -7.91713796e-04 -1.78176959e-07\n",
            " -1.70675271e-04 -9.89349945e-07  1.75279607e-02 -1.10712841e-03\n",
            " -8.06516236e-04 -1.16484888e-04 -1.25471885e-06 -1.97355515e-04\n",
            " -2.08126987e-05 -7.78926739e-07 -3.16470021e-05 -1.13347856e-03\n",
            " -1.49359345e-06 -1.72073960e-03  9.99808513e-01  5.74934723e-04\n",
            "  4.99432041e-06 -1.06632689e-06 -1.11093142e-03 -1.07419734e-06\n",
            "  3.25496869e-06  5.65669384e-04 -1.73262728e-04 -2.09468037e-05\n",
            " -1.45548295e-04]\n",
            "Muon\n",
            "[['BremDLLbeElectron' 'BremDLLbeElectron']\n",
            " ['Calo3dFitQuality' 'TrackPt']\n",
            " ['HcalE' 'EcalE']\n",
            " ['TrackPt' 'HcalE']\n",
            " ['TrackP' 'TrackP']]\n",
            "\n",
            "[ 1.07569400e-06 -7.88788600e-06  1.27389286e-05  3.41869675e-05\n",
            "  2.67570219e-06 -2.18782630e-03 -1.75131337e-05  1.72137971e-01\n",
            " -6.22829426e-07 -1.13235296e-06  2.21236642e-04  1.62114389e-03\n",
            " -2.15461443e-03 -1.26243443e-07 -2.25092057e-04 -8.32050293e-07\n",
            " -6.99219326e-04 -1.17333491e-03 -1.41250224e-07 -8.14888456e-05\n",
            "  3.37300691e-06  5.57133575e-05 -1.17913791e-03 -2.43024888e-05\n",
            "  4.48984720e-02  1.87463485e-06  1.90354925e-02 -1.22007749e-03\n",
            " -1.09894551e-03 -6.59448838e-04 -2.55366850e-06 -5.67248607e-04\n",
            " -6.17320579e-05 -1.17592408e-06 -1.85615557e-04 -2.16139714e-03\n",
            " -7.51716861e-06 -7.87895040e-03  9.83819758e-01 -8.49943303e-04\n",
            "  1.14315267e-05 -1.21392518e-06 -1.21933961e-03 -2.15742329e-06\n",
            "  1.40095545e-05 -8.49712803e-04 -5.68771940e-04 -1.16579520e-04\n",
            " -2.14887432e-04]\n",
            "Pion\n",
            "[['BremDLLbeElectron' 'EcalShowerLongitudinalParameter']\n",
            " ['TrackPt' 'TrackPt']\n",
            " ['EcalE' 'EcalE']\n",
            " ['HcalE' 'HcalE']\n",
            " ['TrackP' 'TrackP']]\n",
            "\n",
            "[-8.60883261e-09 -5.09523243e-06  6.72013511e-06 -3.75795377e-04\n",
            " -8.90575706e-08 -3.52986586e-03 -1.38410698e-05  8.72890348e-02\n",
            " -2.39966001e-07 -2.22236639e-06 -3.16384439e-04 -1.01154055e-03\n",
            " -3.44065731e-03 -3.45007237e-07 -3.66871106e-04 -4.67953527e-07\n",
            " -5.02994684e-04 -2.48065252e-03 -8.94162267e-08 -5.32300708e-05\n",
            "  6.93852998e-07 -5.55338283e-03 -2.46556365e-03 -1.42690976e-05\n",
            "  2.52639010e-02  8.33585663e-07  1.49128780e-02 -3.18187936e-03\n",
            " -2.44138793e-03 -6.28566901e-04 -1.95717596e-06 -5.24067310e-04\n",
            " -5.39512942e-05 -2.21628453e-06 -4.91949856e-04 -3.44656538e-03\n",
            " -4.72885837e-06 -5.45943220e-03  9.95681164e-01 -5.83328925e-04\n",
            "  8.62626500e-06 -3.00797427e-06 -3.17900205e-03 -3.11064131e-06\n",
            "  8.16695673e-06 -5.83176111e-04 -5.18492924e-04 -7.55390703e-05\n",
            " -4.63196792e-04]\n",
            "Proton\n",
            "[['Calo3dFitQuality' 'EcalShowerLongitudinalParameter']\n",
            " ['TrackPt' 'TrackPt']\n",
            " ['EcalE' 'EcalE']\n",
            " ['HcalE' 'HcalE']\n",
            " ['TrackP' 'TrackP']]\n",
            "\n"
          ],
          "name": "stdout"
        }
      ]
    },
    {
      "cell_type": "code",
      "metadata": {
        "scrolled": false,
        "id": "0RSWctw8Ihpz",
        "colab_type": "code",
        "colab": {}
      },
      "source": [
        "from sklearn.model_selection import train_test_split\n",
        "\n",
        "x_train, x_test, y_train, y_test = train_test_split(x, y, random_state=42)"
      ],
      "execution_count": 0,
      "outputs": []
    },
    {
      "cell_type": "markdown",
      "metadata": {
        "id": "NHGSq4poIhp7",
        "colab_type": "text"
      },
      "source": [
        "## Один против всех"
      ]
    },
    {
      "cell_type": "markdown",
      "metadata": {
        "id": "lLS5I7IMIhp9",
        "colab_type": "text"
      },
      "source": [
        "**Задание 5.1** Для каждой из частиц решите задачу бинарной классификации \"один против всех\" с помощью логистической регрессии (используйте готовый класс `LogisticRegression` из пакета `sklearn`).\n",
        "Используя тестовый набор данных, постройте график ROC и определите для него AUC для каждой из частиц."
      ]
    },
    {
      "cell_type": "code",
      "metadata": {
        "id": "dtDh4Q6gIhp-",
        "colab_type": "code",
        "outputId": "8dd7a9b3-5267-4fc2-c93e-a9e0163a0b66",
        "colab": {
          "base_uri": "https://localhost:8080/",
          "height": 35
        }
      },
      "source": [
        "import sklearn.metrics\n",
        "from sklearn.linear_model import LogisticRegression\n",
        "\n",
        "roc = {}\n",
        "auc = {}\n",
        "for l, label in enumerate(tqdm(labels)):\n",
        "    one_y_train = (y_train == l).astype(np.float) #\n",
        "    one_y_test = (y_test == l).astype(np.float) #\n",
        "    \n",
        "    c = LogisticRegression(max_iter=200, n_jobs=-1)\n",
        "    c.fit(x_train, one_y_train)\n",
        "    \n",
        "    y_pred = c.predict(x_test) #\n",
        "    scores = c.decision_function(x_test) #\n",
        "    \n",
        "    fpr, tpr, _ = sklearn.metrics.roc_curve(one_y_test, scores)\n",
        "    roc[l] = {\"tpr\": tpr, \"fpr\": fpr}\n",
        "    auc[l] = sklearn.metrics.roc_auc_score(one_y_test, scores)"
      ],
      "execution_count": 0,
      "outputs": [
        {
          "output_type": "stream",
          "text": [
            "100%|██████████| 6/6 [24:27<00:00, 244.57s/it]\n"
          ],
          "name": "stderr"
        }
      ]
    },
    {
      "cell_type": "code",
      "metadata": {
        "id": "kgPGD32tIhqK",
        "colab_type": "code",
        "outputId": "6c796249-565b-4a1d-c5d1-53a891dacac5",
        "colab": {
          "base_uri": "https://localhost:8080/",
          "height": 295
        }
      },
      "source": [
        "plt.figure()\n",
        "plt.title(\"Receiver operating characteristic\")\n",
        "plt.xlabel(\"False positive rate\")\n",
        "plt.ylabel(\"True positive rate\")\n",
        "for l, label in enumerate(labels):\n",
        "    plt.plot(roc[l]['fpr'], roc[l]['tpr'], label='{} AUC={:.4f}'.format(label, auc[l]))\n",
        "_ = plt.legend(loc='lower right')"
      ],
      "execution_count": 0,
      "outputs": [
        {
          "output_type": "display_data",
          "data": {
            "image/png": "[encoded data removed]",
            "text/plain": [
              "<Figure size 432x288 with 1 Axes>"
            ]
          },
          "metadata": {
            "tags": [],
            "needs_background": "light"
          }
        }
      ]
    },
    {
      "cell_type": "markdown",
      "metadata": {
        "id": "HTegsgMUIhqU",
        "colab_type": "text"
      },
      "source": [
        "**Задание 5.2** Для каждой из частиц решите задачу бинарной классификации \"один против всех\" с помощью метода случайного леса (используйте готовый класс `RandomForestClassifier` из пакета `sklearn`). В этом задании используя метод кросс-валидации и набор данных для обучения, подберите оптимальные гиперпараметры для метода случайного леса.\n",
        "\n",
        "В коде ниже предлагается варьировать число деревьев в лесу и максимальную глубину дерева, вы можете выбирать другие гиперпараметры на своё усмотрение.\n",
        "\n",
        "Для каждого набора гиперпараметров распечатайте и сравние AUC и время обучения."
      ]
    },
    {
      "cell_type": "code",
      "metadata": {
        "scrolled": false,
        "id": "vFKBxdljIhqW",
        "colab_type": "code",
        "colab": {}
      },
      "source": [
        "from sklearn.ensemble import RandomForestClassifier\n",
        "from sklearn.model_selection import cross_validate\n",
        "from sklearn.multiclass import OneVsRestClassifier\n",
        "from tqdm.notebook import tqdm"
      ],
      "execution_count": 0,
      "outputs": []
    },
    {
      "cell_type": "code",
      "metadata": {
        "id": "lDiOQ-lBkqZt",
        "colab_type": "code",
        "outputId": "95520eda-81af-4043-e9bf-51ee3c894e0e",
        "colab": {
          "base_uri": "https://localhost:8080/",
          "height": 72
        }
      },
      "source": [
        "print(x.shape)\n",
        "print(y.shape)\n",
        "one_y = (y == l).astype(np.float)\n",
        "print(one_y[:10])"
      ],
      "execution_count": 0,
      "outputs": [
        {
          "output_type": "stream",
          "text": [
            "(1200000, 49)\n",
            "(1200000,)\n",
            "[0. 0. 0. 0. 1. 0. 0. 0. 0. 1.]\n"
          ],
          "name": "stdout"
        }
      ]
    },
    {
      "cell_type": "code",
      "metadata": {
        "scrolled": false,
        "id": "9rwdTSveIhqg",
        "colab_type": "code",
        "outputId": "f531f3ef-4f83-4c31-f4f6-5422f1085e6f",
        "colab": {
          "base_uri": "https://localhost:8080/",
          "height": 476
        }
      },
      "source": [
        "max_depths = [6, 7] #\n",
        "n_estimatorss = [100, 125]\n",
        "hparam = np.array(np.meshgrid(max_depths, n_estimatorss)).reshape(2, -1).T\n",
        "\n",
        "scoring = {\n",
        "    \"auc\":       \"roc_auc\",\n",
        "}\n",
        "\n",
        "for l, label in enumerate(labels):\n",
        "    one_y = np.asarray((y == l).astype(np.float))\n",
        "\n",
        "    scores = []\n",
        "    for max_depth, n_estimators in tqdm(hparam):\n",
        "        c = RandomForestClassifier(max_depth=max_depth, n_estimators=n_estimators)\n",
        "        ova = OneVsRestClassifier(c, n_jobs=-1)\n",
        "        s = cross_validate(ova, x, one_y.reshape(-1), cv=3, scoring=scoring, return_train_score=True)\n",
        "        scores.append(s)\n",
        "    \n",
        "    scores = flat_dict(scores)\n",
        "    auc = np.hstack([scores['test_auc'].mean(axis=1).reshape(-1,1), hparam, scores['fit_time'].mean(axis=1).reshape(-1,1)])\n",
        "    \n",
        "    print(\"Class {}\".format(label))\n",
        "    print(auc[auc[:,0].argsort()])"
      ],
      "execution_count": 0,
      "outputs": [
        {
          "output_type": "stream",
          "text": [
            "100%|██████████| 4/4 [50:56<00:00, 764.23s/it]\n",
            "  0%|          | 0/4 [00:00<?, ?it/s]"
          ],
          "name": "stderr"
        },
        {
          "output_type": "stream",
          "text": [
            "Class Electron\n",
            "[[  0.97981029   6.         100.         206.048129  ]\n",
            " [  0.97995007   6.         125.         257.71042418]\n",
            " [  0.98182344   7.         125.         287.24146565]\n",
            " [  0.9818317    7.         100.         230.07711808]]\n"
          ],
          "name": "stdout"
        },
        {
          "output_type": "stream",
          "text": [
            "100%|██████████| 4/4 [52:20<00:00, 785.12s/it]\n",
            "  0%|          | 0/4 [00:00<?, ?it/s]"
          ],
          "name": "stderr"
        },
        {
          "output_type": "stream",
          "text": [
            "Class Ghost\n",
            "[[  0.94361631   6.         125.         257.23943822]\n",
            " [  0.94381218   6.         100.         210.25264915]\n",
            " [  0.94666787   7.         125.         297.97193178]\n",
            " [  0.94692792   7.         100.         242.40950839]]\n"
          ],
          "name": "stdout"
        },
        {
          "output_type": "stream",
          "text": [
            "100%|██████████| 4/4 [51:40<00:00, 775.04s/it]\n",
            "  0%|          | 0/4 [00:00<?, ?it/s]"
          ],
          "name": "stderr"
        },
        {
          "output_type": "stream",
          "text": [
            "Class Kaon\n",
            "[[  0.89260559   6.         125.         251.44843332]\n",
            " [  0.89314184   6.         100.         211.41125178]\n",
            " [  0.89908455   7.         100.         241.36457745]\n",
            " [  0.89955897   7.         125.         289.28155486]]\n"
          ],
          "name": "stdout"
        },
        {
          "output_type": "stream",
          "text": [
            "100%|██████████| 4/4 [52:00<00:00, 780.22s/it]\n",
            "  0%|          | 0/4 [00:00<?, ?it/s]"
          ],
          "name": "stderr"
        },
        {
          "output_type": "stream",
          "text": [
            "Class Muon\n",
            "[[  0.98497022   6.         125.         262.06752539]\n",
            " [  0.98498978   6.         100.         208.79070934]\n",
            " [  0.98693259   7.         125.         288.13980063]\n",
            " [  0.98699109   7.         100.         243.63783805]]\n"
          ],
          "name": "stdout"
        },
        {
          "output_type": "stream",
          "text": [
            " 75%|███████▌  | 3/4 [36:00<11:43, 703.68s/it]"
          ],
          "name": "stderr"
        }
      ]
    },
    {
      "cell_type": "markdown",
      "metadata": {
        "id": "kRv33qWekVRb",
        "colab_type": "text"
      },
      "source": [
        "## Вывод\n",
        "- Были проверены различные параметры леса: глубина и количество деревьев. Оптимальными оказались `max_depth = 7` и `n_estimators = 100 - 125` для разных классов частиц. Дальнейшее \"углубление\" или большее количество деревьев не дают весомого улучшения __AUC__ за разумное время\n",
        "\n",
        "- Необходима более мощная аппаратная конфигурация машины - ноутбук не подходит для таких целей!"
      ]
    },
    {
      "cell_type": "markdown",
      "metadata": {
        "id": "qae9LKxNIhqt",
        "colab_type": "text"
      },
      "source": [
        "**Задание 5.3** Используя гиперпараметры, найденные в предыдущем задании, и метод случайного леса, решите задачу бинарной классификации (\"один против всех\") для каждой из частиц. Аналогично заданию 5.1, используя тестовый набор данных, постройте график ROC и определите AUC для каждой из частиц."
      ]
    },
    {
      "cell_type": "code",
      "metadata": {
        "scrolled": false,
        "id": "epCfvIN9Ihqw",
        "colab_type": "code",
        "colab": {}
      },
      "source": [
        "from sklearn.ensemble import RandomForestClassifier\n",
        "\n",
        "params = {\n",
        "    'Muon' : {\n",
        "        'n_estimators': 125,\n",
        "        'max_depth': 7,\n",
        "    },\n",
        "    'Ghost' : {\n",
        "        'n_estimators': 125,\n",
        "        'max_depth': 7,\n",
        "    },\n",
        "    'Kaon' : {\n",
        "        'n_estimators': 100,\n",
        "        'max_depth': 7,\n",
        "    },\n",
        "    'Electron': {\n",
        "        'n_estimators': 100,\n",
        "        'max_depth': 7,\n",
        "    },\n",
        "    'Pion' : {\n",
        "        'n_estimators': 100,\n",
        "        'max_depth': 7,\n",
        "    },\n",
        "    'Proton' : {\n",
        "        'n_estimators': 125,\n",
        "        'max_depth': 7,\n",
        "    },\n",
        "}"
      ],
      "execution_count": 0,
      "outputs": []
    },
    {
      "cell_type": "code",
      "metadata": {
        "scrolled": false,
        "id": "pYaENTNyIhq5",
        "colab_type": "code",
        "outputId": "594d3feb-5f78-4ca8-f507-e31cbc4145ae",
        "colab": {
          "base_uri": "https://localhost:8080/",
          "height": 67,
          "referenced_widgets": [
            "8957dd7e10164a5eba7fc83fc1e0abd9",
            "e7f8e860d7954baa8719762621de9254",
            "b568288b011046f6adcb804d3fbe0f67",
            "6f0856a6654241b888a14a76543cba28",
            "61689d5c2f13483a8006cdf8feaad62b",
            "a02c4a94103040a3a3a8c245641a1e50",
            "12058f80c3df48b3af257c52bbe6f919",
            "7640f06700834ea295034d2f9fbbef12"
          ]
        }
      },
      "source": [
        "from sklearn.ensemble import RandomForestClassifier\n",
        "import sklearn.metrics\n",
        "\n",
        "\n",
        "roc = {}\n",
        "auc = {}\n",
        "for l, label in enumerate(tqdm(labels)):\n",
        "    one_y_train = (y_train == l).astype(np.float) #\n",
        "    one_y_test = (y_test == l).astype(np.float) #\n",
        "    \n",
        "    c = RandomForestClassifier(n_jobs=-1, **params[label])\n",
        "    c.fit(x_train, one_y_train)\n",
        "    \n",
        "    y_pred = c.predict(x_test) #\n",
        "    scores = c.predict_proba(x_test)[:,1] #\n",
        "    \n",
        "    fpr, tpr, _ = sklearn.metrics.roc_curve(one_y_test, scores)\n",
        "    roc[l] = {\"tpr\": tpr, \"fpr\": fpr}\n",
        "    auc[l] = sklearn.metrics.roc_auc_score(one_y_test, scores)"
      ],
      "execution_count": 0,
      "outputs": [
        {
          "output_type": "display_data",
          "data": {
            "application/vnd.jupyter.widget-view+json": {
              "model_id": "8957dd7e10164a5eba7fc83fc1e0abd9",
              "version_minor": 0,
              "version_major": 2
            },
            "text/plain": [
              "HBox(children=(FloatProgress(value=0.0, max=6.0), HTML(value='')))"
            ]
          },
          "metadata": {
            "tags": []
          }
        },
        {
          "output_type": "stream",
          "text": [
            "\n"
          ],
          "name": "stdout"
        }
      ]
    },
    {
      "cell_type": "code",
      "metadata": {
        "scrolled": false,
        "id": "P6RxJ8b4IhrC",
        "colab_type": "code",
        "outputId": "76b1ab29-a7f8-4af7-e3e2-9f8d6bd5fa5f",
        "colab": {
          "base_uri": "https://localhost:8080/",
          "height": 295
        }
      },
      "source": [
        "plt.figure()\n",
        "plt.title(\"Receiver operating characteristic\")\n",
        "plt.xlabel(\"False positive rate\")\n",
        "plt.ylabel(\"True positive rate\")\n",
        "for l, label in enumerate(labels):\n",
        "    plt.plot(roc[l]['fpr'], roc[l]['tpr'], label='{} AUC={:.4f}'.format(label, auc[l]))\n",
        "_ = plt.legend(loc='lower right')"
      ],
      "execution_count": 0,
      "outputs": [
        {
          "output_type": "display_data",
          "data": {
            "image/png": "[encoded data removed]",
            "text/plain": [
              "<Figure size 432x288 with 1 Axes>"
            ]
          },
          "metadata": {
            "tags": [],
            "needs_background": "light"
          }
        }
      ]
    },
    {
      "cell_type": "markdown",
      "metadata": {
        "scrolled": true,
        "id": "jU5iQav3IhrO",
        "colab_type": "text"
      },
      "source": [
        "## Многоклассовый классификатор"
      ]
    },
    {
      "cell_type": "markdown",
      "metadata": {
        "id": "iBO0rXsMIhrP",
        "colab_type": "text"
      },
      "source": [
        "**Задание 5.4** Решите задачу многоклассовой классификации для всех частиц сразу с помощью метода случайного леса (используйте готовый класс `RandomForestClassifier` из пакета `sklearn`). В этом задании используя метод кросс-валидации и набор данных для обучения, подберите оптимальные гиперпараметры для метода случайного леса.\n",
        "\n",
        "В коде ниже предлагается варьировать число деревьев в лесу и максимальную глубину дерева, вы можете выбирать другие гиперпараметры на своё усмотрение.\n",
        "\n",
        "Для каждого набора гиперпараметров распечатайте и сравние значения точности (accuracy), кросс-энтропии (логарифм потерь), и времени обучения."
      ]
    },
    {
      "cell_type": "code",
      "metadata": {
        "scrolled": false,
        "id": "9CD3ZeCXIhrQ",
        "colab_type": "code",
        "outputId": "81c08312-cb4e-4609-c81f-993ca12949d1",
        "colab": {
          "base_uri": "https://localhost:8080/",
          "height": 67,
          "referenced_widgets": [
            "acf5fdd98e5d4ea6abaae25e589bec40",
            "b4775dccd76d4138a72cd41e96df8d6c",
            "d3c3b42927354f4bb8243a2f0254ce75",
            "bc45771903014daf8f5b2d5c46016843",
            "4024e4e9f9144941ab973b377227099f",
            "f01acf643d9949ee954b348fdaaf93ee",
            "73616c45aae34ef0bb080c2d4cb89268",
            "24a82a038bd944769058737a69a45abe"
          ]
        }
      },
      "source": [
        "max_depths = np.arange(6, 8) \n",
        "n_estimatorss = np.arange(100, 150, 25)\n",
        "hparam = np.array(np.meshgrid(max_depths, n_estimatorss)).reshape(2, -1).T\n",
        "\n",
        "scoring = {\n",
        "    \"accuracy\": \"accuracy\",\n",
        "    \"log_loss\": \"neg_log_loss\",\n",
        "}\n",
        "\n",
        "scores = []\n",
        "for max_depth, n_estimators in tqdm(hparam):\n",
        "    c = RandomForestClassifier(max_depth=max_depth, n_estimators=n_estimators)\n",
        "    s = cross_validate(c, x, y.reshape(-1), cv=5, scoring=scoring, return_train_score=True)\n",
        "    scores.append(s)"
      ],
      "execution_count": 0,
      "outputs": [
        {
          "output_type": "display_data",
          "data": {
            "application/vnd.jupyter.widget-view+json": {
              "model_id": "acf5fdd98e5d4ea6abaae25e589bec40",
              "version_minor": 0,
              "version_major": 2
            },
            "text/plain": [
              "HBox(children=(FloatProgress(value=0.0, max=4.0), HTML(value='')))"
            ]
          },
          "metadata": {
            "tags": []
          }
        },
        {
          "output_type": "stream",
          "text": [
            "\n"
          ],
          "name": "stdout"
        }
      ]
    },
    {
      "cell_type": "code",
      "metadata": {
        "scrolled": false,
        "id": "otXnjYPlIhrY",
        "colab_type": "code",
        "colab": {}
      },
      "source": [
        "scores = flat_dict(scores)"
      ],
      "execution_count": 0,
      "outputs": []
    },
    {
      "cell_type": "code",
      "metadata": {
        "scrolled": false,
        "id": "8WV_1ojKIhrc",
        "colab_type": "code",
        "outputId": "51954451-8aba-47db-8b62-82170094b2cc",
        "colab": {
          "base_uri": "https://localhost:8080/",
          "height": 90
        }
      },
      "source": [
        "log_loss = np.hstack([scores['test_log_loss'].mean(axis=1).reshape(-1,1), scores['test_accuracy'].mean(axis=1).reshape(-1,1), hparam, scores['fit_time'].mean(axis=1).reshape(-1,1)])\n",
        "print(log_loss[log_loss[:,0].argsort()])"
      ],
      "execution_count": 0,
      "outputs": [
        {
          "output_type": "stream",
          "text": [
            "[[ -0.8492549    0.70689583   6.         125.         371.58799319]\n",
            " [ -0.84822221   0.70837      6.         100.         304.17450824]\n",
            " [ -0.80295857   0.71420917   7.         100.         340.30581245]\n",
            " [ -0.80284152   0.71417      7.         125.         395.141675  ]]\n"
          ],
          "name": "stdout"
        }
      ]
    },
    {
      "cell_type": "markdown",
      "metadata": {
        "id": "akETjVXf2S36",
        "colab_type": "text"
      },
      "source": [
        ""
      ]
    },
    {
      "cell_type": "markdown",
      "metadata": {
        "id": "a_bl0YauIhrm",
        "colab_type": "text"
      },
      "source": [
        "**Задание 5.5** Используя гиперпараметры найденные в задании 5.4, и метод случайного леса, решите задачу многоклассовой классификации для всех частиц сразу. Аналогично заданию 5.1, используя тестовый набор данных, постройте график ROC и определите AUC для каждой из частиц.\n",
        "Рассчитайте матрицу ошибок $6 \\times 6$ для всех классов."
      ]
    },
    {
      "cell_type": "code",
      "metadata": {
        "scrolled": false,
        "id": "JH8qShoUIhrn",
        "colab_type": "code",
        "outputId": "29bc6ef5-1160-4c4a-a5b0-de9f3cbca886",
        "colab": {
          "base_uri": "https://localhost:8080/",
          "height": 67,
          "referenced_widgets": [
            "c2f7b511973148f99537128498a6b2e4",
            "d1d9a9f3cfac42d091bba0e5e7b66b97",
            "b209e610b1d94c489ab96af57a043234",
            "163b13a29e59460e8ab6344ebffd7ad6",
            "aaed0344418942a5b8b38fe3d0bb6932",
            "472ec57eaf494cebb1eb4845aaa9a975",
            "22a05df29dac4c408c82f9bb3589c0e4",
            "7a22700ee1f64f36b2590d9319dbbaf7"
          ]
        }
      },
      "source": [
        "from sklearn.ensemble import RandomForestClassifier\n",
        "import sklearn.metrics\n",
        "\n",
        "c = RandomForestClassifier(n_jobs=-1, max_depth=7, n_estimators=100)\n",
        "c.fit(x_train, y_train.reshape(-1))\n",
        "\n",
        "scores = c.predict_proba(x_test)\n",
        "\n",
        "roc = {}\n",
        "auc = {}\n",
        "for l, label in enumerate(tqdm(labels)):\n",
        "    lscores = scores[:, l]\n",
        "    one_y_test = (y_test == l).astype(np.float)\n",
        "    \n",
        "    fpr, tpr, _ = sklearn.metrics.roc_curve(one_y_test, lscores)\n",
        "    roc[l] = {\"tpr\": tpr, \"fpr\": fpr}\n",
        "    auc[l] = sklearn.metrics.roc_auc_score(one_y_test, lscores)"
      ],
      "execution_count": 0,
      "outputs": [
        {
          "output_type": "display_data",
          "data": {
            "application/vnd.jupyter.widget-view+json": {
              "model_id": "c2f7b511973148f99537128498a6b2e4",
              "version_minor": 0,
              "version_major": 2
            },
            "text/plain": [
              "HBox(children=(FloatProgress(value=0.0, max=6.0), HTML(value='')))"
            ]
          },
          "metadata": {
            "tags": []
          }
        },
        {
          "output_type": "stream",
          "text": [
            "\n"
          ],
          "name": "stdout"
        }
      ]
    },
    {
      "cell_type": "code",
      "metadata": {
        "scrolled": false,
        "id": "KqpXnoHNIhrx",
        "colab_type": "code",
        "outputId": "342a384d-c1e0-4696-ce3f-004287ad3d7a",
        "colab": {
          "base_uri": "https://localhost:8080/",
          "height": 295
        }
      },
      "source": [
        "plt.figure()\n",
        "plt.title(\"Receiver operating characteristic\")\n",
        "plt.xlabel(\"False positive rate\")\n",
        "plt.ylabel(\"True positive rate\")\n",
        "for l, label in enumerate(labels):\n",
        "    plt.plot(roc[l]['fpr'], roc[l]['tpr'], label='{} AUC={:.4f}'.format(label, auc[l]))\n",
        "_ = plt.legend(loc='lower right')"
      ],
      "execution_count": 0,
      "outputs": [
        {
          "output_type": "display_data",
          "data": {
            "image/png": "[encoded data removed]",
            "text/plain": [
              "<Figure size 432x288 with 1 Axes>"
            ]
          },
          "metadata": {
            "tags": [],
            "needs_background": "light"
          }
        }
      ]
    },
    {
      "cell_type": "code",
      "metadata": {
        "scrolled": false,
        "id": "0jOk6wmaIhr2",
        "colab_type": "code",
        "outputId": "927ea772-d32f-4b47-fd7f-fbd9f0504c8e",
        "colab": {
          "base_uri": "https://localhost:8080/",
          "height": 518
        }
      },
      "source": [
        "from sklearn.metrics import confusion_matrix\n",
        "from sklearn.metrics import classification_report\n",
        "from sklearn.metrics import ConfusionMatrixDisplay\n",
        "\n",
        "y_true = y_test\n",
        "y_pred = c.predict(x_test)\n",
        "\n",
        "print(classification_report(y_true, y_pred, target_names=labels))\n",
        "\n",
        "cm = confusion_matrix(y_true, y_pred)\n",
        "\n",
        "cmd = ConfusionMatrixDisplay(cm, display_labels=labels)\n",
        "_ = cmd.plot()"
      ],
      "execution_count": 0,
      "outputs": [
        {
          "output_type": "stream",
          "text": [
            "              precision    recall  f1-score   support\n",
            "\n",
            "    Electron       0.85      0.86      0.85     49983\n",
            "       Ghost       0.72      0.74      0.73     49964\n",
            "        Kaon       0.63      0.51      0.56     49901\n",
            "        Muon       0.92      0.82      0.87     50344\n",
            "        Pion       0.60      0.81      0.69     49894\n",
            "      Proton       0.61      0.55      0.58     49914\n",
            "\n",
            "    accuracy                           0.71    300000\n",
            "   macro avg       0.72      0.71      0.71    300000\n",
            "weighted avg       0.72      0.71      0.71    300000\n",
            "\n"
          ],
          "name": "stdout"
        },
        {
          "output_type": "display_data",
          "data": {
            "image/png": "[encoded data removed]",
            "text/plain": [
              "<Figure size 432x288 with 2 Axes>"
            ]
          },
          "metadata": {
            "tags": [],
            "needs_background": "light"
          }
        }
      ]
    },
    {
      "cell_type": "markdown",
      "metadata": {
        "id": "zAzugSK7Ihr9",
        "colab_type": "text"
      },
      "source": [
        "**Задание 5.6** Решите задачу многоклассовой классификации для всех частиц сразу с помощью метода градиентного бустинга (используйте готовый класс `XGBClassifier` из пакета `xgboost`). В этом задании используя метод кросс-валидации и набор данных для обучения, подберите оптимальные гиперпараметры для метода градиентного бустинга.\n",
        "\n",
        "В коде ниже предлагается варьировать число шагов бустинга (число деревьев) и максимальную глубину дерева, вы можете выбирать другие гиперпараметры на своё усмотрение.\n",
        "\n",
        "Для каждого набора гиперпараметров распечатайте и сравние значения точности (accuracy), кросс-энтропии (логарифм потерь), и времени обучения."
      ]
    },
    {
      "cell_type": "code",
      "metadata": {
        "id": "YMUJnI2DPnz2",
        "colab_type": "code",
        "outputId": "52cb710f-a8cb-435a-ae33-def2f0ef6713",
        "colab": {
          "base_uri": "https://localhost:8080/",
          "height": 72
        }
      },
      "source": [
        "!pip install xgboost"
      ],
      "execution_count": 0,
      "outputs": [
        {
          "output_type": "stream",
          "text": [
            "Requirement already satisfied: xgboost in /usr/local/lib/python3.6/dist-packages (0.90)\n",
            "Requirement already satisfied: numpy in /usr/local/lib/python3.6/dist-packages (from xgboost) (1.18.5)\n",
            "Requirement already satisfied: scipy in /usr/local/lib/python3.6/dist-packages (from xgboost) (1.4.1)\n"
          ],
          "name": "stdout"
        }
      ]
    },
    {
      "cell_type": "code",
      "metadata": {
        "id": "p3MQOb8gIhr-",
        "colab_type": "code",
        "outputId": "c2a2eaa4-5795-40e3-ad17-30b3e4f04364",
        "colab": {
          "base_uri": "https://localhost:8080/",
          "height": 67,
          "referenced_widgets": [
            "833e54cdcfef452d908f349fb0088eda",
            "d67feba3ef5248a3aeb27ebfc5737bc5",
            "34b0260386b24e86b854465787f0a344",
            "26fe6d3412b943488f3aa49ce928e29c",
            "07ee2e0f18b04321840bd91aff2ff878",
            "2d9b75ed32de4fe99b672e50c42f84eb",
            "1162646177874245be82e29f6a1cc42d",
            "feffea21751d4bb2b8726a74bdffc4b0"
          ]
        }
      },
      "source": [
        "from xgboost import XGBClassifier\n",
        "from sklearn.model_selection import cross_validate\n",
        "\n",
        "max_depths = 6\n",
        "n_estimatorss = 100\n",
        "hparam = np.array(np.meshgrid(max_depths, n_estimatorss)).reshape(2, -1).T\n",
        "\n",
        "scoring = {\n",
        "    \"accuracy\": \"accuracy\",\n",
        "    \"log_loss\": \"neg_log_loss\",\n",
        "}\n",
        "\n",
        "scores = []\n",
        "for max_depth, n_estimators in tqdm(hparam):\n",
        "    c = XGBClassifier(max_depth=max_depth, n_estimators=n_estimators)\n",
        "    s = cross_validate(c, x, y.reshape(-1), cv=5, scoring=scoring, return_train_score=True)\n",
        "    scores.append(s)"
      ],
      "execution_count": 0,
      "outputs": [
        {
          "output_type": "display_data",
          "data": {
            "application/vnd.jupyter.widget-view+json": {
              "model_id": "833e54cdcfef452d908f349fb0088eda",
              "version_minor": 0,
              "version_major": 2
            },
            "text/plain": [
              "HBox(children=(FloatProgress(value=0.0, max=1.0), HTML(value='')))"
            ]
          },
          "metadata": {
            "tags": []
          }
        },
        {
          "output_type": "stream",
          "text": [
            "\n"
          ],
          "name": "stdout"
        }
      ]
    },
    {
      "cell_type": "code",
      "metadata": {
        "id": "dk939KsYIhsG",
        "colab_type": "code",
        "colab": {}
      },
      "source": [
        "scores = flat_dict(scores)"
      ],
      "execution_count": 0,
      "outputs": []
    },
    {
      "cell_type": "code",
      "metadata": {
        "id": "TnMUkyuvIhsK",
        "colab_type": "code",
        "outputId": "a9792c3f-f3f2-4090-9d17-3e3f183aa4fc",
        "colab": {
          "base_uri": "https://localhost:8080/",
          "height": 54
        }
      },
      "source": [
        "log_loss = np.hstack([scores['test_log_loss'].mean(axis=1).reshape(-1,1), scores['test_accuracy'].mean(axis=1).reshape(-1,1), hparam, scores['fit_time'].mean(axis=1).reshape(-1,1)])\n",
        "print(log_loss[log_loss[:,0].argsort()])"
      ],
      "execution_count": 0,
      "outputs": [
        {
          "output_type": "stream",
          "text": [
            "[[-5.92016967e-01  7.60597500e-01  6.00000000e+00  1.00000000e+02\n",
            "   4.17540566e+03]]\n"
          ],
          "name": "stdout"
        }
      ]
    },
    {
      "cell_type": "code",
      "metadata": {
        "id": "ZCx6_ffKWvyM",
        "colab_type": "code",
        "outputId": "d668e0a3-9963-4d8d-d2ae-d98e3f5270dc",
        "colab": {
          "base_uri": "https://localhost:8080/",
          "height": 430,
          "referenced_widgets": [
            "75947890c26340a5b9721893ef76c231",
            "d183bdcafa234e43b0c126f6cdc7570b",
            "7f72e1c0604d4215b350bc3ce9ef2951",
            "eeac16f812af49b5b8a97192ab8f73d7",
            "f4106569808c42c4be3ff9f4e1ebcffa",
            "a36e45fc3e0a4c44be9486903377d906",
            "94621ee5aa6049efa2a5ecf4514207cc",
            "22838e80b4594420934d2e148dd8b694"
          ]
        }
      },
      "source": [
        "from xgboost import XGBClassifier\n",
        "from sklearn.model_selection import cross_validate\n",
        "\n",
        "max_depths = 7\n",
        "n_estimatorss = 125\n",
        "hparam = np.array(np.meshgrid(max_depths, n_estimatorss)).reshape(2, -1).T\n",
        "\n",
        "scoring = {\n",
        "    \"accuracy\": \"accuracy\",\n",
        "    \"log_loss\": \"neg_log_loss\",\n",
        "}\n",
        "\n",
        "scores = []\n",
        "for max_depth, n_estimators in tqdm(hparam):\n",
        "    c = XGBClassifier(max_depth=max_depth, n_estimators=n_estimators)\n",
        "    s = cross_validate(c, x, y.reshape(-1), cv=5, scoring=scoring, return_train_score=True)\n",
        "    scores.append(s)\n",
        "\n",
        "\n",
        "scores = flat_dict(scores)"
      ],
      "execution_count": 21,
      "outputs": [
        {
          "output_type": "display_data",
          "data": {
            "application/vnd.jupyter.widget-view+json": {
              "model_id": "75947890c26340a5b9721893ef76c231",
              "version_minor": 0,
              "version_major": 2
            },
            "text/plain": [
              "HBox(children=(FloatProgress(value=0.0, max=1.0), HTML(value='')))"
            ]
          },
          "metadata": {
            "tags": []
          }
        },
        {
          "output_type": "error",
          "ename": "KeyboardInterrupt",
          "evalue": "ignored",
          "traceback": [
            "\u001b[0;31m---------------------------------------------------------------------------\u001b[0m",
            "\u001b[0;31mKeyboardInterrupt\u001b[0m                         Traceback (most recent call last)",
            "\u001b[0;32m<ipython-input-21-78dfde3e6e59>\u001b[0m in \u001b[0;36m<module>\u001b[0;34m()\u001b[0m\n\u001b[1;32m     14\u001b[0m \u001b[0;32mfor\u001b[0m \u001b[0mmax_depth\u001b[0m\u001b[0;34m,\u001b[0m \u001b[0mn_estimators\u001b[0m \u001b[0;32min\u001b[0m \u001b[0mtqdm\u001b[0m\u001b[0;34m(\u001b[0m\u001b[0mhparam\u001b[0m\u001b[0;34m)\u001b[0m\u001b[0;34m:\u001b[0m\u001b[0;34m\u001b[0m\u001b[0;34m\u001b[0m\u001b[0m\n\u001b[1;32m     15\u001b[0m     \u001b[0mc\u001b[0m \u001b[0;34m=\u001b[0m \u001b[0mXGBClassifier\u001b[0m\u001b[0;34m(\u001b[0m\u001b[0mmax_depth\u001b[0m\u001b[0;34m=\u001b[0m\u001b[0mmax_depth\u001b[0m\u001b[0;34m,\u001b[0m \u001b[0mn_estimators\u001b[0m\u001b[0;34m=\u001b[0m\u001b[0mn_estimators\u001b[0m\u001b[0;34m)\u001b[0m\u001b[0;34m\u001b[0m\u001b[0;34m\u001b[0m\u001b[0m\n\u001b[0;32m---> 16\u001b[0;31m     \u001b[0ms\u001b[0m \u001b[0;34m=\u001b[0m \u001b[0mcross_validate\u001b[0m\u001b[0;34m(\u001b[0m\u001b[0mc\u001b[0m\u001b[0;34m,\u001b[0m \u001b[0mx\u001b[0m\u001b[0;34m,\u001b[0m \u001b[0my\u001b[0m\u001b[0;34m.\u001b[0m\u001b[0mreshape\u001b[0m\u001b[0;34m(\u001b[0m\u001b[0;34m-\u001b[0m\u001b[0;36m1\u001b[0m\u001b[0;34m)\u001b[0m\u001b[0;34m,\u001b[0m \u001b[0mcv\u001b[0m\u001b[0;34m=\u001b[0m\u001b[0;36m5\u001b[0m\u001b[0;34m,\u001b[0m \u001b[0mscoring\u001b[0m\u001b[0;34m=\u001b[0m\u001b[0mscoring\u001b[0m\u001b[0;34m,\u001b[0m \u001b[0mreturn_train_score\u001b[0m\u001b[0;34m=\u001b[0m\u001b[0;32mTrue\u001b[0m\u001b[0;34m)\u001b[0m\u001b[0;34m\u001b[0m\u001b[0;34m\u001b[0m\u001b[0m\n\u001b[0m\u001b[1;32m     17\u001b[0m     \u001b[0mscores\u001b[0m\u001b[0;34m.\u001b[0m\u001b[0mappend\u001b[0m\u001b[0;34m(\u001b[0m\u001b[0ms\u001b[0m\u001b[0;34m)\u001b[0m\u001b[0;34m\u001b[0m\u001b[0;34m\u001b[0m\u001b[0m\n\u001b[1;32m     18\u001b[0m \u001b[0;34m\u001b[0m\u001b[0m\n",
            "\u001b[0;32m/usr/local/lib/python3.6/dist-packages/sklearn/model_selection/_validation.py\u001b[0m in \u001b[0;36mcross_validate\u001b[0;34m(estimator, X, y, groups, scoring, cv, n_jobs, verbose, fit_params, pre_dispatch, return_train_score, return_estimator, error_score)\u001b[0m\n\u001b[1;32m    234\u001b[0m             \u001b[0mreturn_times\u001b[0m\u001b[0;34m=\u001b[0m\u001b[0;32mTrue\u001b[0m\u001b[0;34m,\u001b[0m \u001b[0mreturn_estimator\u001b[0m\u001b[0;34m=\u001b[0m\u001b[0mreturn_estimator\u001b[0m\u001b[0;34m,\u001b[0m\u001b[0;34m\u001b[0m\u001b[0;34m\u001b[0m\u001b[0m\n\u001b[1;32m    235\u001b[0m             error_score=error_score)\n\u001b[0;32m--> 236\u001b[0;31m         for train, test in cv.split(X, y, groups))\n\u001b[0m\u001b[1;32m    237\u001b[0m \u001b[0;34m\u001b[0m\u001b[0m\n\u001b[1;32m    238\u001b[0m     \u001b[0mzipped_scores\u001b[0m \u001b[0;34m=\u001b[0m \u001b[0mlist\u001b[0m\u001b[0;34m(\u001b[0m\u001b[0mzip\u001b[0m\u001b[0;34m(\u001b[0m\u001b[0;34m*\u001b[0m\u001b[0mscores\u001b[0m\u001b[0;34m)\u001b[0m\u001b[0;34m)\u001b[0m\u001b[0;34m\u001b[0m\u001b[0;34m\u001b[0m\u001b[0m\n",
            "\u001b[0;32m/usr/local/lib/python3.6/dist-packages/joblib/parallel.py\u001b[0m in \u001b[0;36m__call__\u001b[0;34m(self, iterable)\u001b[0m\n\u001b[1;32m   1030\u001b[0m                 \u001b[0mself\u001b[0m\u001b[0;34m.\u001b[0m\u001b[0m_iterating\u001b[0m \u001b[0;34m=\u001b[0m \u001b[0mself\u001b[0m\u001b[0;34m.\u001b[0m\u001b[0m_original_iterator\u001b[0m \u001b[0;32mis\u001b[0m \u001b[0;32mnot\u001b[0m \u001b[0;32mNone\u001b[0m\u001b[0;34m\u001b[0m\u001b[0;34m\u001b[0m\u001b[0m\n\u001b[1;32m   1031\u001b[0m \u001b[0;34m\u001b[0m\u001b[0m\n\u001b[0;32m-> 1032\u001b[0;31m             \u001b[0;32mwhile\u001b[0m \u001b[0mself\u001b[0m\u001b[0;34m.\u001b[0m\u001b[0mdispatch_one_batch\u001b[0m\u001b[0;34m(\u001b[0m\u001b[0miterator\u001b[0m\u001b[0;34m)\u001b[0m\u001b[0;34m:\u001b[0m\u001b[0;34m\u001b[0m\u001b[0;34m\u001b[0m\u001b[0m\n\u001b[0m\u001b[1;32m   1033\u001b[0m                 \u001b[0;32mpass\u001b[0m\u001b[0;34m\u001b[0m\u001b[0;34m\u001b[0m\u001b[0m\n\u001b[1;32m   1034\u001b[0m \u001b[0;34m\u001b[0m\u001b[0m\n",
            "\u001b[0;32m/usr/local/lib/python3.6/dist-packages/joblib/parallel.py\u001b[0m in \u001b[0;36mdispatch_one_batch\u001b[0;34m(self, iterator)\u001b[0m\n\u001b[1;32m    845\u001b[0m                 \u001b[0;32mreturn\u001b[0m \u001b[0;32mFalse\u001b[0m\u001b[0;34m\u001b[0m\u001b[0;34m\u001b[0m\u001b[0m\n\u001b[1;32m    846\u001b[0m             \u001b[0;32melse\u001b[0m\u001b[0;34m:\u001b[0m\u001b[0;34m\u001b[0m\u001b[0;34m\u001b[0m\u001b[0m\n\u001b[0;32m--> 847\u001b[0;31m                 \u001b[0mself\u001b[0m\u001b[0;34m.\u001b[0m\u001b[0m_dispatch\u001b[0m\u001b[0;34m(\u001b[0m\u001b[0mtasks\u001b[0m\u001b[0;34m)\u001b[0m\u001b[0;34m\u001b[0m\u001b[0;34m\u001b[0m\u001b[0m\n\u001b[0m\u001b[1;32m    848\u001b[0m                 \u001b[0;32mreturn\u001b[0m \u001b[0;32mTrue\u001b[0m\u001b[0;34m\u001b[0m\u001b[0;34m\u001b[0m\u001b[0m\n\u001b[1;32m    849\u001b[0m \u001b[0;34m\u001b[0m\u001b[0m\n",
            "\u001b[0;32m/usr/local/lib/python3.6/dist-packages/joblib/parallel.py\u001b[0m in \u001b[0;36m_dispatch\u001b[0;34m(self, batch)\u001b[0m\n\u001b[1;32m    763\u001b[0m         \u001b[0;32mwith\u001b[0m \u001b[0mself\u001b[0m\u001b[0;34m.\u001b[0m\u001b[0m_lock\u001b[0m\u001b[0;34m:\u001b[0m\u001b[0;34m\u001b[0m\u001b[0;34m\u001b[0m\u001b[0m\n\u001b[1;32m    764\u001b[0m             \u001b[0mjob_idx\u001b[0m \u001b[0;34m=\u001b[0m \u001b[0mlen\u001b[0m\u001b[0;34m(\u001b[0m\u001b[0mself\u001b[0m\u001b[0;34m.\u001b[0m\u001b[0m_jobs\u001b[0m\u001b[0;34m)\u001b[0m\u001b[0;34m\u001b[0m\u001b[0;34m\u001b[0m\u001b[0m\n\u001b[0;32m--> 765\u001b[0;31m             \u001b[0mjob\u001b[0m \u001b[0;34m=\u001b[0m \u001b[0mself\u001b[0m\u001b[0;34m.\u001b[0m\u001b[0m_backend\u001b[0m\u001b[0;34m.\u001b[0m\u001b[0mapply_async\u001b[0m\u001b[0;34m(\u001b[0m\u001b[0mbatch\u001b[0m\u001b[0;34m,\u001b[0m \u001b[0mcallback\u001b[0m\u001b[0;34m=\u001b[0m\u001b[0mcb\u001b[0m\u001b[0;34m)\u001b[0m\u001b[0;34m\u001b[0m\u001b[0;34m\u001b[0m\u001b[0m\n\u001b[0m\u001b[1;32m    766\u001b[0m             \u001b[0;31m# A job can complete so quickly than its callback is\u001b[0m\u001b[0;34m\u001b[0m\u001b[0;34m\u001b[0m\u001b[0;34m\u001b[0m\u001b[0m\n\u001b[1;32m    767\u001b[0m             \u001b[0;31m# called before we get here, causing self._jobs to\u001b[0m\u001b[0;34m\u001b[0m\u001b[0;34m\u001b[0m\u001b[0;34m\u001b[0m\u001b[0m\n",
            "\u001b[0;32m/usr/local/lib/python3.6/dist-packages/joblib/_parallel_backends.py\u001b[0m in \u001b[0;36mapply_async\u001b[0;34m(self, func, callback)\u001b[0m\n\u001b[1;32m    204\u001b[0m     \u001b[0;32mdef\u001b[0m \u001b[0mapply_async\u001b[0m\u001b[0;34m(\u001b[0m\u001b[0mself\u001b[0m\u001b[0;34m,\u001b[0m \u001b[0mfunc\u001b[0m\u001b[0;34m,\u001b[0m \u001b[0mcallback\u001b[0m\u001b[0;34m=\u001b[0m\u001b[0;32mNone\u001b[0m\u001b[0;34m)\u001b[0m\u001b[0;34m:\u001b[0m\u001b[0;34m\u001b[0m\u001b[0;34m\u001b[0m\u001b[0m\n\u001b[1;32m    205\u001b[0m         \u001b[0;34m\"\"\"Schedule a func to be run\"\"\"\u001b[0m\u001b[0;34m\u001b[0m\u001b[0;34m\u001b[0m\u001b[0m\n\u001b[0;32m--> 206\u001b[0;31m         \u001b[0mresult\u001b[0m \u001b[0;34m=\u001b[0m \u001b[0mImmediateResult\u001b[0m\u001b[0;34m(\u001b[0m\u001b[0mfunc\u001b[0m\u001b[0;34m)\u001b[0m\u001b[0;34m\u001b[0m\u001b[0;34m\u001b[0m\u001b[0m\n\u001b[0m\u001b[1;32m    207\u001b[0m         \u001b[0;32mif\u001b[0m \u001b[0mcallback\u001b[0m\u001b[0;34m:\u001b[0m\u001b[0;34m\u001b[0m\u001b[0;34m\u001b[0m\u001b[0m\n\u001b[1;32m    208\u001b[0m             \u001b[0mcallback\u001b[0m\u001b[0;34m(\u001b[0m\u001b[0mresult\u001b[0m\u001b[0;34m)\u001b[0m\u001b[0;34m\u001b[0m\u001b[0;34m\u001b[0m\u001b[0m\n",
            "\u001b[0;32m/usr/local/lib/python3.6/dist-packages/joblib/_parallel_backends.py\u001b[0m in \u001b[0;36m__init__\u001b[0;34m(self, batch)\u001b[0m\n\u001b[1;32m    568\u001b[0m         \u001b[0;31m# Don't delay the application, to avoid keeping the input\u001b[0m\u001b[0;34m\u001b[0m\u001b[0;34m\u001b[0m\u001b[0;34m\u001b[0m\u001b[0m\n\u001b[1;32m    569\u001b[0m         \u001b[0;31m# arguments in memory\u001b[0m\u001b[0;34m\u001b[0m\u001b[0;34m\u001b[0m\u001b[0;34m\u001b[0m\u001b[0m\n\u001b[0;32m--> 570\u001b[0;31m         \u001b[0mself\u001b[0m\u001b[0;34m.\u001b[0m\u001b[0mresults\u001b[0m \u001b[0;34m=\u001b[0m \u001b[0mbatch\u001b[0m\u001b[0;34m(\u001b[0m\u001b[0;34m)\u001b[0m\u001b[0;34m\u001b[0m\u001b[0;34m\u001b[0m\u001b[0m\n\u001b[0m\u001b[1;32m    571\u001b[0m \u001b[0;34m\u001b[0m\u001b[0m\n\u001b[1;32m    572\u001b[0m     \u001b[0;32mdef\u001b[0m \u001b[0mget\u001b[0m\u001b[0;34m(\u001b[0m\u001b[0mself\u001b[0m\u001b[0;34m)\u001b[0m\u001b[0;34m:\u001b[0m\u001b[0;34m\u001b[0m\u001b[0;34m\u001b[0m\u001b[0m\n",
            "\u001b[0;32m/usr/local/lib/python3.6/dist-packages/joblib/parallel.py\u001b[0m in \u001b[0;36m__call__\u001b[0;34m(self)\u001b[0m\n\u001b[1;32m    251\u001b[0m         \u001b[0;32mwith\u001b[0m \u001b[0mparallel_backend\u001b[0m\u001b[0;34m(\u001b[0m\u001b[0mself\u001b[0m\u001b[0;34m.\u001b[0m\u001b[0m_backend\u001b[0m\u001b[0;34m,\u001b[0m \u001b[0mn_jobs\u001b[0m\u001b[0;34m=\u001b[0m\u001b[0mself\u001b[0m\u001b[0;34m.\u001b[0m\u001b[0m_n_jobs\u001b[0m\u001b[0;34m)\u001b[0m\u001b[0;34m:\u001b[0m\u001b[0;34m\u001b[0m\u001b[0;34m\u001b[0m\u001b[0m\n\u001b[1;32m    252\u001b[0m             return [func(*args, **kwargs)\n\u001b[0;32m--> 253\u001b[0;31m                     for func, args, kwargs in self.items]\n\u001b[0m\u001b[1;32m    254\u001b[0m \u001b[0;34m\u001b[0m\u001b[0m\n\u001b[1;32m    255\u001b[0m     \u001b[0;32mdef\u001b[0m \u001b[0m__reduce__\u001b[0m\u001b[0;34m(\u001b[0m\u001b[0mself\u001b[0m\u001b[0;34m)\u001b[0m\u001b[0;34m:\u001b[0m\u001b[0;34m\u001b[0m\u001b[0;34m\u001b[0m\u001b[0m\n",
            "\u001b[0;32m/usr/local/lib/python3.6/dist-packages/joblib/parallel.py\u001b[0m in \u001b[0;36m<listcomp>\u001b[0;34m(.0)\u001b[0m\n\u001b[1;32m    251\u001b[0m         \u001b[0;32mwith\u001b[0m \u001b[0mparallel_backend\u001b[0m\u001b[0;34m(\u001b[0m\u001b[0mself\u001b[0m\u001b[0;34m.\u001b[0m\u001b[0m_backend\u001b[0m\u001b[0;34m,\u001b[0m \u001b[0mn_jobs\u001b[0m\u001b[0;34m=\u001b[0m\u001b[0mself\u001b[0m\u001b[0;34m.\u001b[0m\u001b[0m_n_jobs\u001b[0m\u001b[0;34m)\u001b[0m\u001b[0;34m:\u001b[0m\u001b[0;34m\u001b[0m\u001b[0;34m\u001b[0m\u001b[0m\n\u001b[1;32m    252\u001b[0m             return [func(*args, **kwargs)\n\u001b[0;32m--> 253\u001b[0;31m                     for func, args, kwargs in self.items]\n\u001b[0m\u001b[1;32m    254\u001b[0m \u001b[0;34m\u001b[0m\u001b[0m\n\u001b[1;32m    255\u001b[0m     \u001b[0;32mdef\u001b[0m \u001b[0m__reduce__\u001b[0m\u001b[0;34m(\u001b[0m\u001b[0mself\u001b[0m\u001b[0;34m)\u001b[0m\u001b[0;34m:\u001b[0m\u001b[0;34m\u001b[0m\u001b[0;34m\u001b[0m\u001b[0m\n",
            "\u001b[0;32m/usr/local/lib/python3.6/dist-packages/sklearn/model_selection/_validation.py\u001b[0m in \u001b[0;36m_fit_and_score\u001b[0;34m(estimator, X, y, scorer, train, test, verbose, parameters, fit_params, return_train_score, return_parameters, return_n_test_samples, return_times, return_estimator, error_score)\u001b[0m\n\u001b[1;32m    513\u001b[0m             \u001b[0mestimator\u001b[0m\u001b[0;34m.\u001b[0m\u001b[0mfit\u001b[0m\u001b[0;34m(\u001b[0m\u001b[0mX_train\u001b[0m\u001b[0;34m,\u001b[0m \u001b[0;34m**\u001b[0m\u001b[0mfit_params\u001b[0m\u001b[0;34m)\u001b[0m\u001b[0;34m\u001b[0m\u001b[0;34m\u001b[0m\u001b[0m\n\u001b[1;32m    514\u001b[0m         \u001b[0;32melse\u001b[0m\u001b[0;34m:\u001b[0m\u001b[0;34m\u001b[0m\u001b[0;34m\u001b[0m\u001b[0m\n\u001b[0;32m--> 515\u001b[0;31m             \u001b[0mestimator\u001b[0m\u001b[0;34m.\u001b[0m\u001b[0mfit\u001b[0m\u001b[0;34m(\u001b[0m\u001b[0mX_train\u001b[0m\u001b[0;34m,\u001b[0m \u001b[0my_train\u001b[0m\u001b[0;34m,\u001b[0m \u001b[0;34m**\u001b[0m\u001b[0mfit_params\u001b[0m\u001b[0;34m)\u001b[0m\u001b[0;34m\u001b[0m\u001b[0;34m\u001b[0m\u001b[0m\n\u001b[0m\u001b[1;32m    516\u001b[0m \u001b[0;34m\u001b[0m\u001b[0m\n\u001b[1;32m    517\u001b[0m     \u001b[0;32mexcept\u001b[0m \u001b[0mException\u001b[0m \u001b[0;32mas\u001b[0m \u001b[0me\u001b[0m\u001b[0;34m:\u001b[0m\u001b[0;34m\u001b[0m\u001b[0;34m\u001b[0m\u001b[0m\n",
            "\u001b[0;32m/usr/local/lib/python3.6/dist-packages/xgboost/sklearn.py\u001b[0m in \u001b[0;36mfit\u001b[0;34m(self, X, y, sample_weight, eval_set, eval_metric, early_stopping_rounds, verbose, xgb_model, sample_weight_eval_set, callbacks)\u001b[0m\n\u001b[1;32m    730\u001b[0m                               \u001b[0mevals_result\u001b[0m\u001b[0;34m=\u001b[0m\u001b[0mevals_result\u001b[0m\u001b[0;34m,\u001b[0m \u001b[0mobj\u001b[0m\u001b[0;34m=\u001b[0m\u001b[0mobj\u001b[0m\u001b[0;34m,\u001b[0m \u001b[0mfeval\u001b[0m\u001b[0;34m=\u001b[0m\u001b[0mfeval\u001b[0m\u001b[0;34m,\u001b[0m\u001b[0;34m\u001b[0m\u001b[0;34m\u001b[0m\u001b[0m\n\u001b[1;32m    731\u001b[0m                               \u001b[0mverbose_eval\u001b[0m\u001b[0;34m=\u001b[0m\u001b[0mverbose\u001b[0m\u001b[0;34m,\u001b[0m \u001b[0mxgb_model\u001b[0m\u001b[0;34m=\u001b[0m\u001b[0mxgb_model\u001b[0m\u001b[0;34m,\u001b[0m\u001b[0;34m\u001b[0m\u001b[0;34m\u001b[0m\u001b[0m\n\u001b[0;32m--> 732\u001b[0;31m                               callbacks=callbacks)\n\u001b[0m\u001b[1;32m    733\u001b[0m \u001b[0;34m\u001b[0m\u001b[0m\n\u001b[1;32m    734\u001b[0m         \u001b[0mself\u001b[0m\u001b[0;34m.\u001b[0m\u001b[0mobjective\u001b[0m \u001b[0;34m=\u001b[0m \u001b[0mxgb_options\u001b[0m\u001b[0;34m[\u001b[0m\u001b[0;34m\"objective\"\u001b[0m\u001b[0;34m]\u001b[0m\u001b[0;34m\u001b[0m\u001b[0;34m\u001b[0m\u001b[0m\n",
            "\u001b[0;32m/usr/local/lib/python3.6/dist-packages/xgboost/training.py\u001b[0m in \u001b[0;36mtrain\u001b[0;34m(params, dtrain, num_boost_round, evals, obj, feval, maximize, early_stopping_rounds, evals_result, verbose_eval, xgb_model, callbacks, learning_rates)\u001b[0m\n\u001b[1;32m    214\u001b[0m                            \u001b[0mevals\u001b[0m\u001b[0;34m=\u001b[0m\u001b[0mevals\u001b[0m\u001b[0;34m,\u001b[0m\u001b[0;34m\u001b[0m\u001b[0;34m\u001b[0m\u001b[0m\n\u001b[1;32m    215\u001b[0m                            \u001b[0mobj\u001b[0m\u001b[0;34m=\u001b[0m\u001b[0mobj\u001b[0m\u001b[0;34m,\u001b[0m \u001b[0mfeval\u001b[0m\u001b[0;34m=\u001b[0m\u001b[0mfeval\u001b[0m\u001b[0;34m,\u001b[0m\u001b[0;34m\u001b[0m\u001b[0;34m\u001b[0m\u001b[0m\n\u001b[0;32m--> 216\u001b[0;31m                            xgb_model=xgb_model, callbacks=callbacks)\n\u001b[0m\u001b[1;32m    217\u001b[0m \u001b[0;34m\u001b[0m\u001b[0m\n\u001b[1;32m    218\u001b[0m \u001b[0;34m\u001b[0m\u001b[0m\n",
            "\u001b[0;32m/usr/local/lib/python3.6/dist-packages/xgboost/training.py\u001b[0m in \u001b[0;36m_train_internal\u001b[0;34m(params, dtrain, num_boost_round, evals, obj, feval, xgb_model, callbacks)\u001b[0m\n\u001b[1;32m     72\u001b[0m         \u001b[0;31m# Skip the first update if it is a recovery step.\u001b[0m\u001b[0;34m\u001b[0m\u001b[0;34m\u001b[0m\u001b[0;34m\u001b[0m\u001b[0m\n\u001b[1;32m     73\u001b[0m         \u001b[0;32mif\u001b[0m \u001b[0mversion\u001b[0m \u001b[0;34m%\u001b[0m \u001b[0;36m2\u001b[0m \u001b[0;34m==\u001b[0m \u001b[0;36m0\u001b[0m\u001b[0;34m:\u001b[0m\u001b[0;34m\u001b[0m\u001b[0;34m\u001b[0m\u001b[0m\n\u001b[0;32m---> 74\u001b[0;31m             \u001b[0mbst\u001b[0m\u001b[0;34m.\u001b[0m\u001b[0mupdate\u001b[0m\u001b[0;34m(\u001b[0m\u001b[0mdtrain\u001b[0m\u001b[0;34m,\u001b[0m \u001b[0mi\u001b[0m\u001b[0;34m,\u001b[0m \u001b[0mobj\u001b[0m\u001b[0;34m)\u001b[0m\u001b[0;34m\u001b[0m\u001b[0;34m\u001b[0m\u001b[0m\n\u001b[0m\u001b[1;32m     75\u001b[0m             \u001b[0mbst\u001b[0m\u001b[0;34m.\u001b[0m\u001b[0msave_rabit_checkpoint\u001b[0m\u001b[0;34m(\u001b[0m\u001b[0;34m)\u001b[0m\u001b[0;34m\u001b[0m\u001b[0;34m\u001b[0m\u001b[0m\n\u001b[1;32m     76\u001b[0m             \u001b[0mversion\u001b[0m \u001b[0;34m+=\u001b[0m \u001b[0;36m1\u001b[0m\u001b[0;34m\u001b[0m\u001b[0;34m\u001b[0m\u001b[0m\n",
            "\u001b[0;32m/usr/local/lib/python3.6/dist-packages/xgboost/core.py\u001b[0m in \u001b[0;36mupdate\u001b[0;34m(self, dtrain, iteration, fobj)\u001b[0m\n\u001b[1;32m   1107\u001b[0m         \u001b[0;32mif\u001b[0m \u001b[0mfobj\u001b[0m \u001b[0;32mis\u001b[0m \u001b[0;32mNone\u001b[0m\u001b[0;34m:\u001b[0m\u001b[0;34m\u001b[0m\u001b[0;34m\u001b[0m\u001b[0m\n\u001b[1;32m   1108\u001b[0m             _check_call(_LIB.XGBoosterUpdateOneIter(self.handle, ctypes.c_int(iteration),\n\u001b[0;32m-> 1109\u001b[0;31m                                                     dtrain.handle))\n\u001b[0m\u001b[1;32m   1110\u001b[0m         \u001b[0;32melse\u001b[0m\u001b[0;34m:\u001b[0m\u001b[0;34m\u001b[0m\u001b[0;34m\u001b[0m\u001b[0m\n\u001b[1;32m   1111\u001b[0m             \u001b[0mpred\u001b[0m \u001b[0;34m=\u001b[0m \u001b[0mself\u001b[0m\u001b[0;34m.\u001b[0m\u001b[0mpredict\u001b[0m\u001b[0;34m(\u001b[0m\u001b[0mdtrain\u001b[0m\u001b[0;34m)\u001b[0m\u001b[0;34m\u001b[0m\u001b[0;34m\u001b[0m\u001b[0m\n",
            "\u001b[0;31mKeyboardInterrupt\u001b[0m: "
          ]
        }
      ]
    },
    {
      "cell_type": "code",
      "metadata": {
        "id": "jvLrxs5eW08g",
        "colab_type": "code",
        "colab": {}
      },
      "source": [
        "log_loss = np.hstack([scores['test_log_loss'].mean(axis=1).reshape(-1,1), scores['test_accuracy'].mean(axis=1).reshape(-1,1), hparam, scores['fit_time'].mean(axis=1).reshape(-1,1)])\n",
        "print(log_loss[log_loss[:,0].argsort()])"
      ],
      "execution_count": 0,
      "outputs": []
    },
    {
      "cell_type": "code",
      "metadata": {
        "id": "6H51C-tAW30R",
        "colab_type": "code",
        "colab": {}
      },
      "source": [
        "max_depths = 6\n",
        "n_estimatorss = 125\n",
        "hparam = np.array(np.meshgrid(max_depths, n_estimatorss)).reshape(2, -1).T\n",
        "\n",
        "scoring = {\n",
        "    \"accuracy\": \"accuracy\",\n",
        "    \"log_loss\": \"neg_log_loss\",\n",
        "}\n",
        "\n",
        "scores = []\n",
        "for max_depth, n_estimators in tqdm(hparam):\n",
        "    c = XGBClassifier(max_depth=max_depth, n_estimators=n_estimators)\n",
        "    s = cross_validate(c, x, y.reshape(-1), cv=5, scoring=scoring, return_train_score=True)\n",
        "    scores.append(s)\n",
        "\n",
        "\n",
        "scores = flat_dict(scores)"
      ],
      "execution_count": 0,
      "outputs": []
    },
    {
      "cell_type": "code",
      "metadata": {
        "id": "1MhY6elaW90T",
        "colab_type": "code",
        "colab": {}
      },
      "source": [
        "log_loss = np.hstack([scores['test_log_loss'].mean(axis=1).reshape(-1,1), scores['test_accuracy'].mean(axis=1).reshape(-1,1), hparam, scores['fit_time'].mean(axis=1).reshape(-1,1)])\n",
        "print(log_loss[log_loss[:,0].argsort()])"
      ],
      "execution_count": 0,
      "outputs": []
    },
    {
      "cell_type": "code",
      "metadata": {
        "id": "sAd0No1rW_Gl",
        "colab_type": "code",
        "colab": {}
      },
      "source": [
        "max_depths = 7\n",
        "n_estimatorss = 125\n",
        "hparam = np.array(np.meshgrid(max_depths, n_estimatorss)).reshape(2, -1).T\n",
        "\n",
        "scoring = {\n",
        "    \"accuracy\": \"accuracy\",\n",
        "    \"log_loss\": \"neg_log_loss\",\n",
        "}\n",
        "\n",
        "scores = []\n",
        "for max_depth, n_estimators in tqdm(hparam):\n",
        "    c = XGBClassifier(max_depth=max_depth, n_estimators=n_estimators)\n",
        "    s = cross_validate(c, x, y.reshape(-1), cv=5, scoring=scoring, return_train_score=True)\n",
        "    scores.append(s)\n",
        "\n",
        "\n",
        "scores = flat_dict(scores)"
      ],
      "execution_count": 0,
      "outputs": []
    },
    {
      "cell_type": "code",
      "metadata": {
        "id": "fsoHsS4AXBi2",
        "colab_type": "code",
        "colab": {}
      },
      "source": [
        "log_loss = np.hstack([scores['test_log_loss'].mean(axis=1).reshape(-1,1), scores['test_accuracy'].mean(axis=1).reshape(-1,1), hparam, scores['fit_time'].mean(axis=1).reshape(-1,1)])\n",
        "print(log_loss[log_loss[:,0].argsort()])"
      ],
      "execution_count": 0,
      "outputs": []
    },
    {
      "cell_type": "markdown",
      "metadata": {
        "id": "h_Iz02-Rj1cM",
        "colab_type": "text"
      },
      "source": [
        "### \"Честным\" способом не получается подобрать оптимальные параметры: очень долго, столько времени нет. Имеет смысл попробовать вручную подобрать"
      ]
    },
    {
      "cell_type": "markdown",
      "metadata": {
        "id": "PlZPr9-rIhsW",
        "colab_type": "text"
      },
      "source": [
        "**Задание 5.7** Используя гиперпараметры найденные в задании 5.6, и метод градиентного бустинга, решите задачу многоклассовой классификации для всех частиц сразу. Аналогично заданию 5.5, используя тестовый набор данных, постройте график ROC и определите AUC для каждой из частиц.\n",
        "Рассчитайте матрицу ошибок $6 \\times 6$ для всех классов."
      ]
    },
    {
      "cell_type": "code",
      "metadata": {
        "scrolled": false,
        "id": "BYWNEcBZIhsX",
        "colab_type": "code",
        "colab": {}
      },
      "source": [
        "from xgboost import XGBClassifier\n",
        "from sklearn.model_selection import cross_validate\n",
        "from sklearn.metrics import confusion_matrix\n",
        "from sklearn.metrics import classification_report\n",
        "from sklearn.metrics import ConfusionMatrixDisplay\n",
        "from sklearn.metrics import roc_auc_score\n",
        "\n",
        "\n",
        "c = XGBClassifier(n_jobs=-1, max_depth=7, n_estimators=100)\n",
        "c.fit(x_train, y_train.reshape(-1))\n",
        "\n",
        "scores = c.predict_proba(x_test)"
      ],
      "execution_count": 0,
      "outputs": []
    },
    {
      "cell_type": "code",
      "metadata": {
        "id": "m85_rmXpyzaL",
        "colab_type": "code",
        "colab": {}
      },
      "source": [
        "import sklearn.metrics\n",
        "roc = {}\n",
        "auc = {}\n",
        "for l, label in enumerate(labels):\n",
        "    lscores = scores[:, l]\n",
        "    one_y_test = (y_test == l).astype(np.float)\n",
        "    \n",
        "    fpr, tpr, _ = sklearn.metrics.roc_curve(one_y_test, lscores)\n",
        "    roc[l] = {\"tpr\": tpr, \"fpr\": fpr}\n",
        "    auc[l] = sklearn.metrics.roc_auc_score(one_y_test, lscores)"
      ],
      "execution_count": 0,
      "outputs": []
    },
    {
      "cell_type": "code",
      "metadata": {
        "id": "6P_h5c84Ihsd",
        "colab_type": "code",
        "colab": {
          "base_uri": "https://localhost:8080/",
          "height": 295
        },
        "outputId": "f3298475-612b-40d7-fa13-e31718839e85"
      },
      "source": [
        "plt.figure()\n",
        "plt.title(\"Receiver operating characteristic\")\n",
        "plt.xlabel(\"False positive rate\")\n",
        "plt.ylabel(\"True positive rate\")\n",
        "for l, label in enumerate(labels):\n",
        "    plt.plot(roc[l]['fpr'], roc[l]['tpr'], label='{} AUC={:.4f}'.format(label, auc[l]))\n",
        "_ = plt.legend(loc='lower right')"
      ],
      "execution_count": 49,
      "outputs": [
        {
          "output_type": "display_data",
          "data": {
            "image/png": "[encoded data removed]",
            "text/plain": [
              "<Figure size 432x288 with 1 Axes>"
            ]
          },
          "metadata": {
            "tags": [],
            "needs_background": "light"
          }
        }
      ]
    },
    {
      "cell_type": "code",
      "metadata": {
        "scrolled": false,
        "id": "bVg0SOG6Ihsi",
        "colab_type": "code",
        "colab": {
          "base_uri": "https://localhost:8080/",
          "height": 518
        },
        "outputId": "7c82d80e-b27d-496c-e6de-a5875407eaea"
      },
      "source": [
        "\n",
        "y_true = y_test\n",
        "y_pred = c.predict(x_test)\n",
        "\n",
        "print(classification_report(y_true, y_pred, target_names=labels))\n",
        "\n",
        "cm = confusion_matrix(y_true, y_pred)\n",
        "\n",
        "cmd = ConfusionMatrixDisplay(cm, display_labels=labels)\n",
        "_ = cmd.plot()"
      ],
      "execution_count": 50,
      "outputs": [
        {
          "output_type": "stream",
          "text": [
            "              precision    recall  f1-score   support\n",
            "\n",
            "    Electron       0.88      0.88      0.88     49983\n",
            "       Ghost       0.75      0.80      0.77     49964\n",
            "        Kaon       0.65      0.62      0.64     49901\n",
            "        Muon       0.91      0.91      0.91     50344\n",
            "        Pion       0.71      0.79      0.75     49894\n",
            "      Proton       0.67      0.58      0.62     49914\n",
            "\n",
            "    accuracy                           0.77    300000\n",
            "   macro avg       0.76      0.77      0.76    300000\n",
            "weighted avg       0.76      0.77      0.76    300000\n",
            "\n"
          ],
          "name": "stdout"
        },
        {
          "output_type": "display_data",
          "data": {
            "image/png": "[encoded data removed]",
            "text/plain": [
              "<Figure size 432x288 with 2 Axes>"
            ]
          },
          "metadata": {
            "tags": [],
            "needs_background": "light"
          }
        }
      ]
    },
    {
      "cell_type": "markdown",
      "metadata": {
        "id": "Gyp5zbo_V3TG",
        "colab_type": "text"
      },
      "source": [
        "## Будь чуть больше времени, можно было бы попробовать поискать более оптимальные параметры. К сожалению, уже не успеваю"
      ]
    },
    {
      "cell_type": "markdown",
      "metadata": {
        "id": "b_YfEGNVIhsn",
        "colab_type": "text"
      },
      "source": [
        "**Задание 5.8** Используя готовый фреймворк для нейронных сетей, решите задачу многоклассовой классификации с помощью нейросети. Придумайте архитектуру самостоятельно и подберите оптимальные её параметры. В качестве функции потерь для задачи многоклассовой классификации уместно использовать функцию кросс-энтропии. Аналогично заданию 5.5, используя тестовый набор данных, постройте график ROC и определите AUC для каждой из частиц. Рассчитайте матрицу ошибок $6 \\times 6$ для всех классов.\n",
        "\n",
        "В приведенном примере используется `tensorflow`, однако, вы можете решать задание и с помощью пакета `torch`."
      ]
    },
    {
      "cell_type": "code",
      "metadata": {
        "scrolled": false,
        "id": "i8as70edIhso",
        "colab_type": "code",
        "colab": {}
      },
      "source": [
        "import tensorflow as tf"
      ],
      "execution_count": 0,
      "outputs": []
    },
    {
      "cell_type": "code",
      "metadata": {
        "scrolled": false,
        "id": "Jrup0wf0Ihsx",
        "colab_type": "code",
        "colab": {
          "base_uri": "https://localhost:8080/",
          "height": 1000
        },
        "outputId": "05fbdd68-6c13-4be1-ef10-039448450229"
      },
      "source": [
        "tf.random.set_seed(43)\n",
        "\n",
        "INPUT_DIM  = x_train.shape[1]\n",
        "HIDDEN_DIM1 = 500\n",
        "HIDDEN_DIM2 = 500\n",
        "OUTPUT_DIM = len(labels)\n",
        "\n",
        "model = tf.keras.Sequential([\n",
        "    tf.keras.layers.Dense(HIDDEN_DIM1, activation=\"sigmoid\"),\n",
        "    tf.keras.layers.Dense(HIDDEN_DIM2, activation=\"sigmoid\"),\n",
        "    tf.keras.layers.Dense(OUTPUT_DIM, activation=\"softmax\"),\n",
        "])\n",
        "\n",
        "learning_rate = 1e-3\n",
        "model.compile(optimizer=tf.keras.optimizers.Adam(learning_rate=learning_rate), loss='categorical_crossentropy', metrics=['accuracy'])\n",
        "\n",
        "model.fit(x_train, tf.keras.utils.to_categorical(y_train, num_classes=len(labels)),\n",
        "          epochs=30, batch_size=12,\n",
        "          validation_data=(x_test, tf.keras.utils.to_categorical(y_test, num_classes=len(labels)))\n",
        "         )"
      ],
      "execution_count": 56,
      "outputs": [
        {
          "output_type": "stream",
          "text": [
            "Epoch 1/30\n",
            "75000/75000 [==============================] - 266s 4ms/step - loss: 1.1781 - accuracy: 0.5026 - val_loss: 1.0954 - val_accuracy: 0.5425\n",
            "Epoch 2/30\n",
            "75000/75000 [==============================] - 266s 4ms/step - loss: 1.0819 - accuracy: 0.5396 - val_loss: 1.0676 - val_accuracy: 0.5478\n",
            "Epoch 3/30\n",
            "75000/75000 [==============================] - 272s 4ms/step - loss: 1.0525 - accuracy: 0.5504 - val_loss: 1.0323 - val_accuracy: 0.5560\n",
            "Epoch 4/30\n",
            "75000/75000 [==============================] - 271s 4ms/step - loss: 1.0462 - accuracy: 0.5533 - val_loss: 1.0471 - val_accuracy: 0.5633\n",
            "Epoch 5/30\n",
            "75000/75000 [==============================] - 275s 4ms/step - loss: 1.0340 - accuracy: 0.5581 - val_loss: 1.0425 - val_accuracy: 0.5532\n",
            "Epoch 6/30\n",
            "75000/75000 [==============================] - 266s 4ms/step - loss: 1.0264 - accuracy: 0.5604 - val_loss: 1.0237 - val_accuracy: 0.5565\n",
            "Epoch 7/30\n",
            "75000/75000 [==============================] - 265s 4ms/step - loss: 1.0219 - accuracy: 0.5617 - val_loss: 1.0518 - val_accuracy: 0.5557\n",
            "Epoch 8/30\n",
            "75000/75000 [==============================] - 270s 4ms/step - loss: 1.0182 - accuracy: 0.5638 - val_loss: 1.0068 - val_accuracy: 0.5654\n",
            "Epoch 9/30\n",
            "75000/75000 [==============================] - 271s 4ms/step - loss: 1.0121 - accuracy: 0.5667 - val_loss: 1.0089 - val_accuracy: 0.5745\n",
            "Epoch 10/30\n",
            "75000/75000 [==============================] - 271s 4ms/step - loss: 1.0125 - accuracy: 0.5664 - val_loss: 1.0455 - val_accuracy: 0.5534\n",
            "Epoch 11/30\n",
            "75000/75000 [==============================] - 271s 4ms/step - loss: 1.0100 - accuracy: 0.5679 - val_loss: 1.0179 - val_accuracy: 0.5617\n",
            "Epoch 12/30\n",
            "75000/75000 [==============================] - 275s 4ms/step - loss: 1.0113 - accuracy: 0.5668 - val_loss: 1.0344 - val_accuracy: 0.5594\n",
            "Epoch 13/30\n",
            "75000/75000 [==============================] - 279s 4ms/step - loss: 1.0091 - accuracy: 0.5675 - val_loss: 1.0124 - val_accuracy: 0.5686\n",
            "Epoch 14/30\n",
            "75000/75000 [==============================] - 274s 4ms/step - loss: 1.0050 - accuracy: 0.5692 - val_loss: 0.9974 - val_accuracy: 0.5720\n",
            "Epoch 15/30\n",
            "75000/75000 [==============================] - 272s 4ms/step - loss: 1.0066 - accuracy: 0.5696 - val_loss: 0.9764 - val_accuracy: 0.5797\n",
            "Epoch 16/30\n",
            "75000/75000 [==============================] - 274s 4ms/step - loss: 0.9989 - accuracy: 0.5713 - val_loss: 0.9852 - val_accuracy: 0.5788\n",
            "Epoch 17/30\n",
            "75000/75000 [==============================] - 275s 4ms/step - loss: 1.0015 - accuracy: 0.5717 - val_loss: 0.9889 - val_accuracy: 0.5774\n",
            "Epoch 18/30\n",
            "75000/75000 [==============================] - 275s 4ms/step - loss: 0.9992 - accuracy: 0.5722 - val_loss: 1.0179 - val_accuracy: 0.5669\n",
            "Epoch 19/30\n",
            "75000/75000 [==============================] - 275s 4ms/step - loss: 1.0012 - accuracy: 0.5721 - val_loss: 0.9849 - val_accuracy: 0.5799\n",
            "Epoch 20/30\n",
            "75000/75000 [==============================] - 276s 4ms/step - loss: 0.9954 - accuracy: 0.5747 - val_loss: 0.9910 - val_accuracy: 0.5800\n",
            "Epoch 21/30\n",
            "75000/75000 [==============================] - 275s 4ms/step - loss: 0.9990 - accuracy: 0.5738 - val_loss: 1.0145 - val_accuracy: 0.5671\n",
            "Epoch 22/30\n",
            "75000/75000 [==============================] - 265s 4ms/step - loss: 1.0048 - accuracy: 0.5715 - val_loss: 1.0258 - val_accuracy: 0.5673\n",
            "Epoch 23/30\n",
            "75000/75000 [==============================] - 265s 4ms/step - loss: 1.0063 - accuracy: 0.5710 - val_loss: 1.0050 - val_accuracy: 0.5722\n",
            "Epoch 24/30\n",
            "75000/75000 [==============================] - 274s 4ms/step - loss: 0.9967 - accuracy: 0.5735 - val_loss: 0.9945 - val_accuracy: 0.5695\n",
            "Epoch 25/30\n",
            "75000/75000 [==============================] - 273s 4ms/step - loss: 0.9967 - accuracy: 0.5731 - val_loss: 0.9804 - val_accuracy: 0.5857\n",
            "Epoch 26/30\n",
            "75000/75000 [==============================] - 276s 4ms/step - loss: 0.9983 - accuracy: 0.5736 - val_loss: 1.0187 - val_accuracy: 0.5664\n",
            "Epoch 27/30\n",
            "75000/75000 [==============================] - 278s 4ms/step - loss: 0.9982 - accuracy: 0.5728 - val_loss: 0.9789 - val_accuracy: 0.5797\n",
            "Epoch 28/30\n",
            "75000/75000 [==============================] - 279s 4ms/step - loss: 0.9960 - accuracy: 0.5735 - val_loss: 0.9834 - val_accuracy: 0.5796\n",
            "Epoch 29/30\n",
            "75000/75000 [==============================] - 284s 4ms/step - loss: 1.0081 - accuracy: 0.5692 - val_loss: 0.9911 - val_accuracy: 0.5754\n",
            "Epoch 30/30\n",
            "75000/75000 [==============================] - 281s 4ms/step - loss: 0.9930 - accuracy: 0.5747 - val_loss: 0.9935 - val_accuracy: 0.5778\n"
          ],
          "name": "stdout"
        },
        {
          "output_type": "execute_result",
          "data": {
            "text/plain": [
              "<tensorflow.python.keras.callbacks.History at 0x7efc916cb470>"
            ]
          },
          "metadata": {
            "tags": []
          },
          "execution_count": 56
        }
      ]
    },
    {
      "cell_type": "code",
      "metadata": {
        "scrolled": false,
        "id": "zKXBJYR4Ihs4",
        "colab_type": "code",
        "colab": {}
      },
      "source": [
        "scores = model.predict(x_test)\n",
        "\n",
        "roc = {}\n",
        "auc = {}\n",
        "for l, label in enumerate(labels):  \n",
        "    fpr, tpr, _ = sklearn.metrics.roc_curve(one_y_test, lscores)\n",
        "    roc[l] = {\"tpr\": tpr, \"fpr\": fpr}\n",
        "    auc[l] = sklearn.metrics.roc_auc_score(one_y_test, lscores)"
      ],
      "execution_count": 0,
      "outputs": []
    },
    {
      "cell_type": "code",
      "metadata": {
        "scrolled": false,
        "id": "BVDir_v0Ihs7",
        "colab_type": "code",
        "colab": {
          "base_uri": "https://localhost:8080/",
          "height": 295
        },
        "outputId": "c9f3fcbd-042c-4413-9d9d-7943c454f6dd"
      },
      "source": [
        "plt.figure()\n",
        "plt.title(\"Receiver operating characteristic\")\n",
        "plt.xlabel(\"False positive rate\")\n",
        "plt.ylabel(\"True positive rate\")\n",
        "for l, label in enumerate(labels):\n",
        "    plt.plot(roc[l]['fpr'], roc[l]['tpr'], label='{} AUC={:.4f}'.format(label, auc[l]))\n",
        "_ = plt.legend(loc='lower right')"
      ],
      "execution_count": 58,
      "outputs": [
        {
          "output_type": "display_data",
          "data": {
            "image/png": "[encoded data removed]",
            "text/plain": [
              "<Figure size 432x288 with 1 Axes>"
            ]
          },
          "metadata": {
            "tags": [],
            "needs_background": "light"
          }
        }
      ]
    },
    {
      "cell_type": "code",
      "metadata": {
        "scrolled": false,
        "id": "xD6M9Nl2IhtB",
        "colab_type": "code",
        "colab": {
          "base_uri": "https://localhost:8080/",
          "height": 518
        },
        "outputId": "c9f4bb25-ce92-49f6-c473-32854173790a"
      },
      "source": [
        "from sklearn.metrics import confusion_matrix\n",
        "from sklearn.metrics import classification_report\n",
        "from sklearn.metrics import ConfusionMatrixDisplay\n",
        "\n",
        "y_true = y_test\n",
        "y_pred = model.predict(x_test).argmax(axis=1)\n",
        "\n",
        "print(classification_report(y_true, y_pred, target_names=labels))\n",
        "\n",
        "cm = confusion_matrix(y_true, y_pred)\n",
        "\n",
        "cmd = ConfusionMatrixDisplay(cm, display_labels=labels)\n",
        "_ = cmd.plot()"
      ],
      "execution_count": 55,
      "outputs": [
        {
          "output_type": "stream",
          "text": [
            "              precision    recall  f1-score   support\n",
            "\n",
            "    Electron       0.75      0.82      0.79     49983\n",
            "       Ghost       0.55      0.26      0.36     49964\n",
            "        Kaon       0.47      0.00      0.00     49901\n",
            "        Muon       0.66      0.88      0.76     50344\n",
            "        Pion       0.67      0.49      0.57     49894\n",
            "      Proton       0.36      0.85      0.51     49914\n",
            "\n",
            "    accuracy                           0.55    300000\n",
            "   macro avg       0.58      0.55      0.50    300000\n",
            "weighted avg       0.58      0.55      0.50    300000\n",
            "\n"
          ],
          "name": "stdout"
        },
        {
          "output_type": "display_data",
          "data": {
            "image/png": "[encoded data removed]",
            "text/plain": [
              "<Figure size 432x288 with 2 Axes>"
            ]
          },
          "metadata": {
            "tags": [],
            "needs_background": "light"
          }
        }
      ]
    },
    {
      "cell_type": "code",
      "metadata": {
        "id": "X-xih-yJIhtM",
        "colab_type": "code",
        "colab": {}
      },
      "source": [
        ""
      ],
      "execution_count": 0,
      "outputs": []
    },
    {
      "cell_type": "code",
      "metadata": {
        "id": "cYpR-h-_IhtX",
        "colab_type": "code",
        "colab": {}
      },
      "source": [
        ""
      ],
      "execution_count": 0,
      "outputs": []
    }
  ]
}