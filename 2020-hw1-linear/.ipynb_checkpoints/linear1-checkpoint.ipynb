{
 "cells": [
  {
   "cell_type": "code",
   "execution_count": 1,
   "metadata": {},
   "outputs": [],
   "source": [
    "import numpy as np\n",
    "import matplotlib\n",
    "import matplotlib.pyplot as plt"
   ]
  },
  {
   "cell_type": "markdown",
   "metadata": {},
   "source": [
    "Воспоминания о загрузке данных\n",
    "-----------------------------------------------------"
   ]
  },
  {
   "cell_type": "code",
   "execution_count": 2,
   "metadata": {},
   "outputs": [
    {
     "name": "stdout",
     "output_type": "stream",
     "text": [
      "[(1., 1.52101, 13.64, 4.49, 1.1 , 71.78, 0.06, 8.75, 0., 0., 1.)\n",
      " (2., 1.51761, 13.89, 3.6 , 1.36, 72.73, 0.48, 7.83, 0., 0., 1.)\n",
      " (3., 1.51618, 13.53, 3.55, 1.54, 72.99, 0.39, 7.78, 0., 0., 1.)\n",
      " (4., 1.51766, 13.21, 3.69, 1.29, 72.61, 0.57, 8.22, 0., 0., 1.)\n",
      " (5., 1.51742, 13.27, 3.62, 1.24, 73.08, 0.55, 8.07, 0., 0., 1.)]\n"
     ]
    }
   ],
   "source": [
    "import numpy as np\n",
    "\n",
    "names = (\"id\", \"n\", \"Na\", \"Mg\", \"Al\", \"Si\", \"K\", \"Ca\", \"Ba\", \"Fe\", \"Type\")\n",
    "data = np.genfromtxt('glass.csv', delimiter=',', names=names)\n",
    "print(data[0:5])"
   ]
  },
  {
   "cell_type": "code",
   "execution_count": 3,
   "metadata": {},
   "outputs": [
    {
     "data": {
      "text/html": [
       "<div>\n",
       "<style scoped>\n",
       "    .dataframe tbody tr th:only-of-type {\n",
       "        vertical-align: middle;\n",
       "    }\n",
       "\n",
       "    .dataframe tbody tr th {\n",
       "        vertical-align: top;\n",
       "    }\n",
       "\n",
       "    .dataframe thead th {\n",
       "        text-align: right;\n",
       "    }\n",
       "</style>\n",
       "<table border=\"1\" class=\"dataframe\">\n",
       "  <thead>\n",
       "    <tr style=\"text-align: right;\">\n",
       "      <th></th>\n",
       "      <th>n</th>\n",
       "      <th>Na</th>\n",
       "      <th>Mg</th>\n",
       "      <th>Al</th>\n",
       "      <th>Si</th>\n",
       "      <th>K</th>\n",
       "      <th>Ca</th>\n",
       "      <th>Ba</th>\n",
       "      <th>Fe</th>\n",
       "      <th>Type</th>\n",
       "    </tr>\n",
       "    <tr>\n",
       "      <th>id</th>\n",
       "      <th></th>\n",
       "      <th></th>\n",
       "      <th></th>\n",
       "      <th></th>\n",
       "      <th></th>\n",
       "      <th></th>\n",
       "      <th></th>\n",
       "      <th></th>\n",
       "      <th></th>\n",
       "      <th></th>\n",
       "    </tr>\n",
       "  </thead>\n",
       "  <tbody>\n",
       "    <tr>\n",
       "      <th>1</th>\n",
       "      <td>1.52101</td>\n",
       "      <td>13.64</td>\n",
       "      <td>4.49</td>\n",
       "      <td>1.10</td>\n",
       "      <td>71.78</td>\n",
       "      <td>0.06</td>\n",
       "      <td>8.75</td>\n",
       "      <td>0.0</td>\n",
       "      <td>0.0</td>\n",
       "      <td>1</td>\n",
       "    </tr>\n",
       "    <tr>\n",
       "      <th>2</th>\n",
       "      <td>1.51761</td>\n",
       "      <td>13.89</td>\n",
       "      <td>3.60</td>\n",
       "      <td>1.36</td>\n",
       "      <td>72.73</td>\n",
       "      <td>0.48</td>\n",
       "      <td>7.83</td>\n",
       "      <td>0.0</td>\n",
       "      <td>0.0</td>\n",
       "      <td>1</td>\n",
       "    </tr>\n",
       "    <tr>\n",
       "      <th>3</th>\n",
       "      <td>1.51618</td>\n",
       "      <td>13.53</td>\n",
       "      <td>3.55</td>\n",
       "      <td>1.54</td>\n",
       "      <td>72.99</td>\n",
       "      <td>0.39</td>\n",
       "      <td>7.78</td>\n",
       "      <td>0.0</td>\n",
       "      <td>0.0</td>\n",
       "      <td>1</td>\n",
       "    </tr>\n",
       "    <tr>\n",
       "      <th>4</th>\n",
       "      <td>1.51766</td>\n",
       "      <td>13.21</td>\n",
       "      <td>3.69</td>\n",
       "      <td>1.29</td>\n",
       "      <td>72.61</td>\n",
       "      <td>0.57</td>\n",
       "      <td>8.22</td>\n",
       "      <td>0.0</td>\n",
       "      <td>0.0</td>\n",
       "      <td>1</td>\n",
       "    </tr>\n",
       "    <tr>\n",
       "      <th>5</th>\n",
       "      <td>1.51742</td>\n",
       "      <td>13.27</td>\n",
       "      <td>3.62</td>\n",
       "      <td>1.24</td>\n",
       "      <td>73.08</td>\n",
       "      <td>0.55</td>\n",
       "      <td>8.07</td>\n",
       "      <td>0.0</td>\n",
       "      <td>0.0</td>\n",
       "      <td>1</td>\n",
       "    </tr>\n",
       "  </tbody>\n",
       "</table>\n",
       "</div>"
      ],
      "text/plain": [
       "          n     Na    Mg    Al     Si     K    Ca   Ba   Fe  Type\n",
       "id                                                               \n",
       "1   1.52101  13.64  4.49  1.10  71.78  0.06  8.75  0.0  0.0     1\n",
       "2   1.51761  13.89  3.60  1.36  72.73  0.48  7.83  0.0  0.0     1\n",
       "3   1.51618  13.53  3.55  1.54  72.99  0.39  7.78  0.0  0.0     1\n",
       "4   1.51766  13.21  3.69  1.29  72.61  0.57  8.22  0.0  0.0     1\n",
       "5   1.51742  13.27  3.62  1.24  73.08  0.55  8.07  0.0  0.0     1"
      ]
     },
     "execution_count": 3,
     "metadata": {},
     "output_type": "execute_result"
    }
   ],
   "source": [
    "import pandas as pd\n",
    "\n",
    "data = pd.read_csv('glass.csv', header=None, names=names, index_col=0)\n",
    "data.head()"
   ]
  },
  {
   "cell_type": "code",
   "execution_count": 4,
   "metadata": {},
   "outputs": [
    {
     "data": {
      "text/html": [
       "<div>\n",
       "<style scoped>\n",
       "    .dataframe tbody tr th:only-of-type {\n",
       "        vertical-align: middle;\n",
       "    }\n",
       "\n",
       "    .dataframe tbody tr th {\n",
       "        vertical-align: top;\n",
       "    }\n",
       "\n",
       "    .dataframe thead th {\n",
       "        text-align: right;\n",
       "    }\n",
       "</style>\n",
       "<table border=\"1\" class=\"dataframe\">\n",
       "  <thead>\n",
       "    <tr style=\"text-align: right;\">\n",
       "      <th></th>\n",
       "      <th>Cement (component 1)(kg in a m^3 mixture)</th>\n",
       "      <th>Blast Furnace Slag (component 2)(kg in a m^3 mixture)</th>\n",
       "      <th>Fly Ash (component 3)(kg in a m^3 mixture)</th>\n",
       "      <th>Water  (component 4)(kg in a m^3 mixture)</th>\n",
       "      <th>Superplasticizer (component 5)(kg in a m^3 mixture)</th>\n",
       "      <th>Coarse Aggregate  (component 6)(kg in a m^3 mixture)</th>\n",
       "      <th>Fine Aggregate (component 7)(kg in a m^3 mixture)</th>\n",
       "      <th>Age (day)</th>\n",
       "      <th>Concrete compressive strength(MPa, megapascals)</th>\n",
       "    </tr>\n",
       "  </thead>\n",
       "  <tbody>\n",
       "    <tr>\n",
       "      <th>0</th>\n",
       "      <td>540.0</td>\n",
       "      <td>0.0</td>\n",
       "      <td>0.0</td>\n",
       "      <td>162.0</td>\n",
       "      <td>2.5</td>\n",
       "      <td>1040.0</td>\n",
       "      <td>676.0</td>\n",
       "      <td>28</td>\n",
       "      <td>79.986111</td>\n",
       "    </tr>\n",
       "    <tr>\n",
       "      <th>1</th>\n",
       "      <td>540.0</td>\n",
       "      <td>0.0</td>\n",
       "      <td>0.0</td>\n",
       "      <td>162.0</td>\n",
       "      <td>2.5</td>\n",
       "      <td>1055.0</td>\n",
       "      <td>676.0</td>\n",
       "      <td>28</td>\n",
       "      <td>61.887366</td>\n",
       "    </tr>\n",
       "    <tr>\n",
       "      <th>2</th>\n",
       "      <td>332.5</td>\n",
       "      <td>142.5</td>\n",
       "      <td>0.0</td>\n",
       "      <td>228.0</td>\n",
       "      <td>0.0</td>\n",
       "      <td>932.0</td>\n",
       "      <td>594.0</td>\n",
       "      <td>270</td>\n",
       "      <td>40.269535</td>\n",
       "    </tr>\n",
       "    <tr>\n",
       "      <th>3</th>\n",
       "      <td>332.5</td>\n",
       "      <td>142.5</td>\n",
       "      <td>0.0</td>\n",
       "      <td>228.0</td>\n",
       "      <td>0.0</td>\n",
       "      <td>932.0</td>\n",
       "      <td>594.0</td>\n",
       "      <td>365</td>\n",
       "      <td>41.052780</td>\n",
       "    </tr>\n",
       "    <tr>\n",
       "      <th>4</th>\n",
       "      <td>198.6</td>\n",
       "      <td>132.4</td>\n",
       "      <td>0.0</td>\n",
       "      <td>192.0</td>\n",
       "      <td>0.0</td>\n",
       "      <td>978.4</td>\n",
       "      <td>825.5</td>\n",
       "      <td>360</td>\n",
       "      <td>44.296075</td>\n",
       "    </tr>\n",
       "  </tbody>\n",
       "</table>\n",
       "</div>"
      ],
      "text/plain": [
       "   Cement (component 1)(kg in a m^3 mixture)  \\\n",
       "0                                      540.0   \n",
       "1                                      540.0   \n",
       "2                                      332.5   \n",
       "3                                      332.5   \n",
       "4                                      198.6   \n",
       "\n",
       "   Blast Furnace Slag (component 2)(kg in a m^3 mixture)  \\\n",
       "0                                                0.0       \n",
       "1                                                0.0       \n",
       "2                                              142.5       \n",
       "3                                              142.5       \n",
       "4                                              132.4       \n",
       "\n",
       "   Fly Ash (component 3)(kg in a m^3 mixture)  \\\n",
       "0                                         0.0   \n",
       "1                                         0.0   \n",
       "2                                         0.0   \n",
       "3                                         0.0   \n",
       "4                                         0.0   \n",
       "\n",
       "   Water  (component 4)(kg in a m^3 mixture)  \\\n",
       "0                                      162.0   \n",
       "1                                      162.0   \n",
       "2                                      228.0   \n",
       "3                                      228.0   \n",
       "4                                      192.0   \n",
       "\n",
       "   Superplasticizer (component 5)(kg in a m^3 mixture)  \\\n",
       "0                                                2.5     \n",
       "1                                                2.5     \n",
       "2                                                0.0     \n",
       "3                                                0.0     \n",
       "4                                                0.0     \n",
       "\n",
       "   Coarse Aggregate  (component 6)(kg in a m^3 mixture)  \\\n",
       "0                                             1040.0      \n",
       "1                                             1055.0      \n",
       "2                                              932.0      \n",
       "3                                              932.0      \n",
       "4                                              978.4      \n",
       "\n",
       "   Fine Aggregate (component 7)(kg in a m^3 mixture)  Age (day)  \\\n",
       "0                                              676.0         28   \n",
       "1                                              676.0         28   \n",
       "2                                              594.0        270   \n",
       "3                                              594.0        365   \n",
       "4                                              825.5        360   \n",
       "\n",
       "   Concrete compressive strength(MPa, megapascals)   \n",
       "0                                         79.986111  \n",
       "1                                         61.887366  \n",
       "2                                         40.269535  \n",
       "3                                         41.052780  \n",
       "4                                         44.296075  "
      ]
     },
     "execution_count": 4,
     "metadata": {},
     "output_type": "execute_result"
    }
   ],
   "source": [
    "import pandas as pd\n",
    "\n",
    "data = pd.read_csv('concrete.csv')\n",
    "data.head()"
   ]
  },
  {
   "cell_type": "markdown",
   "metadata": {},
   "source": [
    "Воспоминания о работе с массивами `numpy`\n",
    "----------------------------------------------------"
   ]
  },
  {
   "cell_type": "code",
   "execution_count": 5,
   "metadata": {},
   "outputs": [],
   "source": [
    "import numpy as np"
   ]
  },
  {
   "cell_type": "code",
   "execution_count": 6,
   "metadata": {},
   "outputs": [
    {
     "name": "stdout",
     "output_type": "stream",
     "text": [
      "[1. 2. 3. 5. 8.]\n",
      "(5,)\n"
     ]
    }
   ],
   "source": [
    "x = np.array([1,2,3,5,8], dtype=np.float32)\n",
    "print(x)\n",
    "print(x.shape)"
   ]
  },
  {
   "cell_type": "code",
   "execution_count": 7,
   "metadata": {},
   "outputs": [
    {
     "name": "stdout",
     "output_type": "stream",
     "text": [
      "[1 2 3 5 8]\n",
      "(5,)\n"
     ]
    }
   ],
   "source": [
    "x = np.array([1,2,3,5,8], dtype=np.int8)\n",
    "print(x)\n",
    "print(x.shape)"
   ]
  },
  {
   "cell_type": "code",
   "execution_count": 8,
   "metadata": {},
   "outputs": [
    {
     "name": "stdout",
     "output_type": "stream",
     "text": [
      "[[ 0. -1.]\n",
      " [ 1.  0.]]\n",
      "(2, 2)\n"
     ]
    }
   ],
   "source": [
    "x = np.array([[0,-1],[1,0]], dtype=np.float32)\n",
    "print(x)\n",
    "print(x.shape)"
   ]
  },
  {
   "cell_type": "code",
   "execution_count": 9,
   "metadata": {},
   "outputs": [
    {
     "name": "stdout",
     "output_type": "stream",
     "text": [
      "[0. 1.]\n",
      "[0. 1.]\n"
     ]
    }
   ],
   "source": [
    "x = np.array([[0,-1],[1,0]], dtype=np.float32)\n",
    "z = np.array([1.0,0], dtype=np.float32)\n",
    "print(x @ z)\n",
    "print(x.dot(z))"
   ]
  },
  {
   "cell_type": "code",
   "execution_count": 10,
   "metadata": {},
   "outputs": [
    {
     "name": "stdout",
     "output_type": "stream",
     "text": [
      "[0 1 2 3 4 5 6 7 8 9]\n"
     ]
    }
   ],
   "source": [
    "x = np.arange(10)\n",
    "print(x)"
   ]
  },
  {
   "cell_type": "code",
   "execution_count": 11,
   "metadata": {},
   "outputs": [
    {
     "name": "stdout",
     "output_type": "stream",
     "text": [
      "[10  9  8  7  6  5  4  3  2  1  0]\n"
     ]
    }
   ],
   "source": [
    "x = np.arange(10, -1, -1)\n",
    "print(x)"
   ]
  },
  {
   "cell_type": "code",
   "execution_count": 12,
   "metadata": {},
   "outputs": [
    {
     "name": "stdout",
     "output_type": "stream",
     "text": [
      "[0.         0.33333333 0.66666667 1.         1.33333333 1.66666667\n",
      " 2.        ]\n"
     ]
    }
   ],
   "source": [
    "x = np.linspace(0, 2, 7)\n",
    "print(x)"
   ]
  },
  {
   "cell_type": "code",
   "execution_count": 13,
   "metadata": {},
   "outputs": [
    {
     "name": "stdout",
     "output_type": "stream",
     "text": [
      "[[0. 0.]\n",
      " [0. 0.]\n",
      " [0. 0.]]\n",
      "\n",
      "[[1. 1.]\n",
      " [1. 1.]\n",
      " [1. 1.]]\n",
      "\n",
      "[[2. 2.]\n",
      " [2. 2.]\n",
      " [2. 2.]]\n",
      "\n",
      "[[2. 2.]\n",
      " [2. 2.]\n",
      " [2. 2.]]\n"
     ]
    }
   ],
   "source": [
    "z = np.zeros((3, 2), dtype=np.float32)\n",
    "print(z)\n",
    "print()\n",
    "\n",
    "o = np.ones((3, 2), dtype=np.float32)\n",
    "print(o)\n",
    "print()\n",
    "\n",
    "t = np.full(z.shape, 2, dtype=np.float32)\n",
    "print(t)\n",
    "print()\n",
    "\n",
    "t = np.full_like(z, 2, dtype=np.float32)\n",
    "print(t)"
   ]
  },
  {
   "cell_type": "markdown",
   "metadata": {},
   "source": [
    "### Размерности массива"
   ]
  },
  {
   "cell_type": "code",
   "execution_count": 14,
   "metadata": {},
   "outputs": [
    {
     "name": "stdout",
     "output_type": "stream",
     "text": [
      "[ 0  1  2  3  4  5  6  7  8  9 10 11 12 13 14 15 16 17 18 19 20 21 22 23]\n",
      "(24,)\n",
      "\n",
      "[[ 0  1  2  3  4  5]\n",
      " [ 6  7  8  9 10 11]\n",
      " [12 13 14 15 16 17]\n",
      " [18 19 20 21 22 23]]\n",
      "(4, 6)\n",
      "\n",
      "[[[ 0  1  2  3]\n",
      "  [ 4  5  6  7]\n",
      "  [ 8  9 10 11]]\n",
      "\n",
      " [[12 13 14 15]\n",
      "  [16 17 18 19]\n",
      "  [20 21 22 23]]]\n",
      "(2, 3, 4)\n",
      "\n"
     ]
    }
   ],
   "source": [
    "x = np.arange(24)\n",
    "print(x)\n",
    "print(x.shape)\n",
    "print()\n",
    "\n",
    "x = x.reshape(4,6)\n",
    "print(x)\n",
    "print(x.shape)\n",
    "print()\n",
    "\n",
    "x = x.reshape(2,3,4)\n",
    "print(x)\n",
    "print(x.shape)\n",
    "print()"
   ]
  },
  {
   "cell_type": "code",
   "execution_count": 15,
   "metadata": {},
   "outputs": [
    {
     "name": "stdout",
     "output_type": "stream",
     "text": [
      "[0 1 2 3 4]\n",
      "(5,)\n",
      "\n",
      "[[0]\n",
      " [1]\n",
      " [2]\n",
      " [3]\n",
      " [4]]\n",
      "(5, 1)\n",
      "\n",
      "[[0 1 2 3 4]]\n",
      "(1, 5)\n",
      "\n"
     ]
    }
   ],
   "source": [
    "x = np.arange(5)\n",
    "print(x)\n",
    "print(x.shape)\n",
    "print()\n",
    "\n",
    "x = x.reshape(5,1)\n",
    "print(x)\n",
    "print(x.shape)\n",
    "print()\n",
    "\n",
    "x = x.reshape(1,5)\n",
    "print(x)\n",
    "print(x.shape)\n",
    "print()"
   ]
  },
  {
   "cell_type": "code",
   "execution_count": 16,
   "metadata": {},
   "outputs": [
    {
     "name": "stdout",
     "output_type": "stream",
     "text": [
      "[0 1 2 3 4 5 6 7 8 9]\n",
      "(10,)\n",
      "\n",
      "[[0]\n",
      " [1]\n",
      " [2]\n",
      " [3]\n",
      " [4]\n",
      " [5]\n",
      " [6]\n",
      " [7]\n",
      " [8]\n",
      " [9]]\n",
      "(10, 1)\n",
      "\n",
      "[[0 1]\n",
      " [2 3]\n",
      " [4 5]\n",
      " [6 7]\n",
      " [8 9]]\n",
      "(5, 2)\n",
      "\n"
     ]
    }
   ],
   "source": [
    "x = np.arange(10)\n",
    "print(x)\n",
    "print(x.shape)\n",
    "print()\n",
    "\n",
    "x = x.reshape(-1,1)\n",
    "print(x)\n",
    "print(x.shape)\n",
    "print()\n",
    "\n",
    "x = x.reshape(-1,2)\n",
    "print(x)\n",
    "print(x.shape)\n",
    "print()"
   ]
  },
  {
   "cell_type": "code",
   "execution_count": null,
   "metadata": {},
   "outputs": [],
   "source": [
    "x = np.array([[1,2,3],[3,4,5]])\n",
    "z = np.array([-1,0,2])\n",
    "print(x)\n",
    "print(z)\n",
    "print()\n",
    "print(x * z)\n",
    "print()\n",
    "\n",
    "x = np.array([[1],[2],[3]])\n",
    "print(x)\n",
    "print(z)\n",
    "print()\n",
    "print(x * z)\n",
    "\n",
    "print(np.broadcast(x, z).shape)"
   ]
  },
  {
   "cell_type": "markdown",
   "metadata": {},
   "source": [
    "### Срезы"
   ]
  },
  {
   "cell_type": "code",
   "execution_count": null,
   "metadata": {},
   "outputs": [],
   "source": [
    "#x = np.linspace(0, 48, 16)\n",
    "x = np.arange(16)\n",
    "print(x)\n",
    "print()\n",
    "print(\"1.  x[1]        = {}\".format(x[1]))\n",
    "print(\"2.  x[-2]       = {}\".format(x[-2]))\n",
    "print(\"3.  x[2:9]      = {}\".format(x[2:9]))\n",
    "print(\"4.  x[:9]       = {}\".format(x[:9]))\n",
    "print(\"5.  x[2:]       = {}\".format(x[2:]))\n",
    "print(\"6.  x[:]        = {}\".format(x[:]))\n",
    "print(\"7.  x[2:9:3]    = {}\".format(x[2:9:3]))\n",
    "print(\"8.  x[9:2:-1]   = {}\".format(x[9:2:-1]))\n",
    "print(\"9.  x[::-1]     = {}\".format(x[::-1]))\n",
    "print(\"10. x[:-1]      = {}\".format(x[:-1]))\n",
    "print(\"11. x[-9:-2]    = {}\".format(x[-9:-2]))\n",
    "print(\"12. x[-9:-2:2]  = {}\".format(x[-9:-2:2]))\n",
    "print(\"13. x[-2:-9:-1] = {}\".format(x[-2:-9:-1]))\n",
    "print(\"14. x[-2:-9:-2] = {}\".format(x[-2:-9:-2]))"
   ]
  },
  {
   "cell_type": "code",
   "execution_count": null,
   "metadata": {},
   "outputs": [],
   "source": [
    "x = np.arange(24)\n",
    "x = x.reshape(2,3,4)\n",
    "print(x)\n",
    "print()\n",
    "print(\"1. x[1] =\\n{}\".format(x[1]))\n",
    "print(\"2. x[1,:,:] =\\n{}\".format(x[1,:,:]))\n",
    "print(\"3. x[:,1,:] =\\n{}\".format(x[:,1,:]))\n",
    "print(\"4. x[:,1] =\\n{}\".format(x[:,1]))\n",
    "print(\"5. x[:,:,1] =\\n{}\".format(x[:,:,1]))\n",
    "print(\"6. x[:,:2,:] =\\n{}\".format(x[:,:2,:]))\n",
    "print(\"7. x[:,:,::-1] =\\n{}\".format(x[:,:,::-1]))"
   ]
  },
  {
   "cell_type": "markdown",
   "metadata": {},
   "source": [
    "Воспоминания о работе со случайными числами\n",
    "-------------------------------------------"
   ]
  },
  {
   "cell_type": "code",
   "execution_count": null,
   "metadata": {},
   "outputs": [],
   "source": [
    "import numpy as np\n",
    "import numpy.random"
   ]
  },
  {
   "cell_type": "code",
   "execution_count": null,
   "metadata": {},
   "outputs": [],
   "source": [
    "numpy.random.seed(42)\n",
    "\n",
    "x = numpy.random.normal(2.0, 1.0, 1000)\n",
    "print(x.shape)\n",
    "print(np.mean(x))\n",
    "print(np.var(x))\n",
    "print()\n",
    "\n",
    "x = numpy.random.normal(np.arange(4).reshape(2,2), 1.0, (1000,2,2))\n",
    "print(x.shape)\n",
    "print(np.mean(x, axis=0))\n",
    "print(np.var(x, axis=0))\n",
    "print()\n",
    "\n",
    "x = numpy.random.normal(3.0, 1.0, 10000)\n",
    "_ = plt.hist(x,25)"
   ]
  },
  {
   "cell_type": "code",
   "execution_count": null,
   "metadata": {},
   "outputs": [],
   "source": [
    "numpy.random.seed(42)\n",
    "\n",
    "x = numpy.random.poisson(6.0, 10000)\n",
    "print(np.mean(x))\n",
    "print(np.var(x))"
   ]
  },
  {
   "cell_type": "markdown",
   "metadata": {},
   "source": [
    "Метод наименьших квадратов\n",
    "=========================="
   ]
  },
  {
   "cell_type": "markdown",
   "metadata": {},
   "source": [
    "**Задание 1.1**\n",
    "\n",
    "Дан вектор `x` с равномерной сеткой значений от `0.0` до `10.0`, а так же константы `a` и `b`. В вектор `y` запишите реализацию случайного вектора удовлетворяющего следующему соотношению:\n",
    "\n",
    "$$y_i = a  x_i + b + \\epsilon_i,$$\n",
    "\n",
    "где $\\epsilon_i$ - независимые нормальные случайные величины с нулевым средним и стандартным отклонением $\\sigma=2$.\n",
    "\n",
    "Постройте график зависимости $y_i$ от $x_i$."
   ]
  },
  {
   "cell_type": "code",
   "execution_count": 4,
   "metadata": {},
   "outputs": [
    {
     "data": {
      "text/plain": [
       "<matplotlib.collections.PathCollection at 0x112926090>"
      ]
     },
     "execution_count": 4,
     "metadata": {},
     "output_type": "execute_result"
    },
    {
     "data": {
      "image/png": "[encoded data removed]",
      "text/plain": [
       "<Figure size 432x288 with 1 Axes>"
      ]
     },
     "metadata": {
      "needs_background": "light"
     },
     "output_type": "display_data"
    }
   ],
   "source": [
    "np.random.seed(42)\n",
    "\n",
    "x = np.linspace(0, 10, 50)\n",
    "a, b = 2.5, 5.25\n",
    "y = a*x + b + np.random.normal(0,2,len(x)) ## формулу записать сюда\n",
    "\n",
    "plt.scatter(x,y)"
   ]
  },
  {
   "cell_type": "markdown",
   "metadata": {},
   "source": [
    "**Задание 1.2**\n",
    "\n",
    "Используя вектора `x` и `y` из предыдущего задания и формулы метода наименьших квадратов из лекций, найдите оценки констант `a` и `b` для линейной модели.\n",
    "\n",
    "Для этого используйте матричный формализм и векторные операции. Вычислите чему равна матрица задачи `A`. Для решения системы линейных алгебраических уравнений\n",
    "\n",
    "$$(A^T A)\\theta = A^T {\\bf y}$$\n",
    "\n",
    "используйте метод `np.linalg.solve`.\n",
    "Вычислите квадрат нормы вектора невязки используя метод `np.linalg.norm`. С его помощью вычислите ковариационную матрицу вектора параметров $\\theta$:\n",
    "\n",
    "$$\\Sigma = \\frac{(A^T A)^{-1} \\left|\\left|{\\bf y} - A{\\bf x}\\right|\\right|^2}{n -m},$$\n",
    "\n",
    "где $n$ - количество измерений, $m$ - количество параметров модели. Для обращения матрицы можно использовать метод `np.linalg.inv`.\n",
    "\n",
    "Нанесите на график данные и модельную прямую линию."
   ]
  },
  {
   "cell_type": "code",
   "execution_count": 5,
   "metadata": {},
   "outputs": [
    {
     "name": "stdout",
     "output_type": "stream",
     "text": [
      "a = 2.3840332010163547 +- 0.08903837899142662\n",
      "b = 5.378886184405947 +- 0.5166794360092011\n"
     ]
    },
    {
     "data": {
      "image/png": "[encoded data removed]",
      "text/plain": [
       "<Figure size 432x288 with 1 Axes>"
      ]
     },
     "metadata": {
      "needs_background": "light"
     },
     "output_type": "display_data"
    }
   ],
   "source": [
    "A = np.vstack([x,np.ones_like(x)]).T # матрица задачи\n",
    "theta = np.linalg.solve(A.T @ A, A.T @ y) # оценка векторов параметров\n",
    "res = (np.linalg.norm(y - A @ theta))**2\n",
    "theta_err = np.linalg.inv(A.T @ A)*res/(x.shape[0]-theta.shape[0])\n",
    "predicted = A @ theta # модельные значения y для сетки x\n",
    "plt.scatter(x,y)\n",
    "plt.plot(x, predicted, color='red')\n",
    "print(\"a = {} +- {}\".format(theta[0], np.sqrt(theta_err[0,0])))\n",
    "print(\"b = {} +- {}\".format(theta[1], np.sqrt(theta_err[1,1])))"
   ]
  },
  {
   "cell_type": "code",
   "execution_count": null,
   "metadata": {},
   "outputs": [],
   "source": [
    "theta, res, _, _ = numpy.linalg.lstsq(A, y, rcond=None)\n",
    "print(theta)"
   ]
  },
  {
   "cell_type": "code",
   "execution_count": null,
   "metadata": {},
   "outputs": [],
   "source": [
    "import scipy\n",
    "import scipy.linalg\n",
    "\n",
    "theta, res, _, _ = scipy.linalg.lstsq(A, y)\n",
    "print(theta)"
   ]
  },
  {
   "cell_type": "code",
   "execution_count": null,
   "metadata": {},
   "outputs": [],
   "source": [
    "import sklearn\n",
    "import sklearn.linear_model\n",
    "\n",
    "r = sklearn.linear_model.LinearRegression()\n",
    "r.fit(x.reshape(-1,1), y.reshape(-1,1))\n",
    "predicted = r.predict(x.reshape(-1,1))\n",
    "plt.scatter(x,y)\n",
    "plt.plot(x, predicted, color='red')\n",
    "print(np.hstack([r.coef_,[r.intercept_,]]))"
   ]
  },
  {
   "cell_type": "code",
   "execution_count": null,
   "metadata": {},
   "outputs": [],
   "source": [
    "import statsmodels.api as sm\n",
    "\n",
    "mod = sm.OLS(y, sm.add_constant(x))\n",
    "res = mod.fit()\n",
    "print(res.summary())"
   ]
  },
  {
   "cell_type": "markdown",
   "metadata": {},
   "source": [
    "**Задание 1.3**\n",
    "\n",
    "В файле `glass.csv` хранится таблица в формате CSV, содержащая данные о химическом составе и показателе преломления $n$ нескольких марок стекла. Используя `pandas`, или любой удобный вам способ, загрузите эти данные и сформируйте массив `x` с \"фичами\" (содержанием каждого из девяти химических элементов в каждой марке стекла) и массив `y` содержащий значение показателя преломления $n$.\n",
    "\n",
    "За отстутсвием луших идей будем считать, что для описания зависимости $n$ от химического состава можно использовать линейную модель. С использованием метода `sklearn.model_selection.train_test_split` раделите данные на учебную и тестовую выборки. Используя класс `sklearn.linear_model.LinearRegression` постройте линейную модель для описания зависимости.\n",
    "Подсчитайте среднеквадратичное отклонение модели для тестовой выборки и распечатайте его.\n",
    "Постройте график зависимости истинного значения $n$ от предсказанного модельню значения $n$ для тестовой выборки."
   ]
  },
  {
   "cell_type": "code",
   "execution_count": 28,
   "metadata": {
    "scrolled": true
   },
   "outputs": [
    {
     "data": {
      "image/png": "[encoded data removed]",
      "text/plain": [
       "<Figure size 432x288 with 1 Axes>"
      ]
     },
     "metadata": {
      "needs_background": "light"
     },
     "output_type": "display_data"
    }
   ],
   "source": [
    "import pandas as pd\n",
    "from sklearn.model_selection import train_test_split\n",
    "from sklearn.metrics import mean_squared_error\n",
    "from sklearn.linear_model import LinearRegression\n",
    "\n",
    "names = (\"id\", \"n\", \"Na\", \"Mg\", \"Al\", \"Si\", \"K\", \"Ca\", \"Ba\", \"Fe\", \"Type\")\n",
    "data = pd.read_csv('glass.csv', header=None, names=names, index_col=0)\n",
    "\n",
    "x = data.drop(['n','Type'],axis=1) # фичи\n",
    "y = data.n # показатель преломления\n",
    "\n",
    "x_train, x_test, y_train, y_test = train_test_split(x, y, random_state=42)\n",
    "\n",
    "reg = sklearn.linear_model.LinearRegression().fit(x_train,y_train)\n",
    "\n",
    "\n",
    "mse_test = np.sqrt(reg.score(x_test, y_test)) # квадратный корень из среднего квадрата ошибки модели на тестовой выборке\n",
    "\n",
    "y_test_pred = reg.predict(x_test)\n",
    "\n",
    "plt.scatter(y_test, y_test_pred)\n",
    "plt.xlabel(\"True\")\n",
    "plt.ylabel(\"Predicted\")\n",
    "_ = plt.axis('equal')"
   ]
  },
  {
   "cell_type": "markdown",
   "metadata": {},
   "source": [
    "### Представление о плохо обусловленных и некорректных задачах"
   ]
  },
  {
   "cell_type": "markdown",
   "metadata": {},
   "source": [
    "$$\\alpha x^2 + \\beta y^2 = 1$$"
   ]
  },
  {
   "cell_type": "code",
   "execution_count": null,
   "metadata": {},
   "outputs": [],
   "source": [
    "from matplotlib.patches import Ellipse\n",
    "\n",
    "def fit_ellipse(x, plot = False):\n",
    "    X = x**2\n",
    "    cond = numpy.linalg.cond(X)\n",
    "    \n",
    "    r = sklearn.linear_model.LinearRegression(fit_intercept=False)\n",
    "    r.fit(X, np.ones((x.shape[0],1)))\n",
    "    \n",
    "    theta = np.asarray(r.coef_).reshape(-1)\n",
    "    width, height = 2 * numpy.power(theta, np.full_like(theta, -0.5), out=np.full_like(theta, np.nan), where=theta>0)\n",
    "    \n",
    "    if plot:\n",
    "        ellipse = Ellipse((0, 0), width=width, height=height, fill=False, edgecolor='red')\n",
    "        plt.scatter(*x.T)\n",
    "        plt.xlim(-2.5,2.5)\n",
    "        plt.ylim(-2.5,2.5)\n",
    "        plt.axis('equal')\n",
    "        ax = plt.gca()\n",
    "        ax.add_patch(ellipse)\n",
    "    \n",
    "    return width, height, cond\n",
    "\n",
    "def generate_ellipse(phi, width, height, size):\n",
    "    x = np.vstack([width / 2 * np.cos(phi), height / 2 * np.sin(phi)]).T\n",
    "    X = x + np.random.normal(0.0, 0.0125, (size,*x.shape))\n",
    "    return X\n",
    "    "
   ]
  },
  {
   "cell_type": "code",
   "execution_count": null,
   "metadata": {},
   "outputs": [],
   "source": [
    "numpy.random.seed(42)\n",
    "\n",
    "width = 2.0\n",
    "height = 4.0\n",
    "\n",
    "lim = 7.5 / 180.0 * np.pi\n",
    "phi = np.linspace(-lim,lim,4)\n",
    "X = generate_ellipse(phi, width, height, 1000)\n",
    "\n",
    "fit_ellipse(X[1], True)\n",
    "fit_ellipse(X[3], True)\n",
    "\n",
    "r = np.array([fit_ellipse(X[i]) for i in range(X.shape[0])])\n",
    "print(np.nanmean(r, axis=0))\n",
    "print(np.nanstd(r, axis=0))"
   ]
  },
  {
   "cell_type": "code",
   "execution_count": null,
   "metadata": {},
   "outputs": [],
   "source": [
    "lim = 7.5 / 180.0 * np.pi\n",
    "phi = np.linspace(-lim,lim,4)\n",
    "phi = np.concatenate([phi, [1.5,]])\n",
    "X = generate_ellipse(phi, width, height, 1000)\n",
    "\n",
    "fit_ellipse(X[1], True)\n",
    "fit_ellipse(X[3], True)\n",
    "\n",
    "r = np.array([fit_ellipse(X[i]) for i in range(X.shape[0])])\n",
    "print(np.nanmean(r, axis=0))\n",
    "print(np.nanstd(r, axis=0))"
   ]
  },
  {
   "cell_type": "markdown",
   "metadata": {},
   "source": [
    "### Представление о регуляризации"
   ]
  },
  {
   "cell_type": "markdown",
   "metadata": {},
   "source": [
    "Пусть нам кто-то сказал, что искомый эллипс очень похож на единичный круг:\n",
    "\n",
    "$$\\Delta \\alpha x^2 + \\Delta \\beta y^2 = 1 - x^2 - y^2,$$\n",
    "\n",
    "тогда $\\Delta \\alpha^2 + \\Delta \\beta^2 \\rightarrow 0$."
   ]
  },
  {
   "cell_type": "code",
   "execution_count": null,
   "metadata": {},
   "outputs": [],
   "source": [
    "def fit_ellipse2(x, alpha, plot = False):\n",
    "    X = x**2\n",
    "    cond = numpy.linalg.cond(X)\n",
    "    y = (1.0 - np.sum(x**2, axis=1)).reshape(-1)\n",
    "\n",
    "    r = sklearn.linear_model.Ridge(fit_intercept=False, alpha=alpha)\n",
    "    r.fit(X, y)\n",
    "    \n",
    "    theta = np.asarray(r.coef_).reshape(-1)\n",
    "    width, height = 2 * numpy.power(theta + 1.0, np.full_like(theta, -0.5), out=np.full_like(theta, np.nan), where=theta>-1.0)\n",
    "    \n",
    "    if plot:\n",
    "        ellipse = Ellipse((0, 0), width=width, height=height, fill=False, edgecolor='red')\n",
    "        plt.scatter(*x.T)\n",
    "        plt.xlim(-2.5,2.5)\n",
    "        plt.ylim(-2.5,2.5)\n",
    "        plt.axis('equal')\n",
    "        ax = plt.gca()\n",
    "        ax.add_patch(ellipse)\n",
    "    \n",
    "    return width, height, cond"
   ]
  },
  {
   "cell_type": "code",
   "execution_count": null,
   "metadata": {},
   "outputs": [],
   "source": [
    "lim = 7.5 / 180.0 * np.pi\n",
    "phi = np.linspace(-lim,lim,4)\n",
    "X = generate_ellipse(phi, width, height, 1000)\n",
    "alpha = np.geomspace(1e-6, 1e+3, 10)\n",
    "\n",
    "for x in alpha:\n",
    "    r = np.array([fit_ellipse2(X[i], x) for i in range(X.shape[0])])\n",
    "    print(\"alpha = {}\".format(x))\n",
    "    print(np.nanmean(r, axis=0))\n",
    "    print(np.nanstd(r, axis=0))\n",
    "    print()"
   ]
  },
  {
   "cell_type": "markdown",
   "metadata": {},
   "source": [
    "**Задание 1.4** Логистическая регрессия.\n",
    "\n",
    "В файле `magic04.csv` в формате `CSV` хранятся предварительно обработанные измерения эксперимента по ловле космического излучения в земной атмосфере с помощью излучения Черенкова. Используя `pandas`, или любой удобный вам способ, загрузите эти данные и сформируйте массив `x` с \"фичами\" (все которые найдутся в файле: это характеристики изображений, оставляемых отдельными событиями, на панорамном приемнике, такие как его размер, эллиптичность, и прочее...), и массив `y`, содержащий текстовый признак частицы: `\"g\"` - гамма квант, `\"h\"` - адрон.\n",
    "\n",
    "Используя класс `sklearn.linear_model.LogisticRegression` постройте классификатор типа частицы по изображению с детектора.\n",
    "\n",
    "С помощью обученной модели проделайте следующее:\n",
    "* с помощью метода `sklearn.metrics.confusion_matrix` постройте матрицу ошибок (confusion matrix),\n",
    "* рассчитайте AUC и постройте график ROC. вам помогут методы `sklearn.metrics.roc_curve`, `sklearn.metrics.roc_auc_score`, и метод `decision_function` объекта модели."
   ]
  },
  {
   "cell_type": "code",
   "execution_count": 40,
   "metadata": {},
   "outputs": [
    {
     "name": "stdout",
     "output_type": "stream",
     "text": [
      "(array([0.        , 0.        , 0.        , ..., 0.90318701, 0.90318701,\n",
      "       1.        ]), array([0.00000000e+00, 3.23415265e-04, 1.61707633e-03, ...,\n",
      "       9.99676585e-01, 1.00000000e+00, 1.00000000e+00]), array([ 2.06337184,  1.06337184,  1.027322  , ...,  0.08990545,\n",
      "        0.08946649, -0.85196031]))\n"
     ]
    },
    {
     "data": {
      "text/plain": [
       "Text(0, 0.5, 'True positive rate')"
      ]
     },
     "execution_count": 40,
     "metadata": {},
     "output_type": "execute_result"
    },
    {
     "data": {
      "image/png": "[encoded data removed]",
      "text/plain": [
       "<Figure size 432x288 with 1 Axes>"
      ]
     },
     "metadata": {
      "needs_background": "light"
     },
     "output_type": "display_data"
    }
   ],
   "source": [
    "from sklearn.linear_model import LogisticRegression\n",
    "from sklearn.model_selection import train_test_split\n",
    "import sklearn.metrics\n",
    "import pandas as pd\n",
    "\n",
    "names = [\"length\", \"width\", \"size\", \"conc\", \"conc1\", \"asym\", \"m3long\", \"m3trans\", \"alpha\", \"dist\", \"class\"]\n",
    "data = pd.read_csv('magic04.csv', header=None, names=names, index_col=0)\n",
    "\n",
    "x = data.drop(['class'],axis = 1) # фичи\n",
    "y = data['class'].apply(lambda x: x == 'g')\n",
    "\n",
    "x_train, x_test, y_train, y_test = train_test_split(x, y, random_state=42)\n",
    "\n",
    "reg = sklearn.linear_model.LinearRegression().fit(x_train,y_train)\n",
    "\n",
    "y_test_scores = reg.predict(x_test)\n",
    "fpr, tpr, _ = sklearn.metrics.roc_curve(y_test, y_test_scores) #, pos_label=c.classes_[-1]\n",
    "auc = sklearn.metrics.roc_curve(y_test, y_test_scores)\n",
    "print(auc)\n",
    "\n",
    "plt.plot(fpr, tpr)\n",
    "plt.xlabel(\"False positive rate\")\n",
    "plt.ylabel(\"True positive rate\")"
   ]
  },
  {
   "cell_type": "markdown",
   "metadata": {},
   "source": [
    "Метод максимального правдоподобия\n",
    "------------------------------------------------------------"
   ]
  },
  {
   "cell_type": "code",
   "execution_count": null,
   "metadata": {},
   "outputs": [],
   "source": [
    "numpy.random.seed(42)\n",
    "x = numpy.random.normal(1.5, 0.25, 1000)\n",
    "\n",
    "mu_estimate = x.sum() / x.shape[0]\n",
    "sigma2_estimate = ((x - mu_estimate)**2).sum() / x.shape[0]\n",
    "\n",
    "mu_estimate, np.sqrt(sigma2_estimate)"
   ]
  },
  {
   "cell_type": "markdown",
   "metadata": {},
   "source": [
    "**Задание 1.5**\n",
    "\n",
    "По аналогии с предыдущей ячейкой, сгенерируйте вектор `x` из $1000$ реализаций случайной величины, распределенной согласно закону Пуассона с параметром $\\lambda = 2.45$.\n",
    "Используя формулу распределения Пуассона, а так же знания полученные на лекции, получите формулу оценки параметра $\\lambda$ для выборки независимых величин. Рассчитайте по этой формуле значение оценки $\\lambda$."
   ]
  },
  {
   "cell_type": "code",
   "execution_count": 7,
   "metadata": {},
   "outputs": [
    {
     "data": {
      "text/plain": [
       "2.457"
      ]
     },
     "execution_count": 7,
     "metadata": {},
     "output_type": "execute_result"
    }
   ],
   "source": [
    "np.random.seed(42)\n",
    "x = np.random.poisson(2.45, 1000)# выборка случайной величины\n",
    "\n",
    "lambda_estimate = x.sum() / x.shape[0] # оценка параметра\n",
    "\n",
    "lambda_estimate"
   ]
  },
  {
   "cell_type": "markdown",
   "metadata": {},
   "source": [
    "**Задание 1.6**\n",
    "\n",
    "Аналогично предыдущему заданию, сгенерируйте вектор `x` для лог-нормального распределения, с параметрами $\\mu=1.5$, $\\sigma=0.25$. Аналитически получите формулы оценок этих параметров по методу максимального правдоподобия, а затем проверьте себя вычислив числовые значения оценок параметров $\\mu$ и $\\sigma$."
   ]
  },
  {
   "cell_type": "code",
   "execution_count": 10,
   "metadata": {},
   "outputs": [
    {
     "data": {
      "text/plain": [
       "(1.5048330139555812, 0.24468155193683858)"
      ]
     },
     "execution_count": 10,
     "metadata": {},
     "output_type": "execute_result"
    }
   ],
   "source": [
    "np.random.seed(42)\n",
    "x = np.random.lognormal(1.5, 0.25, 1000) # выборка случайной величины\n",
    "\n",
    "mu_estimate = np.sum(np.log(x), axis=0) / x.shape[0]# оценки\n",
    "sigma2_estimate = ((np.log(x) - mu_estimate)**2).sum() / x.shape[0] # параметров\n",
    "\n",
    "mu_estimate, np.sqrt(sigma2_estimate)"
   ]
  },
  {
   "cell_type": "code",
   "execution_count": null,
   "metadata": {},
   "outputs": [],
   "source": [
    "numpy.random.seed(42)\n",
    "x = np.random.multivariate_normal([0.0, 0.0], [[1.0, 0.75],[0.75, 1.0]], 1000)\n",
    "plt.plot(*x.T,'*')\n",
    "\n",
    "mu_estimate = np.sum(x, axis=0) / x.shape[0]\n",
    "dx = x - mu_estimate\n",
    "sigma_estimate = np.tensordot(dx, dx, [0, 0]) / x.shape[0]\n",
    "\n",
    "mu_estimate, sigma_estimate"
   ]
  },
  {
   "cell_type": "markdown",
   "metadata": {},
   "source": [
    "### Линейные модели авторегрессии скользящего среднего"
   ]
  },
  {
   "cell_type": "code",
   "execution_count": 2,
   "metadata": {},
   "outputs": [],
   "source": [
    "import numpy as np\n",
    "import matplotlib.pyplot as plt\n",
    "import pandas as pd\n",
    "import statsmodels.api as sm\n",
    "from statsmodels import tsa\n",
    "from statsmodels.tsa.statespace import sarimax\n",
    "from statsmodels.graphics import tsaplots\n",
    "from statsmodels.graphics import gofplots\n",
    "from scipy.stats import boxcox\n",
    "\n",
    "data = pd.read_csv('sunspots.csv')\n",
    "x = np.asarray(data['YEAR']).reshape(-1,1)\n",
    "y = np.asarray(data['SUNACTIVITY']).reshape(-1,1)\n",
    "\n",
    "plt.plot(x, y)\n",
    "plt.xlabel(\"Year\")\n",
    "plt.ylabel(\"Activity index\")\n",
    "plt.title(\"Solar activity\")\n",
    "plt.tight_layout()"
   ]
  },
  {
   "cell_type": "code",
   "execution_count": 3,
   "metadata": {},
   "outputs": [
    {
     "data": {
      "text/plain": [
       "<Figure size 432x288 with 0 Axes>"
      ]
     },
     "metadata": {},
     "output_type": "display_data"
    },
    {
     "data": {
      "image/png": "[encoded data removed]",
      "text/plain": [
       "<Figure size 432x288 with 1 Axes>"
      ]
     },
     "metadata": {
      "needs_background": "light"
     },
     "output_type": "display_data"
    },
    {
     "data": {
      "text/plain": [
       "<Figure size 432x288 with 0 Axes>"
      ]
     },
     "metadata": {},
     "output_type": "display_data"
    },
    {
     "data": {
      "image/png": "[encoded data removed]",
      "text/plain": [
       "<Figure size 432x288 with 1 Axes>"
      ]
     },
     "metadata": {
      "needs_background": "light"
     },
     "output_type": "display_data"
    },
    {
     "data": {
      "text/plain": [
       "<Figure size 432x288 with 0 Axes>"
      ]
     },
     "metadata": {},
     "output_type": "display_data"
    },
    {
     "data": {
      "image/png": "[encoded data removed]",
      "text/plain": [
       "<Figure size 432x288 with 1 Axes>"
      ]
     },
     "metadata": {
      "needs_background": "light"
     },
     "output_type": "display_data"
    }
   ],
   "source": [
    "plt.figure()\n",
    "gofplots.qqplot(y.reshape(-1), fit=True, line='45')\n",
    "plt.axis('equal')\n",
    "\n",
    "plt.figure()\n",
    "y_log = boxcox(y+1, 0)\n",
    "gofplots.qqplot(y_log.reshape(-1), fit=True, line='45')\n",
    "_ = plt.axis('equal')\n",
    "\n",
    "plt.figure()\n",
    "y_1 = boxcox(y+1, 0.5)\n",
    "gofplots.qqplot(y_1.reshape(-1), fit=True, line='45')\n",
    "_ = plt.axis('equal')"
   ]
  },
  {
   "cell_type": "code",
   "execution_count": 4,
   "metadata": {},
   "outputs": [
    {
     "data": {
      "image/png": "[encoded data removed]",
      "text/plain": [
       "<Figure size 432x288 with 1 Axes>"
      ]
     },
     "metadata": {
      "needs_background": "light"
     },
     "output_type": "display_data"
    },
    {
     "data": {
      "image/png": "[encoded data removed]",
      "text/plain": [
       "<Figure size 432x288 with 1 Axes>"
      ]
     },
     "metadata": {
      "needs_background": "light"
     },
     "output_type": "display_data"
    }
   ],
   "source": [
    "tsaplots.plot_acf(y_log, lags=np.arange(50))\n",
    "_ = tsaplots.plot_pacf(y_log, lags=np.arange(50))"
   ]
  },
  {
   "cell_type": "code",
   "execution_count": 11,
   "metadata": {},
   "outputs": [
    {
     "name": "stdout",
     "output_type": "stream",
     "text": [
      "                              ARMA Model Results                              \n",
      "==============================================================================\n",
      "Dep. Variable:                      y   No. Observations:                  309\n",
      "Model:                     ARMA(2, 0)   Log Likelihood                -212.767\n",
      "Method:                       css-mle   S.D. of innovations              0.480\n",
      "Date:                Wed, 22 Apr 2020   AIC                            433.534\n",
      "Time:                        16:46:21   BIC                            448.468\n",
      "Sample:                             0   HQIC                           439.505\n",
      "                                                                              \n",
      "==============================================================================\n",
      "                 coef    std err          z      P>|z|      [0.025      0.975]\n",
      "------------------------------------------------------------------------------\n",
      "const          3.5031      0.092     37.875      0.000       3.322       3.684\n",
      "ar.L1.y        1.3095      0.046     28.699      0.000       1.220       1.399\n",
      "ar.L2.y       -0.6047      0.046    -13.220      0.000      -0.694      -0.515\n",
      "                                    Roots                                    \n",
      "=============================================================================\n",
      "                  Real          Imaginary           Modulus         Frequency\n",
      "-----------------------------------------------------------------------------\n",
      "AR.1            1.0828           -0.6938j            1.2860           -0.0907\n",
      "AR.2            1.0828           +0.6938j            1.2860            0.0907\n",
      "-----------------------------------------------------------------------------\n",
      "                              ARMA Model Results                              \n",
      "==============================================================================\n",
      "Dep. Variable:                      y   No. Observations:                  309\n",
      "Model:                     ARMA(3, 0)   Log Likelihood                -211.637\n",
      "Method:                       css-mle   S.D. of innovations              0.478\n",
      "Date:                Wed, 22 Apr 2020   AIC                            433.275\n",
      "Time:                        16:46:21   BIC                            451.942\n",
      "Sample:                             0   HQIC                           440.738\n",
      "                                                                              \n",
      "==============================================================================\n",
      "                 coef    std err          z      P>|z|      [0.025      0.975]\n",
      "------------------------------------------------------------------------------\n",
      "const          3.5058      0.085     41.341      0.000       3.340       3.672\n",
      "ar.L1.y        1.2576      0.057     22.049      0.000       1.146       1.369\n",
      "ar.L2.y       -0.4925      0.087     -5.641      0.000      -0.664      -0.321\n",
      "ar.L3.y       -0.0862      0.057     -1.506      0.133      -0.198       0.026\n",
      "                                    Roots                                    \n",
      "=============================================================================\n",
      "                  Real          Imaginary           Modulus         Frequency\n",
      "-----------------------------------------------------------------------------\n",
      "AR.1            1.0335           -0.6505j            1.2212           -0.0894\n",
      "AR.2            1.0335           +0.6505j            1.2212            0.0894\n",
      "AR.3           -7.7837           -0.0000j            7.7837           -0.5000\n",
      "-----------------------------------------------------------------------------\n"
     ]
    }
   ],
   "source": [
    "import statsmodels\n",
    "\n",
    "arma_mod20 = statsmodels.tsa.arima_model.ARIMA(y_log, order=(2,0,0)).fit()\n",
    "print(arma_mod20.summary())\n",
    "\n",
    "arma_mod30 = statsmodels.tsa.arima_model.ARIMA(y_log, order=(3,0,0)).fit()\n",
    "print(arma_mod30.summary())\n",
    "\n",
    "#not work\n",
    "#arma_mods11 = statsmodels.tsa.arima_model.ARIMA(y_log, order=(3,0,0), seasonal_order=(1,0,0,11)).fit()\n",
    "#print(arma_mods11.summary())"
   ]
  },
  {
   "cell_type": "code",
   "execution_count": 13,
   "metadata": {},
   "outputs": [
    {
     "data": {
      "text/plain": [
       "<Figure size 432x288 with 0 Axes>"
      ]
     },
     "metadata": {},
     "output_type": "display_data"
    },
    {
     "data": {
      "image/png": "[encoded data removed]",
      "text/plain": [
       "<Figure size 432x288 with 1 Axes>"
      ]
     },
     "metadata": {
      "needs_background": "light"
     },
     "output_type": "display_data"
    },
    {
     "data": {
      "text/plain": [
       "<Figure size 432x288 with 0 Axes>"
      ]
     },
     "metadata": {},
     "output_type": "display_data"
    },
    {
     "data": {
      "image/png": "[encoded data removed]",
      "text/plain": [
       "<Figure size 432x288 with 1 Axes>"
      ]
     },
     "metadata": {
      "needs_background": "light"
     },
     "output_type": "display_data"
    }
   ],
   "source": [
    "plt.figure()\n",
    "tsaplots.plot_acf(arma_mod20.resid, lags=np.arange(50))\n",
    "\n",
    "plt.figure()\n",
    "_ = tsaplots.plot_acf(arma_mod30.resid, lags=np.arange(50))\n",
    "\n",
    "#plt.figure()\n",
    "#_ = tsaplots.plot_acf(arma_mods11.resid, lags=np.arange(50))"
   ]
  },
  {
   "cell_type": "code",
   "execution_count": 14,
   "metadata": {},
   "outputs": [
    {
     "data": {
      "image/png": "[encoded data removed]",
      "text/plain": [
       "<Figure size 432x288 with 1 Axes>"
      ]
     },
     "metadata": {
      "needs_background": "light"
     },
     "output_type": "display_data"
    }
   ],
   "source": [
    "n_forecast = 40\n",
    "x_pred = np.arange(x[-1], x[-1] + n_forecast)\n",
    "y_pred_20 = arma_mod20.predict(len(x), len(x) + n_forecast - 1)\n",
    "#y_pred_s = arma_mods11.predict(len(x), len(x) + n_forecast - 1)\n",
    "\n",
    "plt.plot(x, y_log)\n",
    "plt.plot(x_pred, y_pred_20)\n",
    "#plt.plot(x_pred, y_pred_s)\n",
    "plt.xlabel(\"Year\")\n",
    "plt.ylabel(\"Activity index\")\n",
    "plt.title(\"Solar activity\")\n",
    "plt.tight_layout()\n",
    "plt.show()"
   ]
  },
  {
   "cell_type": "markdown",
   "metadata": {},
   "source": [
    "**Задание 1.7**\n",
    "\n",
    "Используя данные о солнечной активности из файла `sunspots.csv` (по аналогии с предыдущими ячейками), найдите наиболее подходящую модель семейства ARIMA, опираясь на принцип максимального правдоподобия при сравнении моделей.\n",
    "* Руководствуясь принципом простоты, количество параметров модели не должно превышать 12\n",
    "* Попробуйте применить различные преобразования из семейства Бокса-Кокса перед обучением модели\n",
    "\n",
    "Для найденной модели постройте график АКФ невязок, распечатайте `summary()`, и постройте график прогноза на ближайшие 40 точек в будущее.\n",
    "\n",
    "*Бонусные баллы* полагаются тому, кто найдет удовлетворяющую условиям модель с наибольшим правдоподобием среди всей группы."
   ]
  },
  {
   "cell_type": "code",
   "execution_count": 15,
   "metadata": {},
   "outputs": [
    {
     "data": {
      "text/html": [
       "<div>\n",
       "<style scoped>\n",
       "    .dataframe tbody tr th:only-of-type {\n",
       "        vertical-align: middle;\n",
       "    }\n",
       "\n",
       "    .dataframe tbody tr th {\n",
       "        vertical-align: top;\n",
       "    }\n",
       "\n",
       "    .dataframe thead th {\n",
       "        text-align: right;\n",
       "    }\n",
       "</style>\n",
       "<table border=\"1\" class=\"dataframe\">\n",
       "  <thead>\n",
       "    <tr style=\"text-align: right;\">\n",
       "      <th></th>\n",
       "      <th>SUNACTIVITY</th>\n",
       "    </tr>\n",
       "    <tr>\n",
       "      <th>YEAR</th>\n",
       "      <th></th>\n",
       "    </tr>\n",
       "  </thead>\n",
       "  <tbody>\n",
       "    <tr>\n",
       "      <td>1700</td>\n",
       "      <td>5.0</td>\n",
       "    </tr>\n",
       "    <tr>\n",
       "      <td>1701</td>\n",
       "      <td>11.0</td>\n",
       "    </tr>\n",
       "    <tr>\n",
       "      <td>1702</td>\n",
       "      <td>16.0</td>\n",
       "    </tr>\n",
       "    <tr>\n",
       "      <td>1703</td>\n",
       "      <td>23.0</td>\n",
       "    </tr>\n",
       "    <tr>\n",
       "      <td>1704</td>\n",
       "      <td>36.0</td>\n",
       "    </tr>\n",
       "    <tr>\n",
       "      <td>...</td>\n",
       "      <td>...</td>\n",
       "    </tr>\n",
       "    <tr>\n",
       "      <td>2004</td>\n",
       "      <td>40.4</td>\n",
       "    </tr>\n",
       "    <tr>\n",
       "      <td>2005</td>\n",
       "      <td>29.8</td>\n",
       "    </tr>\n",
       "    <tr>\n",
       "      <td>2006</td>\n",
       "      <td>15.2</td>\n",
       "    </tr>\n",
       "    <tr>\n",
       "      <td>2007</td>\n",
       "      <td>7.5</td>\n",
       "    </tr>\n",
       "    <tr>\n",
       "      <td>2008</td>\n",
       "      <td>2.9</td>\n",
       "    </tr>\n",
       "  </tbody>\n",
       "</table>\n",
       "<p>309 rows × 1 columns</p>\n",
       "</div>"
      ],
      "text/plain": [
       "      SUNACTIVITY\n",
       "YEAR             \n",
       "1700          5.0\n",
       "1701         11.0\n",
       "1702         16.0\n",
       "1703         23.0\n",
       "1704         36.0\n",
       "...           ...\n",
       "2004         40.4\n",
       "2005         29.8\n",
       "2006         15.2\n",
       "2007          7.5\n",
       "2008          2.9\n",
       "\n",
       "[309 rows x 1 columns]"
      ]
     },
     "execution_count": 15,
     "metadata": {},
     "output_type": "execute_result"
    }
   ],
   "source": [
    "import pandas as pd\n",
    "import matplotlib.pyplot as plt\n",
    "import statsmodels.api as sm\n",
    "import statsmodels\n",
    "from statsmodels.tsa.statespace import sarimax\n",
    "from statsmodels.graphics import tsaplots\n",
    "from statsmodels.graphics import gofplots\n",
    "from scipy.stats import boxcox\n",
    "\n",
    "data = pd.read_csv('sunspots.csv',index_col=0)\n",
    "data"
   ]
  },
  {
   "cell_type": "code",
   "execution_count": 29,
   "metadata": {
    "scrolled": true
   },
   "outputs": [
    {
     "name": "stdout",
     "output_type": "stream",
     "text": [
      "                              ARMA Model Results                              \n",
      "==============================================================================\n",
      "Dep. Variable:                      y   No. Observations:                  309\n",
      "Model:                     ARMA(8, 0)   Log Likelihood                -198.719\n",
      "Method:                       css-mle   S.D. of innovations              0.458\n",
      "Date:                Wed, 22 Apr 2020   AIC                            417.437\n",
      "Time:                        17:01:27   BIC                            454.771\n",
      "Sample:                             0   HQIC                           432.363\n",
      "                                                                              \n",
      "==============================================================================\n",
      "                 coef    std err          z      P>|z|      [0.025      0.975]\n",
      "------------------------------------------------------------------------------\n",
      "const          3.4937      0.114     30.551      0.000       3.270       3.718\n",
      "ar.L1.y        1.2009      0.057     21.243      0.000       1.090       1.312\n",
      "ar.L2.y       -0.4728      0.089     -5.321      0.000      -0.647      -0.299\n",
      "ar.L3.y       -0.0130      0.093     -0.140      0.889      -0.195       0.169\n",
      "ar.L4.y        0.0518      0.092      0.561      0.575      -0.129       0.233\n",
      "ar.L5.y       -0.0921      0.092     -0.997      0.320      -0.273       0.089\n",
      "ar.L6.y       -0.0568      0.093     -0.613      0.541      -0.239       0.125\n",
      "ar.L7.y       -0.0016      0.089     -0.018      0.985      -0.176       0.173\n",
      "ar.L8.y        0.1576      0.057      2.784      0.006       0.047       0.268\n",
      "                                    Roots                                    \n",
      "=============================================================================\n",
      "                  Real          Imaginary           Modulus         Frequency\n",
      "-----------------------------------------------------------------------------\n",
      "AR.1            0.8834           -0.5853j            1.0597           -0.0931\n",
      "AR.2            0.8834           +0.5853j            1.0597            0.0931\n",
      "AR.3            1.1554           -0.0000j            1.1554           -0.0000\n",
      "AR.4            0.2251           -1.2064j            1.2272           -0.2206\n",
      "AR.5            0.2251           +1.2064j            1.2272            0.2206\n",
      "AR.6           -1.4691           -0.0000j            1.4691           -0.5000\n",
      "AR.7           -0.9465           -1.1468j            1.4869           -0.3598\n",
      "AR.8           -0.9465           +1.1468j            1.4869            0.3598\n",
      "-----------------------------------------------------------------------------\n"
     ]
    },
    {
     "data": {
      "image/png": "[encoded data removed]",
      "text/plain": [
       "<Figure size 432x288 with 1 Axes>"
      ]
     },
     "metadata": {
      "needs_background": "light"
     },
     "output_type": "display_data"
    }
   ],
   "source": [
    "arma_mod = statsmodels.tsa.arima_model.ARIMA(y_log, order=(8,0,0)).fit()\n",
    "print(arma_mod.summary())\n",
    "\n",
    "\n",
    "n_forecast = 40\n",
    "x_pred = np.arange(x[-1], x[-1] + n_forecast)\n",
    "y_pred_before = arma_mod20.predict(0, len(x) - 1)\n",
    "y_pred = arma_mod30.predict(len(x), len(x) + n_forecast - 1)\n",
    "\n",
    "plt.plot(x, y_log)\n",
    "plt.plot(x,y_pred_before)\n",
    "plt.plot(x_pred, y_pred)\n",
    "plt.xlabel(\"Year\")\n",
    "plt.ylabel(\"Activity index\")\n",
    "plt.title(\"Solar activity\")\n",
    "plt.tight_layout()\n",
    "plt.show()"
   ]
  },
  {
   "cell_type": "code",
   "execution_count": 30,
   "metadata": {},
   "outputs": [
    {
     "data": {
      "text/plain": [
       "[<matplotlib.lines.Line2D at 0x1c202dc350>]"
      ]
     },
     "execution_count": 30,
     "metadata": {},
     "output_type": "execute_result"
    },
    {
     "data": {
      "image/png": "[encoded data removed]",
      "text/plain": [
       "<Figure size 432x288 with 1 Axes>"
      ]
     },
     "metadata": {
      "needs_background": "light"
     },
     "output_type": "display_data"
    }
   ],
   "source": [
    "# График невязки\n",
    "y = [i[0] for i in y_log]\n",
    "plt.plot(x,y - y_pred_before)"
   ]
  },
  {
   "cell_type": "markdown",
   "metadata": {},
   "source": [
    "### Гауссовы процессы"
   ]
  },
  {
   "cell_type": "markdown",
   "metadata": {},
   "source": [
    "**Задание 1.8**\n",
    "\n",
    "Ниже приведен пример кода использования гауссовых процессов для моделирования временных рядов. Используются всё те же данные солнечной активности. В этом задании можно получить *бонусные баллы*, для этого надо подобрать ядро преобразования `kernel` в примере таким образом, чтобы среднеквадратичная ошибка модели на тестовой выборке (посление 100 отсчетов по времени), стала лучше всех в группе."
   ]
  },
  {
   "cell_type": "code",
   "execution_count": 80,
   "metadata": {},
   "outputs": [
    {
     "name": "stdout",
     "output_type": "stream",
     "text": [
      "Kernel: 0.737**2 * ExpSineSquared(length_scale=0.688, periodicity=22.2) + WhiteKernel(noise_level=0.663)\n"
     ]
    },
    {
     "data": {
      "text/plain": [
       "<Figure size 640x480 with 1 Axes>"
      ]
     },
     "metadata": {},
     "output_type": "display_data"
    },
    {
     "data": {
      "text/plain": [
       "1.06655647794271"
      ]
     },
     "execution_count": 80,
     "metadata": {},
     "output_type": "execute_result"
    }
   ],
   "source": [
    "import pandas as pd\n",
    "import matplotlib.pyplot as plt\n",
    "from sklearn.gaussian_process import GaussianProcessRegressor\n",
    "from sklearn.gaussian_process.kernels import RBF, WhiteKernel, RationalQuadratic, ExpSineSquared\n",
    "\n",
    "data = pd.read_csv('sunspots.csv')\n",
    "x = np.asarray(data['YEAR']).reshape(-1,1)\n",
    "y = np.log(np.asarray(data['SUNACTIVITY']) + 1).reshape(-1,1)\n",
    "\n",
    "x_train = x[:-100]\n",
    "y_train = y[:-100]\n",
    "x_test = x[-100:]\n",
    "y_test = y[-100:]\n",
    "\n",
    "kernel = 1 * ExpSineSquared(length_scale=2, periodicity=22, periodicity_bounds=(20,25)) + WhiteKernel()\n",
    "gp = GaussianProcessRegressor(kernel=kernel, normalize_y=True)\n",
    "gp.fit(x_train, y_train)\n",
    "y_pred, y_std = gp.predict(x_test, return_std=True)\n",
    "y_pred_lo = y_pred.reshape(-1) - y_std\n",
    "y_pred_hi = y_pred.reshape(-1) + y_std\n",
    "\n",
    "print(\"Kernel: {}\".format(gp.kernel_))\n",
    "\n",
    "plt.plot(x, y)\n",
    "plt.plot(x_test, y_pred, color='red')\n",
    "plt.fill_between(x_test.reshape(-1), y_pred_lo, y_pred_hi, alpha=0.3, color='red')\n",
    "plt.xlabel(\"Year\")\n",
    "plt.ylabel(\"Activity index\")\n",
    "plt.title(\"Solar activity\")\n",
    "plt.tight_layout()\n",
    "plt.show()\n",
    "\n",
    "np.sqrt(mean_squared_error(y_test, y_pred))"
   ]
  },
  {
   "cell_type": "code",
   "execution_count": 81,
   "metadata": {},
   "outputs": [
    {
     "name": "stdout",
     "output_type": "stream",
     "text": [
      "Kernel: 0.833**2 * RBF(length_scale=1.75) + 0.767**2 * ExpSineSquared(length_scale=0.809, periodicity=22.1) + WhiteKernel(noise_level=0.0451)\n"
     ]
    },
    {
     "data": {
      "image/png": "[encoded data removed]",
      "text/plain": [
       "<Figure size 432x288 with 1 Axes>"
      ]
     },
     "metadata": {
      "needs_background": "light"
     },
     "output_type": "display_data"
    },
    {
     "data": {
      "text/plain": [
       "0.3484699003287067"
      ]
     },
     "execution_count": 81,
     "metadata": {},
     "output_type": "execute_result"
    }
   ],
   "source": [
    "x_train, x_test, y_train, y_test = train_test_split(x, y, random_state=42)\n",
    "\n",
    "kernel = 1 * RBF() + 1 * ExpSineSquared(periodicity=11) + WhiteKernel()\n",
    "gp = GaussianProcessRegressor(kernel=kernel, normalize_y=True)\n",
    "gp.fit(x_train, y_train)\n",
    "y_pred, y_std = gp.predict(x_test, return_std=True)\n",
    "y_pred_lo = y_pred.reshape(-1) - y_std\n",
    "y_pred_hi = y_pred.reshape(-1) + y_std\n",
    "\n",
    "print(\"Kernel: {}\".format(gp.kernel_))\n",
    "\n",
    "plt.plot(x, y, '-')\n",
    "plt.plot(x_test, y_pred, '*', color='red')\n",
    "plt.xlabel(\"Year\")\n",
    "plt.ylabel(\"Activity index\")\n",
    "plt.title(\"Solar activity\")\n",
    "plt.tight_layout()\n",
    "plt.show()\n",
    "\n",
    "np.sqrt(mean_squared_error(y_test, y_pred))"
   ]
  },
  {
   "cell_type": "markdown",
   "metadata": {},
   "source": [
    "**Задание 1.9**\n",
    "\n",
    "В файле `forestfires.csv` в формате CSV, находятся данные о лесных пожарах в некотором заповеднике.\n",
    "Ваша задача состоит в том, чтобы попробовать построить зависимость мощности пожара (выгоревшей площади `area`), от условной координаты парка (колонки `X` и `Y`).\n",
    "Неплохой идеей кажется использовать для моделирования двумерные гауссовы процессы, т.к. ожидается корреляция между соседними в пространстве областями.\n",
    "\n",
    "Загрузите данные из файла: в вектор `x` колоки `X` и `Y`, в вектор `y` загрузите величину $\\log(\\mathtt{\"area\"} + 1)$\n",
    "\n",
    "Используя класс `sklearn.gaussian_process.GaussianProcessRegressor`, постройте модель. Подберите ядро самостоятельно.\n",
    "\n",
    "*Бонусные баллы* полагаются за наилучшую модель. Эффективность модели измеряется среднеквадратичной ошибкой на тестовой выборке."
   ]
  },
  {
   "cell_type": "code",
   "execution_count": 90,
   "metadata": {},
   "outputs": [
    {
     "name": "stderr",
     "output_type": "stream",
     "text": [
      "/opt/anaconda3/lib/python3.7/site-packages/sklearn/gaussian_process/gpr.py:469: ConvergenceWarning: fmin_l_bfgs_b terminated abnormally with the  state: {'grad': array([17235968.]), 'task': b'ABNORMAL_TERMINATION_IN_LNSRCH', 'funcalls': 55, 'nit': 1, 'warnflag': 2}\n",
      "  ConvergenceWarning)\n"
     ]
    },
    {
     "data": {
      "text/plain": [
       "1.4198586524271803"
      ]
     },
     "execution_count": 90,
     "metadata": {},
     "output_type": "execute_result"
    }
   ],
   "source": [
    "import pandas as pd\n",
    "import matplotlib.pyplot as plt\n",
    "import numpy as np\n",
    "from sklearn.model_selection import train_test_split\n",
    "from sklearn.gaussian_process import GaussianProcessRegressor\n",
    "from sklearn.gaussian_process.kernels import DotProduct, WhiteKernel, ExpSineSquared, RationalQuadratic, Matern, RBF\n",
    "from sklearn.metrics import mean_squared_error\n",
    "\n",
    "data = pd.read_csv('forestfires.csv')\n",
    "x = data[['X','Y']] # фичи\n",
    "y = np.asarray(np.log(data['area'] + 1))\n",
    "\n",
    "x_train, x_test, y_train, y_test = train_test_split(x, y, random_state=42)\n",
    "\n",
    "kernel = DotProduct()\n",
    "\n",
    "model = GaussianProcessRegressor(kernel=kernel).fit(x_train, y_train)\n",
    "y_pred = model.predict(x_test)\n",
    "\n",
    "np.sqrt(mean_squared_error(y_test, y_pred))"
   ]
  },
  {
   "cell_type": "code",
   "execution_count": null,
   "metadata": {},
   "outputs": [],
   "source": []
  },
  {
   "cell_type": "code",
   "execution_count": null,
   "metadata": {},
   "outputs": [],
   "source": []
  }
 ],
 "metadata": {
  "kernelspec": {
   "display_name": "Python 3",
   "language": "python",
   "name": "python3"
  },
  "language_info": {
   "codemirror_mode": {
    "name": "ipython",
    "version": 3
   },
   "file_extension": ".py",
   "mimetype": "text/x-python",
   "name": "python",
   "nbconvert_exporter": "python",
   "pygments_lexer": "ipython3",
   "version": "3.7.6"
  },
  "latex_envs": {
   "LaTeX_envs_menu_present": true,
   "autoclose": false,
   "autocomplete": true,
   "bibliofile": "biblio.bib",
   "cite_by": "apalike",
   "current_citInitial": 1,
   "eqLabelWithNumbers": true,
   "eqNumInitial": 1,
   "hotkeys": {
    "equation": "Ctrl-E",
    "itemize": "Ctrl-I"
   },
   "labels_anchors": false,
   "latex_user_defs": false,
   "report_style_numbering": false,
   "user_envs_cfg": false
  }
 },
 "nbformat": 4,
 "nbformat_minor": 2
}
