{
 "cells": [
  {
   "cell_type": "code",
   "execution_count": 1,
   "metadata": {},
   "outputs": [],
   "source": [
    "import numpy as np\n",
    "import matplotlib\n",
    "import matplotlib.pyplot as plt"
   ]
  },
  {
   "cell_type": "markdown",
   "metadata": {},
   "source": [
    "Воспоминания о загрузке данных\n",
    "-----------------------------------------------------"
   ]
  },
  {
   "cell_type": "code",
   "execution_count": 2,
   "metadata": {},
   "outputs": [
    {
     "name": "stdout",
     "output_type": "stream",
     "text": [
      "[(1., 1.52101, 13.64, 4.49, 1.1 , 71.78, 0.06, 8.75, 0., 0., 1.)\n",
      " (2., 1.51761, 13.89, 3.6 , 1.36, 72.73, 0.48, 7.83, 0., 0., 1.)\n",
      " (3., 1.51618, 13.53, 3.55, 1.54, 72.99, 0.39, 7.78, 0., 0., 1.)\n",
      " (4., 1.51766, 13.21, 3.69, 1.29, 72.61, 0.57, 8.22, 0., 0., 1.)\n",
      " (5., 1.51742, 13.27, 3.62, 1.24, 73.08, 0.55, 8.07, 0., 0., 1.)]\n"
     ]
    }
   ],
   "source": [
    "import numpy as np\n",
    "\n",
    "names = (\"id\", \"n\", \"Na\", \"Mg\", \"Al\", \"Si\", \"K\", \"Ca\", \"Ba\", \"Fe\", \"Type\")\n",
    "data = np.genfromtxt('glass.csv', delimiter=',', names=names)\n",
    "print(data[0:5])"
   ]
  },
  {
   "cell_type": "code",
   "execution_count": 3,
   "metadata": {},
   "outputs": [
    {
     "data": {
      "text/html": [
       "<div>\n",
       "<style scoped>\n",
       "    .dataframe tbody tr th:only-of-type {\n",
       "        vertical-align: middle;\n",
       "    }\n",
       "\n",
       "    .dataframe tbody tr th {\n",
       "        vertical-align: top;\n",
       "    }\n",
       "\n",
       "    .dataframe thead th {\n",
       "        text-align: right;\n",
       "    }\n",
       "</style>\n",
       "<table border=\"1\" class=\"dataframe\">\n",
       "  <thead>\n",
       "    <tr style=\"text-align: right;\">\n",
       "      <th></th>\n",
       "      <th>n</th>\n",
       "      <th>Na</th>\n",
       "      <th>Mg</th>\n",
       "      <th>Al</th>\n",
       "      <th>Si</th>\n",
       "      <th>K</th>\n",
       "      <th>Ca</th>\n",
       "      <th>Ba</th>\n",
       "      <th>Fe</th>\n",
       "      <th>Type</th>\n",
       "    </tr>\n",
       "    <tr>\n",
       "      <th>id</th>\n",
       "      <th></th>\n",
       "      <th></th>\n",
       "      <th></th>\n",
       "      <th></th>\n",
       "      <th></th>\n",
       "      <th></th>\n",
       "      <th></th>\n",
       "      <th></th>\n",
       "      <th></th>\n",
       "      <th></th>\n",
       "    </tr>\n",
       "  </thead>\n",
       "  <tbody>\n",
       "    <tr>\n",
       "      <th>1</th>\n",
       "      <td>1.52101</td>\n",
       "      <td>13.64</td>\n",
       "      <td>4.49</td>\n",
       "      <td>1.10</td>\n",
       "      <td>71.78</td>\n",
       "      <td>0.06</td>\n",
       "      <td>8.75</td>\n",
       "      <td>0.0</td>\n",
       "      <td>0.0</td>\n",
       "      <td>1</td>\n",
       "    </tr>\n",
       "    <tr>\n",
       "      <th>2</th>\n",
       "      <td>1.51761</td>\n",
       "      <td>13.89</td>\n",
       "      <td>3.60</td>\n",
       "      <td>1.36</td>\n",
       "      <td>72.73</td>\n",
       "      <td>0.48</td>\n",
       "      <td>7.83</td>\n",
       "      <td>0.0</td>\n",
       "      <td>0.0</td>\n",
       "      <td>1</td>\n",
       "    </tr>\n",
       "    <tr>\n",
       "      <th>3</th>\n",
       "      <td>1.51618</td>\n",
       "      <td>13.53</td>\n",
       "      <td>3.55</td>\n",
       "      <td>1.54</td>\n",
       "      <td>72.99</td>\n",
       "      <td>0.39</td>\n",
       "      <td>7.78</td>\n",
       "      <td>0.0</td>\n",
       "      <td>0.0</td>\n",
       "      <td>1</td>\n",
       "    </tr>\n",
       "    <tr>\n",
       "      <th>4</th>\n",
       "      <td>1.51766</td>\n",
       "      <td>13.21</td>\n",
       "      <td>3.69</td>\n",
       "      <td>1.29</td>\n",
       "      <td>72.61</td>\n",
       "      <td>0.57</td>\n",
       "      <td>8.22</td>\n",
       "      <td>0.0</td>\n",
       "      <td>0.0</td>\n",
       "      <td>1</td>\n",
       "    </tr>\n",
       "    <tr>\n",
       "      <th>5</th>\n",
       "      <td>1.51742</td>\n",
       "      <td>13.27</td>\n",
       "      <td>3.62</td>\n",
       "      <td>1.24</td>\n",
       "      <td>73.08</td>\n",
       "      <td>0.55</td>\n",
       "      <td>8.07</td>\n",
       "      <td>0.0</td>\n",
       "      <td>0.0</td>\n",
       "      <td>1</td>\n",
       "    </tr>\n",
       "  </tbody>\n",
       "</table>\n",
       "</div>"
      ],
      "text/plain": [
       "          n     Na    Mg    Al     Si     K    Ca   Ba   Fe  Type\n",
       "id                                                               \n",
       "1   1.52101  13.64  4.49  1.10  71.78  0.06  8.75  0.0  0.0     1\n",
       "2   1.51761  13.89  3.60  1.36  72.73  0.48  7.83  0.0  0.0     1\n",
       "3   1.51618  13.53  3.55  1.54  72.99  0.39  7.78  0.0  0.0     1\n",
       "4   1.51766  13.21  3.69  1.29  72.61  0.57  8.22  0.0  0.0     1\n",
       "5   1.51742  13.27  3.62  1.24  73.08  0.55  8.07  0.0  0.0     1"
      ]
     },
     "execution_count": 3,
     "metadata": {},
     "output_type": "execute_result"
    }
   ],
   "source": [
    "import pandas as pd\n",
    "\n",
    "data = pd.read_csv('glass.csv', header=None, names=names, index_col=0)\n",
    "data.head()"
   ]
  },
  {
   "cell_type": "code",
   "execution_count": 4,
   "metadata": {},
   "outputs": [
    {
     "data": {
      "text/html": [
       "<div>\n",
       "<style scoped>\n",
       "    .dataframe tbody tr th:only-of-type {\n",
       "        vertical-align: middle;\n",
       "    }\n",
       "\n",
       "    .dataframe tbody tr th {\n",
       "        vertical-align: top;\n",
       "    }\n",
       "\n",
       "    .dataframe thead th {\n",
       "        text-align: right;\n",
       "    }\n",
       "</style>\n",
       "<table border=\"1\" class=\"dataframe\">\n",
       "  <thead>\n",
       "    <tr style=\"text-align: right;\">\n",
       "      <th></th>\n",
       "      <th>Cement (component 1)(kg in a m^3 mixture)</th>\n",
       "      <th>Blast Furnace Slag (component 2)(kg in a m^3 mixture)</th>\n",
       "      <th>Fly Ash (component 3)(kg in a m^3 mixture)</th>\n",
       "      <th>Water  (component 4)(kg in a m^3 mixture)</th>\n",
       "      <th>Superplasticizer (component 5)(kg in a m^3 mixture)</th>\n",
       "      <th>Coarse Aggregate  (component 6)(kg in a m^3 mixture)</th>\n",
       "      <th>Fine Aggregate (component 7)(kg in a m^3 mixture)</th>\n",
       "      <th>Age (day)</th>\n",
       "      <th>Concrete compressive strength(MPa, megapascals)</th>\n",
       "    </tr>\n",
       "  </thead>\n",
       "  <tbody>\n",
       "    <tr>\n",
       "      <th>0</th>\n",
       "      <td>540.0</td>\n",
       "      <td>0.0</td>\n",
       "      <td>0.0</td>\n",
       "      <td>162.0</td>\n",
       "      <td>2.5</td>\n",
       "      <td>1040.0</td>\n",
       "      <td>676.0</td>\n",
       "      <td>28</td>\n",
       "      <td>79.986111</td>\n",
       "    </tr>\n",
       "    <tr>\n",
       "      <th>1</th>\n",
       "      <td>540.0</td>\n",
       "      <td>0.0</td>\n",
       "      <td>0.0</td>\n",
       "      <td>162.0</td>\n",
       "      <td>2.5</td>\n",
       "      <td>1055.0</td>\n",
       "      <td>676.0</td>\n",
       "      <td>28</td>\n",
       "      <td>61.887366</td>\n",
       "    </tr>\n",
       "    <tr>\n",
       "      <th>2</th>\n",
       "      <td>332.5</td>\n",
       "      <td>142.5</td>\n",
       "      <td>0.0</td>\n",
       "      <td>228.0</td>\n",
       "      <td>0.0</td>\n",
       "      <td>932.0</td>\n",
       "      <td>594.0</td>\n",
       "      <td>270</td>\n",
       "      <td>40.269535</td>\n",
       "    </tr>\n",
       "    <tr>\n",
       "      <th>3</th>\n",
       "      <td>332.5</td>\n",
       "      <td>142.5</td>\n",
       "      <td>0.0</td>\n",
       "      <td>228.0</td>\n",
       "      <td>0.0</td>\n",
       "      <td>932.0</td>\n",
       "      <td>594.0</td>\n",
       "      <td>365</td>\n",
       "      <td>41.052780</td>\n",
       "    </tr>\n",
       "    <tr>\n",
       "      <th>4</th>\n",
       "      <td>198.6</td>\n",
       "      <td>132.4</td>\n",
       "      <td>0.0</td>\n",
       "      <td>192.0</td>\n",
       "      <td>0.0</td>\n",
       "      <td>978.4</td>\n",
       "      <td>825.5</td>\n",
       "      <td>360</td>\n",
       "      <td>44.296075</td>\n",
       "    </tr>\n",
       "  </tbody>\n",
       "</table>\n",
       "</div>"
      ],
      "text/plain": [
       "   Cement (component 1)(kg in a m^3 mixture)  \\\n",
       "0                                      540.0   \n",
       "1                                      540.0   \n",
       "2                                      332.5   \n",
       "3                                      332.5   \n",
       "4                                      198.6   \n",
       "\n",
       "   Blast Furnace Slag (component 2)(kg in a m^3 mixture)  \\\n",
       "0                                                0.0       \n",
       "1                                                0.0       \n",
       "2                                              142.5       \n",
       "3                                              142.5       \n",
       "4                                              132.4       \n",
       "\n",
       "   Fly Ash (component 3)(kg in a m^3 mixture)  \\\n",
       "0                                         0.0   \n",
       "1                                         0.0   \n",
       "2                                         0.0   \n",
       "3                                         0.0   \n",
       "4                                         0.0   \n",
       "\n",
       "   Water  (component 4)(kg in a m^3 mixture)  \\\n",
       "0                                      162.0   \n",
       "1                                      162.0   \n",
       "2                                      228.0   \n",
       "3                                      228.0   \n",
       "4                                      192.0   \n",
       "\n",
       "   Superplasticizer (component 5)(kg in a m^3 mixture)  \\\n",
       "0                                                2.5     \n",
       "1                                                2.5     \n",
       "2                                                0.0     \n",
       "3                                                0.0     \n",
       "4                                                0.0     \n",
       "\n",
       "   Coarse Aggregate  (component 6)(kg in a m^3 mixture)  \\\n",
       "0                                             1040.0      \n",
       "1                                             1055.0      \n",
       "2                                              932.0      \n",
       "3                                              932.0      \n",
       "4                                              978.4      \n",
       "\n",
       "   Fine Aggregate (component 7)(kg in a m^3 mixture)  Age (day)  \\\n",
       "0                                              676.0         28   \n",
       "1                                              676.0         28   \n",
       "2                                              594.0        270   \n",
       "3                                              594.0        365   \n",
       "4                                              825.5        360   \n",
       "\n",
       "   Concrete compressive strength(MPa, megapascals)   \n",
       "0                                         79.986111  \n",
       "1                                         61.887366  \n",
       "2                                         40.269535  \n",
       "3                                         41.052780  \n",
       "4                                         44.296075  "
      ]
     },
     "execution_count": 4,
     "metadata": {},
     "output_type": "execute_result"
    }
   ],
   "source": [
    "import pandas as pd\n",
    "\n",
    "data = pd.read_csv('concrete.csv')\n",
    "data.head()"
   ]
  },
  {
   "cell_type": "markdown",
   "metadata": {},
   "source": [
    "Воспоминания о работе с массивами `numpy`\n",
    "----------------------------------------------------"
   ]
  },
  {
   "cell_type": "code",
   "execution_count": 5,
   "metadata": {},
   "outputs": [],
   "source": [
    "import numpy as np"
   ]
  },
  {
   "cell_type": "code",
   "execution_count": 6,
   "metadata": {},
   "outputs": [
    {
     "name": "stdout",
     "output_type": "stream",
     "text": [
      "[1. 2. 3. 5. 8.]\n",
      "(5,)\n"
     ]
    }
   ],
   "source": [
    "x = np.array([1,2,3,5,8], dtype=np.float32)\n",
    "print(x)\n",
    "print(x.shape)"
   ]
  },
  {
   "cell_type": "code",
   "execution_count": 7,
   "metadata": {},
   "outputs": [
    {
     "name": "stdout",
     "output_type": "stream",
     "text": [
      "[1 2 3 5 8]\n",
      "(5,)\n"
     ]
    }
   ],
   "source": [
    "x = np.array([1,2,3,5,8], dtype=np.int8)\n",
    "print(x)\n",
    "print(x.shape)"
   ]
  },
  {
   "cell_type": "code",
   "execution_count": 8,
   "metadata": {},
   "outputs": [
    {
     "name": "stdout",
     "output_type": "stream",
     "text": [
      "[[ 0. -1.]\n",
      " [ 1.  0.]]\n",
      "(2, 2)\n"
     ]
    }
   ],
   "source": [
    "x = np.array([[0,-1],[1,0]], dtype=np.float32)\n",
    "print(x)\n",
    "print(x.shape)"
   ]
  },
  {
   "cell_type": "code",
   "execution_count": 9,
   "metadata": {},
   "outputs": [
    {
     "name": "stdout",
     "output_type": "stream",
     "text": [
      "[0. 1.]\n",
      "[0. 1.]\n"
     ]
    }
   ],
   "source": [
    "x = np.array([[0,-1],[1,0]], dtype=np.float32)\n",
    "z = np.array([1.0,0], dtype=np.float32)\n",
    "print(x @ z)\n",
    "print(x.dot(z))"
   ]
  },
  {
   "cell_type": "code",
   "execution_count": 10,
   "metadata": {},
   "outputs": [
    {
     "name": "stdout",
     "output_type": "stream",
     "text": [
      "[0 1 2 3 4 5 6 7 8 9]\n"
     ]
    }
   ],
   "source": [
    "x = np.arange(10)\n",
    "print(x)"
   ]
  },
  {
   "cell_type": "code",
   "execution_count": 11,
   "metadata": {},
   "outputs": [
    {
     "name": "stdout",
     "output_type": "stream",
     "text": [
      "[10  9  8  7  6  5  4  3  2  1  0]\n"
     ]
    }
   ],
   "source": [
    "x = np.arange(10, -1, -1)\n",
    "print(x)"
   ]
  },
  {
   "cell_type": "code",
   "execution_count": 12,
   "metadata": {},
   "outputs": [
    {
     "name": "stdout",
     "output_type": "stream",
     "text": [
      "[0.         0.33333333 0.66666667 1.         1.33333333 1.66666667\n",
      " 2.        ]\n"
     ]
    }
   ],
   "source": [
    "x = np.linspace(0, 2, 7)\n",
    "print(x)"
   ]
  },
  {
   "cell_type": "code",
   "execution_count": 13,
   "metadata": {},
   "outputs": [
    {
     "name": "stdout",
     "output_type": "stream",
     "text": [
      "[[0. 0.]\n",
      " [0. 0.]\n",
      " [0. 0.]]\n",
      "\n",
      "[[1. 1.]\n",
      " [1. 1.]\n",
      " [1. 1.]]\n",
      "\n",
      "[[2. 2.]\n",
      " [2. 2.]\n",
      " [2. 2.]]\n",
      "\n",
      "[[2. 2.]\n",
      " [2. 2.]\n",
      " [2. 2.]]\n"
     ]
    }
   ],
   "source": [
    "z = np.zeros((3, 2), dtype=np.float32)\n",
    "print(z)\n",
    "print()\n",
    "\n",
    "o = np.ones((3, 2), dtype=np.float32)\n",
    "print(o)\n",
    "print()\n",
    "\n",
    "t = np.full(z.shape, 2, dtype=np.float32)\n",
    "print(t)\n",
    "print()\n",
    "\n",
    "t = np.full_like(z, 2, dtype=np.float32)\n",
    "print(t)"
   ]
  },
  {
   "cell_type": "markdown",
   "metadata": {},
   "source": [
    "### Размерности массива"
   ]
  },
  {
   "cell_type": "code",
   "execution_count": 14,
   "metadata": {},
   "outputs": [
    {
     "name": "stdout",
     "output_type": "stream",
     "text": [
      "[ 0  1  2  3  4  5  6  7  8  9 10 11 12 13 14 15 16 17 18 19 20 21 22 23]\n",
      "(24,)\n",
      "\n",
      "[[ 0  1  2  3  4  5]\n",
      " [ 6  7  8  9 10 11]\n",
      " [12 13 14 15 16 17]\n",
      " [18 19 20 21 22 23]]\n",
      "(4, 6)\n",
      "\n",
      "[[[ 0  1  2  3]\n",
      "  [ 4  5  6  7]\n",
      "  [ 8  9 10 11]]\n",
      "\n",
      " [[12 13 14 15]\n",
      "  [16 17 18 19]\n",
      "  [20 21 22 23]]]\n",
      "(2, 3, 4)\n",
      "\n"
     ]
    }
   ],
   "source": [
    "x = np.arange(24)\n",
    "print(x)\n",
    "print(x.shape)\n",
    "print()\n",
    "\n",
    "x = x.reshape(4,6)\n",
    "print(x)\n",
    "print(x.shape)\n",
    "print()\n",
    "\n",
    "x = x.reshape(2,3,4)\n",
    "print(x)\n",
    "print(x.shape)\n",
    "print()"
   ]
  },
  {
   "cell_type": "code",
   "execution_count": 15,
   "metadata": {},
   "outputs": [
    {
     "name": "stdout",
     "output_type": "stream",
     "text": [
      "[0 1 2 3 4]\n",
      "(5,)\n",
      "\n",
      "[[0]\n",
      " [1]\n",
      " [2]\n",
      " [3]\n",
      " [4]]\n",
      "(5, 1)\n",
      "\n",
      "[[0 1 2 3 4]]\n",
      "(1, 5)\n",
      "\n"
     ]
    }
   ],
   "source": [
    "x = np.arange(5)\n",
    "print(x)\n",
    "print(x.shape)\n",
    "print()\n",
    "\n",
    "x = x.reshape(5,1)\n",
    "print(x)\n",
    "print(x.shape)\n",
    "print()\n",
    "\n",
    "x = x.reshape(1,5)\n",
    "print(x)\n",
    "print(x.shape)\n",
    "print()"
   ]
  },
  {
   "cell_type": "code",
   "execution_count": 16,
   "metadata": {},
   "outputs": [
    {
     "name": "stdout",
     "output_type": "stream",
     "text": [
      "[0 1 2 3 4 5 6 7 8 9]\n",
      "(10,)\n",
      "\n",
      "[[0]\n",
      " [1]\n",
      " [2]\n",
      " [3]\n",
      " [4]\n",
      " [5]\n",
      " [6]\n",
      " [7]\n",
      " [8]\n",
      " [9]]\n",
      "(10, 1)\n",
      "\n",
      "[[0 1]\n",
      " [2 3]\n",
      " [4 5]\n",
      " [6 7]\n",
      " [8 9]]\n",
      "(5, 2)\n",
      "\n"
     ]
    }
   ],
   "source": [
    "x = np.arange(10)\n",
    "print(x)\n",
    "print(x.shape)\n",
    "print()\n",
    "\n",
    "x = x.reshape(-1,1)\n",
    "print(x)\n",
    "print(x.shape)\n",
    "print()\n",
    "\n",
    "x = x.reshape(-1,2)\n",
    "print(x)\n",
    "print(x.shape)\n",
    "print()"
   ]
  },
  {
   "cell_type": "code",
   "execution_count": 17,
   "metadata": {},
   "outputs": [
    {
     "name": "stdout",
     "output_type": "stream",
     "text": [
      "[[1 2 3]\n",
      " [3 4 5]]\n",
      "[-1  0  2]\n",
      "\n",
      "[[-1  0  6]\n",
      " [-3  0 10]]\n",
      "\n",
      "[[1]\n",
      " [2]\n",
      " [3]]\n",
      "[-1  0  2]\n",
      "\n",
      "[[-1  0  2]\n",
      " [-2  0  4]\n",
      " [-3  0  6]]\n",
      "(3, 3)\n"
     ]
    }
   ],
   "source": [
    "x = np.array([[1,2,3],[3,4,5]])\n",
    "z = np.array([-1,0,2])\n",
    "print(x)\n",
    "print(z)\n",
    "print()\n",
    "print(x * z)\n",
    "print()\n",
    "\n",
    "x = np.array([[1],[2],[3]])\n",
    "print(x)\n",
    "print(z)\n",
    "print()\n",
    "print(x * z)\n",
    "\n",
    "print(np.broadcast(x, z).shape)"
   ]
  },
  {
   "cell_type": "markdown",
   "metadata": {},
   "source": [
    "### Срезы"
   ]
  },
  {
   "cell_type": "code",
   "execution_count": 18,
   "metadata": {},
   "outputs": [
    {
     "name": "stdout",
     "output_type": "stream",
     "text": [
      "[ 0  1  2  3  4  5  6  7  8  9 10 11 12 13 14 15]\n",
      "\n",
      "1.  x[1]        = 1\n",
      "2.  x[-2]       = 14\n",
      "3.  x[2:9]      = [2 3 4 5 6 7 8]\n",
      "4.  x[:9]       = [0 1 2 3 4 5 6 7 8]\n",
      "5.  x[2:]       = [ 2  3  4  5  6  7  8  9 10 11 12 13 14 15]\n",
      "6.  x[:]        = [ 0  1  2  3  4  5  6  7  8  9 10 11 12 13 14 15]\n",
      "7.  x[2:9:3]    = [2 5 8]\n",
      "8.  x[9:2:-1]   = [9 8 7 6 5 4 3]\n",
      "9.  x[::-1]     = [15 14 13 12 11 10  9  8  7  6  5  4  3  2  1  0]\n",
      "10. x[:-1]      = [ 0  1  2  3  4  5  6  7  8  9 10 11 12 13 14]\n",
      "11. x[-9:-2]    = [ 7  8  9 10 11 12 13]\n",
      "12. x[-9:-2:2]  = [ 7  9 11 13]\n",
      "13. x[-2:-9:-1] = [14 13 12 11 10  9  8]\n",
      "14. x[-2:-9:-2] = [14 12 10  8]\n"
     ]
    }
   ],
   "source": [
    "#x = np.linspace(0, 48, 16)\n",
    "x = np.arange(16)\n",
    "print(x)\n",
    "print()\n",
    "print(\"1.  x[1]        = {}\".format(x[1]))\n",
    "print(\"2.  x[-2]       = {}\".format(x[-2]))\n",
    "print(\"3.  x[2:9]      = {}\".format(x[2:9]))\n",
    "print(\"4.  x[:9]       = {}\".format(x[:9]))\n",
    "print(\"5.  x[2:]       = {}\".format(x[2:]))\n",
    "print(\"6.  x[:]        = {}\".format(x[:]))\n",
    "print(\"7.  x[2:9:3]    = {}\".format(x[2:9:3]))\n",
    "print(\"8.  x[9:2:-1]   = {}\".format(x[9:2:-1]))\n",
    "print(\"9.  x[::-1]     = {}\".format(x[::-1]))\n",
    "print(\"10. x[:-1]      = {}\".format(x[:-1]))\n",
    "print(\"11. x[-9:-2]    = {}\".format(x[-9:-2]))\n",
    "print(\"12. x[-9:-2:2]  = {}\".format(x[-9:-2:2]))\n",
    "print(\"13. x[-2:-9:-1] = {}\".format(x[-2:-9:-1]))\n",
    "print(\"14. x[-2:-9:-2] = {}\".format(x[-2:-9:-2]))"
   ]
  },
  {
   "cell_type": "code",
   "execution_count": 19,
   "metadata": {},
   "outputs": [
    {
     "name": "stdout",
     "output_type": "stream",
     "text": [
      "[[[ 0  1  2  3]\n",
      "  [ 4  5  6  7]\n",
      "  [ 8  9 10 11]]\n",
      "\n",
      " [[12 13 14 15]\n",
      "  [16 17 18 19]\n",
      "  [20 21 22 23]]]\n",
      "\n",
      "1. x[1] =\n",
      "[[12 13 14 15]\n",
      " [16 17 18 19]\n",
      " [20 21 22 23]]\n",
      "2. x[1,:,:] =\n",
      "[[12 13 14 15]\n",
      " [16 17 18 19]\n",
      " [20 21 22 23]]\n",
      "3. x[:,1,:] =\n",
      "[[ 4  5  6  7]\n",
      " [16 17 18 19]]\n",
      "4. x[:,1] =\n",
      "[[ 4  5  6  7]\n",
      " [16 17 18 19]]\n",
      "5. x[:,:,1] =\n",
      "[[ 1  5  9]\n",
      " [13 17 21]]\n",
      "6. x[:,:2,:] =\n",
      "[[[ 0  1  2  3]\n",
      "  [ 4  5  6  7]]\n",
      "\n",
      " [[12 13 14 15]\n",
      "  [16 17 18 19]]]\n",
      "7. x[:,:,::-1] =\n",
      "[[[ 3  2  1  0]\n",
      "  [ 7  6  5  4]\n",
      "  [11 10  9  8]]\n",
      "\n",
      " [[15 14 13 12]\n",
      "  [19 18 17 16]\n",
      "  [23 22 21 20]]]\n"
     ]
    }
   ],
   "source": [
    "x = np.arange(24)\n",
    "x = x.reshape(2,3,4)\n",
    "print(x)\n",
    "print()\n",
    "print(\"1. x[1] =\\n{}\".format(x[1]))\n",
    "print(\"2. x[1,:,:] =\\n{}\".format(x[1,:,:]))\n",
    "print(\"3. x[:,1,:] =\\n{}\".format(x[:,1,:]))\n",
    "print(\"4. x[:,1] =\\n{}\".format(x[:,1]))\n",
    "print(\"5. x[:,:,1] =\\n{}\".format(x[:,:,1]))\n",
    "print(\"6. x[:,:2,:] =\\n{}\".format(x[:,:2,:]))\n",
    "print(\"7. x[:,:,::-1] =\\n{}\".format(x[:,:,::-1]))"
   ]
  },
  {
   "cell_type": "markdown",
   "metadata": {},
   "source": [
    "Воспоминания о работе со случайными числами\n",
    "-------------------------------------------"
   ]
  },
  {
   "cell_type": "code",
   "execution_count": 20,
   "metadata": {},
   "outputs": [],
   "source": [
    "import numpy as np\n",
    "import numpy.random"
   ]
  },
  {
   "cell_type": "code",
   "execution_count": 21,
   "metadata": {},
   "outputs": [
    {
     "name": "stdout",
     "output_type": "stream",
     "text": [
      "(1000,)\n",
      "2.0193320558223253\n",
      "0.9579049897315172\n",
      "\n",
      "(1000, 2, 2)\n",
      "[[0.03976888 1.0091213 ]\n",
      " [1.95487634 3.00491107]]\n",
      "[[0.94479163 1.03251929]\n",
      " [1.00180757 1.02290195]]\n",
      "\n"
     ]
    },
    {
     "data": {
      "image/png": "[encoded data removed]",
      "text/plain": [
       "<Figure size 432x288 with 1 Axes>"
      ]
     },
     "metadata": {
      "needs_background": "light"
     },
     "output_type": "display_data"
    }
   ],
   "source": [
    "numpy.random.seed(42)\n",
    "\n",
    "x = numpy.random.normal(2.0, 1.0, 1000)\n",
    "print(x.shape)\n",
    "print(np.mean(x))\n",
    "print(np.var(x))\n",
    "print()\n",
    "\n",
    "x = numpy.random.normal(np.arange(4).reshape(2,2), 1.0, (1000,2,2))\n",
    "print(x.shape)\n",
    "print(np.mean(x, axis=0))\n",
    "print(np.var(x, axis=0))\n",
    "print()\n",
    "\n",
    "x = numpy.random.normal(3.0, 1.0, 10000)\n",
    "_ = plt.hist(x,25)"
   ]
  },
  {
   "cell_type": "code",
   "execution_count": 22,
   "metadata": {},
   "outputs": [
    {
     "name": "stdout",
     "output_type": "stream",
     "text": [
      "6.0041\n",
      "6.08188319\n"
     ]
    }
   ],
   "source": [
    "np.random.seed(42)\n",
    "\n",
    "x = np.random.poisson(6.0, 10000)\n",
    "print(np.mean(x))\n",
    "print(np.var(x))"
   ]
  },
  {
   "cell_type": "markdown",
   "metadata": {},
   "source": [
    "Метод наименьших квадратов\n",
    "=========================="
   ]
  },
  {
   "cell_type": "markdown",
   "metadata": {},
   "source": [
    "**Задание 1.1**\n",
    "\n",
    "Дан вектор `x` с равномерной сеткой значений от `0.0` до `10.0`, а так же константы `a` и `b`. В вектор `y` запишите реализацию случайного вектора удовлетворяющего следующему соотношению:\n",
    "\n",
    "$$y_i = a  x_i + b + \\epsilon_i,$$\n",
    "\n",
    "где $\\epsilon_i$ - независимые нормальные случайные величины с нулевым средним и стандартным отклонением $\\sigma=2$.\n",
    "\n",
    "Постройте график зависимости $y_i$ от $x_i$."
   ]
  },
  {
   "cell_type": "code",
   "execution_count": 23,
   "metadata": {},
   "outputs": [
    {
     "data": {
      "text/plain": [
       "<matplotlib.collections.PathCollection at 0x2392a2ce108>"
      ]
     },
     "execution_count": 23,
     "metadata": {},
     "output_type": "execute_result"
    },
    {
     "data": {
      "image/png": "[encoded data removed]",
      "text/plain": [
       "<Figure size 432x288 with 1 Axes>"
      ]
     },
     "metadata": {
      "needs_background": "light"
     },
     "output_type": "display_data"
    }
   ],
   "source": [
    "np.random.seed(42)\n",
    "\n",
    "x = np.linspace(0, 10, 50)\n",
    "a, b = 2.5, 5.25\n",
    "epsilon = np.random.normal(0, 2, x.shape)\n",
    "y = a * x + b + epsilon ## формулу записать сюда\n",
    "\n",
    "plt.scatter(x,y)\n",
    "# зависимость линейная, шум действительно есть"
   ]
  },
  {
   "cell_type": "markdown",
   "metadata": {},
   "source": [
    "**Задание 1.2**\n",
    "\n",
    "Используя вектора `x` и `y` из предыдущего задания и формулы метода наименьших квадратов из лекций, найдите оценки констант `a` и `b` для линейной модели.\n",
    "\n",
    "$$ A\\theta = \\bf{y} + \\epsilon$$\n",
    "\n",
    "$$ ||A\\theta - \\bf{y}||^{2} $$\n",
    "\n",
    "Для этого используйте матричный формализм и векторные операции. Вычислите чему равна матрица задачи `A`. Для решения системы линейных алгебраических уравнений\n",
    "\n",
    "$$(A^T A)\\theta = A^T {\\bf y}$$\n",
    "\n",
    "используйте метод `np.linalg.solve`.\n",
    "Вычислите квадрат нормы вектора невязки используя метод `np.linalg.norm`. С его помощью вычислите ковариационную матрицу вектора параметров $\\theta$:\n",
    "\n",
    "$$\\Sigma = \\frac{(A^T A)^{-1} \\left|\\left|{\\bf y} - A{\\bf x}\\right|\\right|^2}{n -m},$$\n",
    "\n",
    "где $n$ - количество измерений, $m$ - количество параметров модели. Для обращения матрицы можно использовать метод `np.linalg.inv`.\n",
    "\n",
    "Нанесите на график данные и модельную прямую линию."
   ]
  },
  {
   "cell_type": "code",
   "execution_count": 24,
   "metadata": {},
   "outputs": [
    {
     "name": "stdout",
     "output_type": "stream",
     "text": [
      "(50,)\n",
      "[2.3840332  5.37888618]\n",
      "165.02835902223157\n",
      "a = 2.3840332010163556 +- 0.08903837899142666\n",
      "b = 5.378886184405941 +- 0.5166794360092014\n"
     ]
    },
    {
     "data": {
      "image/png": "[encoded data removed]",
      "text/plain": [
       "<Figure size 432x288 with 1 Axes>"
      ]
     },
     "metadata": {
      "needs_background": "light"
     },
     "output_type": "display_data"
    }
   ],
   "source": [
    "import numpy.linalg\n",
    "\n",
    "print(x.shape)\n",
    "\n",
    "A = np.vstack([x, np.ones_like(x)]).T # матрица задачи\n",
    "#print(np.hstack([A, y.reshape(-1, 1)]))\n",
    "\n",
    "theta = theta = np.linalg.solve(A.T @ A, A.T @ y) # оценка векторов параметров\n",
    "print(theta)\n",
    "\n",
    "r = y - A @ theta\n",
    "\n",
    "res = np.linalg.norm(y - A @ theta)**2 # квадрат нормы вектора невязки\n",
    "print(res)\n",
    "\n",
    "theta_err = np.linalg.inv(A.T @ A) * res / (x.shape[0] - theta.shape[0]) # ковариационная матрица\n",
    "predicted = A @ theta# модельные значения y для сетки x\n",
    "plt.scatter(x,y)\n",
    "plt.plot(x, predicted, color='red')\n",
    "print(\"a = {} +- {}\".format(theta[0], np.sqrt(theta_err[0,0])))\n",
    "print(\"b = {} +- {}\".format(theta[1], np.sqrt(theta_err[1,1])))"
   ]
  },
  {
   "cell_type": "code",
   "execution_count": 25,
   "metadata": {},
   "outputs": [
    {
     "name": "stdout",
     "output_type": "stream",
     "text": [
      "[2.3840332  5.37888618]\n"
     ]
    }
   ],
   "source": [
    "theta, res, _, _ = numpy.linalg.lstsq(A, y, rcond=None)\n",
    "print(theta)"
   ]
  },
  {
   "cell_type": "code",
   "execution_count": 26,
   "metadata": {},
   "outputs": [
    {
     "name": "stdout",
     "output_type": "stream",
     "text": [
      "[2.3840332  5.37888618]\n"
     ]
    }
   ],
   "source": [
    "import scipy\n",
    "import scipy.linalg\n",
    "\n",
    "theta, res, _, _ = scipy.linalg.lstsq(A, y)\n",
    "print(theta)"
   ]
  },
  {
   "cell_type": "code",
   "execution_count": 27,
   "metadata": {},
   "outputs": [
    {
     "name": "stdout",
     "output_type": "stream",
     "text": [
      "[[2.3840332  5.37888618]]\n"
     ]
    },
    {
     "data": {
      "image/png": "[encoded data removed]",
      "text/plain": [
       "<Figure size 432x288 with 1 Axes>"
      ]
     },
     "metadata": {
      "needs_background": "light"
     },
     "output_type": "display_data"
    }
   ],
   "source": [
    "import sklearn\n",
    "import sklearn.linear_model\n",
    "\n",
    "r = sklearn.linear_model.LinearRegression()\n",
    "r.fit(x.reshape(-1,1), y.reshape(-1,1))\n",
    "predicted = r.predict(x.reshape(-1,1))\n",
    "plt.scatter(x,y)\n",
    "plt.plot(x, predicted, color='red')\n",
    "print(np.hstack([r.coef_,[r.intercept_,]]))"
   ]
  },
  {
   "cell_type": "code",
   "execution_count": 28,
   "metadata": {},
   "outputs": [
    {
     "name": "stdout",
     "output_type": "stream",
     "text": [
      "                            OLS Regression Results                            \n",
      "==============================================================================\n",
      "Dep. Variable:                      y   R-squared:                       0.937\n",
      "Model:                            OLS   Adj. R-squared:                  0.936\n",
      "Method:                 Least Squares   F-statistic:                     716.9\n",
      "Date:                Tue, 28 Apr 2020   Prob (F-statistic):           1.64e-30\n",
      "Time:                        13:18:19   Log-Likelihood:                -100.80\n",
      "No. Observations:                  50   AIC:                             205.6\n",
      "Df Residuals:                      48   BIC:                             209.4\n",
      "Df Model:                           1                                         \n",
      "Covariance Type:            nonrobust                                         \n",
      "==============================================================================\n",
      "                 coef    std err          t      P>|t|      [0.025      0.975]\n",
      "------------------------------------------------------------------------------\n",
      "const          5.3789      0.517     10.410      0.000       4.340       6.418\n",
      "x1             2.3840      0.089     26.775      0.000       2.205       2.563\n",
      "==============================================================================\n",
      "Omnibus:                        0.453   Durbin-Watson:                   1.942\n",
      "Prob(Omnibus):                  0.798   Jarque-Bera (JB):                0.608\n",
      "Skew:                           0.156   Prob(JB):                        0.738\n",
      "Kurtosis:                       2.559   Cond. No.                         11.7\n",
      "==============================================================================\n",
      "\n",
      "Warnings:\n",
      "[1] Standard Errors assume that the covariance matrix of the errors is correctly specified.\n"
     ]
    }
   ],
   "source": [
    "import statsmodels.api as sm\n",
    "\n",
    "mod = sm.OLS(y, sm.add_constant(x))\n",
    "res = mod.fit()\n",
    "print(res.summary())"
   ]
  },
  {
   "cell_type": "markdown",
   "metadata": {},
   "source": [
    "**Задание 1.3**\n",
    "\n",
    "В файле `glass.csv` хранится таблица в формате CSV, содержащая данные о химическом составе и показателе преломления $n$ нескольких марок стекла. Используя `pandas`, или любой удобный вам способ, загрузите эти данные и сформируйте массив `x` с \"фичами\" (содержанием каждого из девяти химических элементов в каждой марке стекла) и массив `y` содержащий значение показателя преломления $n$.\n",
    "\n",
    "За отстутсвием луших идей будем считать, что для описания зависимости $n$ от химического состава можно использовать линейную модель. С использованием метода `sklearn.model_selection.train_test_split` раделите данные на учебную и тестовую выборки. Используя класс `sklearn.linear_model.LinearRegression` постройте линейную модель для описания зависимости.\n",
    "Подсчитайте среднеквадратичное отклонение модели для тестовой выборки и распечатайте его.\n",
    "Постройте график зависимости истинного значения $n$ от предсказанного модельню значения $n$ для тестовой выборки."
   ]
  },
  {
   "cell_type": "code",
   "execution_count": 29,
   "metadata": {
    "scrolled": true
   },
   "outputs": [
    {
     "data": {
      "image/png": "[encoded data removed]",
      "text/plain": [
       "<Figure size 432x288 with 1 Axes>"
      ]
     },
     "metadata": {
      "needs_background": "light"
     },
     "output_type": "display_data"
    }
   ],
   "source": [
    "import pandas as pd\n",
    "from sklearn.model_selection import train_test_split\n",
    "from sklearn.metrics import mean_squared_error\n",
    "from sklearn.linear_model import LinearRegression\n",
    "\n",
    "names = (\"id\", \"n\", \"Na\", \"Mg\", \"Al\", \"Si\", \"K\", \"Ca\", \"Ba\", \"Fe\", \"Type\")\n",
    "data = pd.read_csv('glass.csv', header=None, names=names, index_col=0)\n",
    "\n",
    "x = data.drop(['n','Type'],axis=1) # фичи\n",
    "y = data.n # показатель преломления\n",
    "\n",
    "x_train, x_test, y_train, y_test = train_test_split(x, y, random_state=42)\n",
    "\n",
    "reg = sklearn.linear_model.LinearRegression().fit(x_train,y_train)\n",
    "\n",
    "\n",
    "mse_test = np.sqrt(reg.score(x_test, y_test)) # квадратный корень из среднего квадрата ошибки модели на тестовой выборке\n",
    "\n",
    "y_test_pred = reg.predict(x_test)\n",
    "\n",
    "plt.scatter(y_test, y_test_pred)\n",
    "plt.xlabel(\"True\")\n",
    "plt.ylabel(\"Predicted\")\n",
    "_ = plt.axis('equal')"
   ]
  },
  {
   "cell_type": "markdown",
   "metadata": {},
   "source": [
    "### Представление о плохо обусловленных и некорректных задачах"
   ]
  },
  {
   "cell_type": "markdown",
   "metadata": {},
   "source": [
    "$$\\alpha x^2 + \\beta y^2 = 1$$"
   ]
  },
  {
   "cell_type": "code",
   "execution_count": 30,
   "metadata": {},
   "outputs": [],
   "source": [
    "from matplotlib.patches import Ellipse\n",
    "\n",
    "def fit_ellipse(x, plot = False):\n",
    "    X = x**2\n",
    "    cond = numpy.linalg.cond(X)\n",
    "    \n",
    "    r = sklearn.linear_model.LinearRegression(fit_intercept=False)\n",
    "    r.fit(X, np.ones((x.shape[0],1)))\n",
    "    \n",
    "    theta = np.asarray(r.coef_).reshape(-1)\n",
    "    width, height = 2 * numpy.power(theta, np.full_like(theta, -0.5), out=np.full_like(theta, np.nan), where=theta>0)\n",
    "    \n",
    "    if plot:\n",
    "        ellipse = Ellipse((0, 0), width=width, height=height, fill=False, edgecolor='red')\n",
    "        plt.scatter(*x.T)\n",
    "        plt.xlim(-2.5,2.5)\n",
    "        plt.ylim(-2.5,2.5)\n",
    "        plt.axis('equal')\n",
    "        ax = plt.gca()\n",
    "        ax.add_patch(ellipse)\n",
    "    \n",
    "    return width, height, cond\n",
    "\n",
    "def generate_ellipse(phi, width, height, size):\n",
    "    x = np.vstack([width / 2 * np.cos(phi), height / 2 * np.sin(phi)]).T\n",
    "    X = x + np.random.normal(0.0, 0.0125, (size,*x.shape))\n",
    "    return X\n",
    "    "
   ]
  },
  {
   "cell_type": "code",
   "execution_count": 31,
   "metadata": {},
   "outputs": [
    {
     "name": "stdout",
     "output_type": "stream",
     "text": [
      "[ 2.00105166  4.12506507 32.37966284]\n",
      "[0.01947085 3.94398107 2.74275001]\n"
     ]
    },
    {
     "data": {
      "image/png": "[encoded data removed]",
      "text/plain": [
       "<Figure size 432x288 with 1 Axes>"
      ]
     },
     "metadata": {
      "needs_background": "light"
     },
     "output_type": "display_data"
    }
   ],
   "source": [
    "numpy.random.seed(42)\n",
    "\n",
    "width = 2.0\n",
    "height = 4.0\n",
    "\n",
    "lim = 7.5 / 180.0 * np.pi\n",
    "phi = np.linspace(-lim,lim,4)\n",
    "X = generate_ellipse(phi, width, height, 1000)\n",
    "\n",
    "fit_ellipse(X[1], True)\n",
    "fit_ellipse(X[3], True)\n",
    "\n",
    "r = np.array([fit_ellipse(X[i]) for i in range(X.shape[0])])\n",
    "print(np.nanmean(r, axis=0))\n",
    "print(np.nanstd(r, axis=0))"
   ]
  },
  {
   "cell_type": "code",
   "execution_count": 33,
   "metadata": {},
   "outputs": [
    {
     "name": "stdout",
     "output_type": "stream",
     "text": [
      "[2.00082886 3.99967399 2.00889019]\n",
      "[0.01246448 0.02431127 0.03481137]\n"
     ]
    },
    {
     "data": {
      "image/png": "[encoded data removed]",
      "text/plain": [
       "<Figure size 432x288 with 1 Axes>"
      ]
     },
     "metadata": {
      "needs_background": "light"
     },
     "output_type": "display_data"
    }
   ],
   "source": [
    "lim = 7.5 / 180.0 * np.pi\n",
    "phi = np.linspace(-lim,lim,4)\n",
    "phi = np.concatenate([phi, [1.5,]])\n",
    "X = generate_ellipse(phi, width, height, 1000)\n",
    "\n",
    "fit_ellipse(X[1], True)\n",
    "fit_ellipse(X[3], True)\n",
    "\n",
    "r = np.array([fit_ellipse(X[i]) for i in range(X.shape[0])])\n",
    "print(np.nanmean(r, axis=0))\n",
    "print(np.nanstd(r, axis=0))"
   ]
  },
  {
   "cell_type": "markdown",
   "metadata": {},
   "source": [
    "### Представление о регуляризации"
   ]
  },
  {
   "cell_type": "markdown",
   "metadata": {},
   "source": [
    "Пусть нам кто-то сказал, что искомый эллипс очень похож на единичный круг:\n",
    "\n",
    "$$\\Delta \\alpha x^2 + \\Delta \\beta y^2 = 1 - x^2 - y^2,$$\n",
    "\n",
    "тогда $\\Delta \\alpha^2 + \\Delta \\beta^2 \\rightarrow 0$."
   ]
  },
  {
   "cell_type": "code",
   "execution_count": 34,
   "metadata": {},
   "outputs": [],
   "source": [
    "def fit_ellipse2(x, alpha, plot = False):\n",
    "    X = x**2\n",
    "    cond = numpy.linalg.cond(X)\n",
    "    y = (1.0 - np.sum(x**2, axis=1)).reshape(-1)\n",
    "\n",
    "    r = sklearn.linear_model.Ridge(fit_intercept=False, alpha=alpha)\n",
    "    r.fit(X, y)\n",
    "    \n",
    "    theta = np.asarray(r.coef_).reshape(-1)\n",
    "    width, height = 2 * numpy.power(theta + 1.0, np.full_like(theta, -0.5), out=np.full_like(theta, np.nan), where=theta>-1.0)\n",
    "    \n",
    "    if plot:\n",
    "        ellipse = Ellipse((0, 0), width=width, height=height, fill=False, edgecolor='red')\n",
    "        plt.scatter(*x.T)\n",
    "        plt.xlim(-2.5,2.5)\n",
    "        plt.ylim(-2.5,2.5)\n",
    "        plt.axis('equal')\n",
    "        ax = plt.gca()\n",
    "        ax.add_patch(ellipse)\n",
    "    \n",
    "    return width, height, cond"
   ]
  },
  {
   "cell_type": "code",
   "execution_count": 35,
   "metadata": {},
   "outputs": [
    {
     "name": "stdout",
     "output_type": "stream",
     "text": [
      "alpha = 1e-06\n",
      "[ 2.00032904  4.14215371 32.42549125]\n",
      "[0.02025928 4.12567889 2.74791461]\n",
      "\n",
      "alpha = 1e-05\n",
      "[ 2.00039785  4.34747594 32.42549125]\n",
      "[0.02023013 6.23283372 2.74791461]\n",
      "\n",
      "alpha = 0.0001\n",
      "[ 2.00106793  4.48015206 32.42549125]\n",
      "[0.01994853 7.40607057 2.74791461]\n",
      "\n",
      "alpha = 0.001\n",
      "[ 2.00635772  4.09230495 32.42549125]\n",
      "[0.01787472 9.70788282 2.74791461]\n",
      "\n",
      "alpha = 0.01\n",
      "[ 2.02120505  2.25628326 32.42549125]\n",
      "[0.01389298 0.15918853 2.74791461]\n",
      "\n",
      "alpha = 0.1\n",
      "[ 2.02754436  2.02870463 32.42549125]\n",
      "[0.01316709 0.01513172 2.74791461]\n",
      "\n",
      "alpha = 1.0\n",
      "[ 2.02322891  2.00366458 32.42549125]\n",
      "[1.08153285e-02 1.59884078e-03 2.74791461e+00]\n",
      "\n",
      "alpha = 10.0\n",
      "[ 2.00818708  2.00058998 32.42549125]\n",
      "[3.85498413e-03 2.21779940e-04 2.74791461e+00]\n",
      "\n",
      "alpha = 100.0\n",
      "[ 2.00109386  2.00006968 32.42549125]\n",
      "[5.18376084e-04 2.63229035e-05 2.74791461e+00]\n",
      "\n",
      "alpha = 1000.0\n",
      "[ 2.00011319  2.00000712 32.42549125]\n",
      "[5.36881113e-05 2.69386042e-06 2.74791461e+00]\n",
      "\n"
     ]
    }
   ],
   "source": [
    "lim = 7.5 / 180.0 * np.pi\n",
    "phi = np.linspace(-lim,lim,4)\n",
    "X = generate_ellipse(phi, width, height, 1000)\n",
    "alpha = np.geomspace(1e-6, 1e+3, 10)\n",
    "\n",
    "for x in alpha:\n",
    "    r = np.array([fit_ellipse2(X[i], x) for i in range(X.shape[0])])\n",
    "    print(\"alpha = {}\".format(x))\n",
    "    print(np.nanmean(r, axis=0))\n",
    "    print(np.nanstd(r, axis=0))\n",
    "    print()"
   ]
  },
  {
   "cell_type": "markdown",
   "metadata": {},
   "source": [
    "**Задание 1.4** Логистическая регрессия.\n",
    "\n",
    "В файле `magic04.csv` в формате `CSV` хранятся предварительно обработанные измерения эксперимента по ловле космического излучения в земной атмосфере с помощью излучения Черенкова. Используя `pandas`, или любой удобный вам способ, загрузите эти данные и сформируйте массив `x` с \"фичами\" (все которые найдутся в файле: это характеристики изображений, оставляемых отдельными событиями, на панорамном приемнике, такие как его размер, эллиптичность, и прочее...), и массив `y`, содержащий текстовый признак частицы: `\"g\"` - гамма квант, `\"h\"` - адрон.\n",
    "\n",
    "Используя класс `sklearn.linear_model.LogisticRegression` постройте классификатор типа частицы по изображению с детектора.\n",
    "\n",
    "С помощью обученной модели проделайте следующее:\n",
    "* с помощью метода `sklearn.metrics.confusion_matrix` постройте матрицу ошибок (confusion matrix),\n",
    "* рассчитайте AUC и постройте график ROC. вам помогут методы `sklearn.metrics.roc_curve`, `sklearn.metrics.roc_auc_score`, и метод `decision_function` объекта модели."
   ]
  },
  {
   "cell_type": "code",
   "execution_count": 39,
   "metadata": {},
   "outputs": [
    {
     "name": "stdout",
     "output_type": "stream",
     "text": [
      "             width    size    conc   conc1      asym   m3long  m3trans  \\\n",
      "length                                                                   \n",
      "28.7967    16.0021  2.6449  0.3918  0.1982   27.7004  22.0110  -8.2027   \n",
      "31.6036    11.7235  2.5185  0.5303  0.3773   26.2722  23.8238  -9.9574   \n",
      "162.0520  136.0310  4.0612  0.0374  0.0187  116.7410 -64.8580 -45.2160   \n",
      "23.8172     9.5728  2.3385  0.6147  0.3922   27.2107  -6.4633  -7.1513   \n",
      "75.1362    30.9205  3.1611  0.3168  0.1832   -5.5277  28.5525  21.8393   \n",
      "\n",
      "            alpha      dist class  \n",
      "length                             \n",
      "28.7967   40.0920   81.8828     g  \n",
      "31.6036    6.3609  205.2610     g  \n",
      "162.0520  76.9600  256.7880     g  \n",
      "23.8172   10.4490  116.7370     g  \n",
      "75.1362    4.6480  356.4620     g  \n",
      "[[0.19768665 0.15205047]\n",
      " [0.07024185 0.58002103]]\n",
      "(array([0.        , 0.        , 0.        , ..., 0.90318701, 0.90318701,\n",
      "       1.        ]), array([0.00000000e+00, 3.23415265e-04, 1.61707633e-03, ...,\n",
      "       9.99676585e-01, 1.00000000e+00, 1.00000000e+00]), array([ 2.06337184,  1.06337184,  1.027322  , ...,  0.08990545,\n",
      "        0.08946649, -0.85196031]))\n"
     ]
    },
    {
     "data": {
      "text/plain": [
       "Text(0, 0.5, 'True positive rate')"
      ]
     },
     "execution_count": 39,
     "metadata": {},
     "output_type": "execute_result"
    },
    {
     "data": {
      "image/png": "[encoded data removed]",
      "text/plain": [
       "<Figure size 432x288 with 1 Axes>"
      ]
     },
     "metadata": {
      "needs_background": "light"
     },
     "output_type": "display_data"
    }
   ],
   "source": [
    "from sklearn.linear_model import LogisticRegression\n",
    "from sklearn.model_selection import train_test_split\n",
    "from sklearn.metrics import confusion_matrix\n",
    "import pandas as pd\n",
    "\n",
    "names = [\"length\", \"width\", \"size\", \"conc\", \"conc1\", \"asym\", \"m3long\", \"m3trans\", \"alpha\", \"dist\", \"class\"]\n",
    "#Смотрим на излучение Черенкова\n",
    "data = pd.read_csv('magic04.csv', header=None, names=names, index_col=0)\n",
    "print(data.head())\n",
    "\n",
    "x = data.drop(['class'],axis = 1) # фичи\n",
    "y = data['class'].apply(lambda x: x == 'g') # класс(тип частицы)\n",
    "\n",
    "x_train, x_test, y_train, y_test = train_test_split(x, y, random_state=42)\n",
    "r = LogisticRegression(solver='newton-cg')\n",
    "r.fit(x_train, y_train)\n",
    "\n",
    "y_test_predict = r.predict(x_test)\n",
    "print(confusion_matrix(y_test, y_test_predict)/y_test.shape[0])\n",
    "\n",
    "reg = sklearn.linear_model.LinearRegression().fit(x_train,y_train)\n",
    "#roc auc - home\n",
    "\n",
    "y_test_scores = reg.predict(x_test) # \n",
    "fpr, tpr, _ = sklearn.metrics.roc_curve(y_test, y_test_scores)\n",
    "auc = sklearn.metrics.roc_curve(y_test, y_test_scores) # AUC?\n",
    "print(auc)\n",
    "\n",
    "plt.plot(fpr, tpr)\n",
    "plt.xlabel(\"False positive rate\")\n",
    "plt.ylabel(\"True positive rate\")"
   ]
  },
  {
   "cell_type": "markdown",
   "metadata": {},
   "source": [
    "Метод максимального правдоподобия\n",
    "------------------------------------------------------------"
   ]
  },
  {
   "cell_type": "code",
   "execution_count": 40,
   "metadata": {},
   "outputs": [
    {
     "data": {
      "text/plain": [
       "(1.5048330139555812, 0.24468155193683858)"
      ]
     },
     "execution_count": 40,
     "metadata": {},
     "output_type": "execute_result"
    }
   ],
   "source": [
    "numpy.random.seed(42)\n",
    "x = numpy.random.normal(1.5, 0.25, 1000)\n",
    "\n",
    "mu_estimate = x.sum() / x.shape[0]\n",
    "sigma2_estimate = ((x - mu_estimate)**2).sum() / x.shape[0]\n",
    "\n",
    "mu_estimate, np.sqrt(sigma2_estimate)"
   ]
  },
  {
   "cell_type": "markdown",
   "metadata": {},
   "source": [
    "**Задание 1.5**\n",
    "\n",
    "По аналогии с предыдущей ячейкой, сгенерируйте вектор `x` из $1000$ реализаций случайной величины, распределенной согласно закону Пуассона с параметром $\\lambda = 2.45$.\n",
    "Используя формулу распределения Пуассона, а так же знания полученные на лекции, получите формулу оценки параметра $\\lambda$ для выборки независимых величин. Рассчитайте по этой формуле значение оценки $\\lambda$."
   ]
  },
  {
   "cell_type": "code",
   "execution_count": 41,
   "metadata": {},
   "outputs": [
    {
     "data": {
      "text/plain": [
       "2.457"
      ]
     },
     "execution_count": 41,
     "metadata": {},
     "output_type": "execute_result"
    }
   ],
   "source": [
    "numpy.random.seed(42)\n",
    "x = np.random.poisson(2.45, 1000) # выборка случайной величины\n",
    "\n",
    "lambda_estimate = x.sum() / x.shape[0] # оценка параметра\n",
    "\n",
    "lambda_estimate"
   ]
  },
  {
   "cell_type": "markdown",
   "metadata": {},
   "source": [
    "**Задание 1.6**\n",
    "\n",
    "Аналогично предыдущему заданию, сгенерируйте вектор `x` для лог-нормального распределения, с параметрами $\\mu=1.5$, $\\sigma=0.25$. Аналитически получите формулы оценок этих параметров по методу максимального правдоподобия, а затем проверьте себя вычислив числовые значения оценок параметров $\\mu$ и $\\sigma$."
   ]
  },
  {
   "cell_type": "code",
   "execution_count": 42,
   "metadata": {},
   "outputs": [
    {
     "data": {
      "text/plain": [
       "(1.5048330139555812, 0.24468155193683858)"
      ]
     },
     "execution_count": 42,
     "metadata": {},
     "output_type": "execute_result"
    }
   ],
   "source": [
    "numpy.random.seed(42)\n",
    "x = np.random.lognormal(1.5, 0.25, 1000) # выборка случайной величины\n",
    "\n",
    "mu_estimate = np.sum(np.log(x), axis=0) / x.shape[0] # оценки\n",
    "sigma2_estimate = ((np.log(x) - mu_estimate)**2).sum() / x.shape[0] # параметров\n",
    "\n",
    "mu_estimate, np.sqrt(sigma2_estimate)"
   ]
  },
  {
   "cell_type": "code",
   "execution_count": 43,
   "metadata": {},
   "outputs": [
    {
     "data": {
      "text/plain": [
       "(array([-0.05118903, -0.01089656]), array([[0.93859235, 0.67964775],\n",
       "        [0.67964775, 0.93525926]]))"
      ]
     },
     "execution_count": 43,
     "metadata": {},
     "output_type": "execute_result"
    },
    {
     "data": {
      "image/png": "[encoded data removed]",
      "text/plain": [
       "<Figure size 432x288 with 1 Axes>"
      ]
     },
     "metadata": {
      "needs_background": "light"
     },
     "output_type": "display_data"
    }
   ],
   "source": [
    "numpy.random.seed(42)\n",
    "x = np.random.multivariate_normal([0.0, 0.0], [[1.0, 0.75],[0.75, 1.0]], 1000)\n",
    "plt.plot(*x.T,'*')\n",
    "\n",
    "mu_estimate = np.sum(x, axis=0) / x.shape[0]\n",
    "dx = x - mu_estimate\n",
    "sigma_estimate = np.tensordot(dx, dx, [0, 0]) / x.shape[0]\n",
    "\n",
    "mu_estimate, sigma_estimate"
   ]
  },
  {
   "cell_type": "markdown",
   "metadata": {},
   "source": [
    "### Линейные модели авторегрессии скользящего среднего"
   ]
  },
  {
   "cell_type": "code",
   "execution_count": 44,
   "metadata": {},
   "outputs": [
    {
     "data": {
      "image/png": "[encoded data removed]",
      "text/plain": [
       "<Figure size 432x288 with 1 Axes>"
      ]
     },
     "metadata": {
      "needs_background": "light"
     },
     "output_type": "display_data"
    }
   ],
   "source": [
    "import statsmodels.api as sm\n",
    "from statsmodels import tsa\n",
    "from statsmodels.tsa.statespace import sarimax\n",
    "from statsmodels.graphics import tsaplots\n",
    "from statsmodels.graphics import gofplots\n",
    "from scipy.stats import boxcox\n",
    "\n",
    "data = pd.read_csv('sunspots.csv')\n",
    "x = np.asarray(data['YEAR']).reshape(-1,1)\n",
    "y = np.asarray(data['SUNACTIVITY']).reshape(-1,1)\n",
    "\n",
    "plt.plot(x, y)\n",
    "plt.xlabel(\"Year\")\n",
    "plt.ylabel(\"Activity index\")\n",
    "plt.title(\"Solar activity\")\n",
    "plt.tight_layout()"
   ]
  },
  {
   "cell_type": "code",
   "execution_count": 45,
   "metadata": {},
   "outputs": [
    {
     "data": {
      "text/plain": [
       "<Figure size 432x288 with 0 Axes>"
      ]
     },
     "metadata": {},
     "output_type": "display_data"
    },
    {
     "data": {
      "image/png": "[encoded data removed]",
      "text/plain": [
       "<Figure size 432x288 with 1 Axes>"
      ]
     },
     "metadata": {
      "needs_background": "light"
     },
     "output_type": "display_data"
    },
    {
     "data": {
      "text/plain": [
       "<Figure size 432x288 with 0 Axes>"
      ]
     },
     "metadata": {},
     "output_type": "display_data"
    },
    {
     "data": {
      "image/png": "[encoded data removed]",
      "text/plain": [
       "<Figure size 432x288 with 1 Axes>"
      ]
     },
     "metadata": {
      "needs_background": "light"
     },
     "output_type": "display_data"
    },
    {
     "data": {
      "text/plain": [
       "<Figure size 432x288 with 0 Axes>"
      ]
     },
     "metadata": {},
     "output_type": "display_data"
    },
    {
     "data": {
      "image/png": "[encoded data removed]",
      "text/plain": [
       "<Figure size 432x288 with 1 Axes>"
      ]
     },
     "metadata": {
      "needs_background": "light"
     },
     "output_type": "display_data"
    }
   ],
   "source": [
    "plt.figure()\n",
    "gofplots.qqplot(y.reshape(-1), fit=True, line='45')\n",
    "plt.axis('equal')\n",
    "\n",
    "plt.figure()\n",
    "y_log = boxcox(y.reshape(-1)+1, 0)\n",
    "gofplots.qqplot(y_log.reshape(-1), fit=True, line='45')\n",
    "_ = plt.axis('equal')\n",
    "\n",
    "plt.figure()\n",
    "y_1 = boxcox(y.reshape(-1)+1, 0.5)\n",
    "gofplots.qqplot(y_1.reshape(-1), fit=True, line='45')\n",
    "_ = plt.axis('equal')"
   ]
  },
  {
   "cell_type": "code",
   "execution_count": 46,
   "metadata": {},
   "outputs": [
    {
     "data": {
      "image/png": "[encoded data removed]",
      "text/plain": [
       "<Figure size 432x288 with 1 Axes>"
      ]
     },
     "metadata": {
      "needs_background": "light"
     },
     "output_type": "display_data"
    },
    {
     "data": {
      "image/png": "[encoded data removed]",
      "text/plain": [
       "<Figure size 432x288 with 1 Axes>"
      ]
     },
     "metadata": {
      "needs_background": "light"
     },
     "output_type": "display_data"
    }
   ],
   "source": [
    "tsaplots.plot_acf(y_log, lags=np.arange(50))\n",
    "_ = tsaplots.plot_pacf(y_log, lags=np.arange(50))"
   ]
  },
  {
   "cell_type": "code",
   "execution_count": 47,
   "metadata": {},
   "outputs": [
    {
     "name": "stdout",
     "output_type": "stream",
     "text": [
      "                               SARIMAX Results                                \n",
      "==============================================================================\n",
      "Dep. Variable:                      y   No. Observations:                  309\n",
      "Model:                 ARIMA(2, 0, 0)   Log Likelihood                -212.767\n",
      "Date:                Tue, 28 Apr 2020   AIC                            433.534\n",
      "Time:                        13:23:12   BIC                            448.468\n",
      "Sample:                             0   HQIC                           439.505\n",
      "                                - 309                                         \n",
      "Covariance Type:                  opg                                         \n",
      "==============================================================================\n",
      "                 coef    std err          z      P>|z|      [0.025      0.975]\n",
      "------------------------------------------------------------------------------\n",
      "const          3.5031      0.128     27.375      0.000       3.252       3.754\n",
      "ar.L1          1.3095      0.050     25.953      0.000       1.211       1.408\n",
      "ar.L2         -0.6047      0.056    -10.753      0.000      -0.715      -0.494\n",
      "sigma2         0.2306      0.014     16.387      0.000       0.203       0.258\n",
      "===================================================================================\n",
      "Ljung-Box (Q):                       89.57   Jarque-Bera (JB):                41.45\n",
      "Prob(Q):                              0.00   Prob(JB):                         0.00\n",
      "Heteroskedasticity (H):               1.04   Skew:                             0.11\n",
      "Prob(H) (two-sided):                  0.84   Kurtosis:                         4.78\n",
      "===================================================================================\n",
      "\n",
      "Warnings:\n",
      "[1] Covariance matrix calculated using the outer product of gradients (complex-step).\n",
      "                               SARIMAX Results                                \n",
      "==============================================================================\n",
      "Dep. Variable:                      y   No. Observations:                  309\n",
      "Model:                 ARIMA(3, 0, 0)   Log Likelihood                -211.637\n",
      "Date:                Tue, 28 Apr 2020   AIC                            433.275\n",
      "Time:                        13:23:12   BIC                            451.942\n",
      "Sample:                             0   HQIC                           440.738\n",
      "                                - 309                                         \n",
      "Covariance Type:                  opg                                         \n",
      "==============================================================================\n",
      "                 coef    std err          z      P>|z|      [0.025      0.975]\n",
      "------------------------------------------------------------------------------\n",
      "const          3.5058      0.124     28.255      0.000       3.263       3.749\n",
      "ar.L1          1.2576      0.050     24.972      0.000       1.159       1.356\n",
      "ar.L2         -0.4925      0.082     -5.980      0.000      -0.654      -0.331\n",
      "ar.L3         -0.0862      0.063     -1.363      0.173      -0.210       0.038\n",
      "sigma2         0.2289      0.014     16.574      0.000       0.202       0.256\n",
      "===================================================================================\n",
      "Ljung-Box (Q):                       83.57   Jarque-Bera (JB):                43.90\n",
      "Prob(Q):                              0.00   Prob(JB):                         0.00\n",
      "Heteroskedasticity (H):               1.04   Skew:                             0.13\n",
      "Prob(H) (two-sided):                  0.84   Kurtosis:                         4.83\n",
      "===================================================================================\n",
      "\n",
      "Warnings:\n",
      "[1] Covariance matrix calculated using the outer product of gradients (complex-step).\n",
      "                                    SARIMAX Results                                     \n",
      "========================================================================================\n",
      "Dep. Variable:                                y   No. Observations:                  309\n",
      "Model:             ARIMA(3, 0, 0)x(1, 0, 0, 11)   Log Likelihood                -202.279\n",
      "Date:                          Tue, 28 Apr 2020   AIC                            416.557\n",
      "Time:                                  13:23:13   BIC                            438.957\n",
      "Sample:                                       0   HQIC                           425.513\n",
      "                                          - 309                                         \n",
      "Covariance Type:                            opg                                         \n",
      "==============================================================================\n",
      "                 coef    std err          z      P>|z|      [0.025      0.975]\n",
      "------------------------------------------------------------------------------\n",
      "const          3.4911      0.154     22.606      0.000       3.188       3.794\n",
      "ar.L1          1.1390      0.049     23.144      0.000       1.043       1.235\n",
      "ar.L2         -0.3806      0.077     -4.925      0.000      -0.532      -0.229\n",
      "ar.L3         -0.0869      0.066     -1.308      0.191      -0.217       0.043\n",
      "ar.S.L11       0.2860      0.052      5.457      0.000       0.183       0.389\n",
      "sigma2         0.2150      0.013     17.065      0.000       0.190       0.240\n",
      "===================================================================================\n",
      "Ljung-Box (Q):                       67.75   Jarque-Bera (JB):                54.48\n",
      "Prob(Q):                              0.00   Prob(JB):                         0.00\n",
      "Heteroskedasticity (H):               0.92   Skew:                             0.02\n",
      "Prob(H) (two-sided):                  0.66   Kurtosis:                         5.06\n",
      "===================================================================================\n",
      "\n",
      "Warnings:\n",
      "[1] Covariance matrix calculated using the outer product of gradients (complex-step).\n"
     ]
    }
   ],
   "source": [
    "arma_mod20 = sm.tsa.arima.ARIMA(y_log, order=(2,0,0)).fit()\n",
    "print(arma_mod20.summary())\n",
    "\n",
    "arma_mod30 = sm.tsa.arima.ARIMA(y_log, order=(3,0,0)).fit()\n",
    "print(arma_mod30.summary())\n",
    "\n",
    "arma_mods11 = sm.tsa.arima.ARIMA(y_log, order=(3,0,0), seasonal_order=(1,0,0,11)).fit()\n",
    "print(arma_mods11.summary())"
   ]
  },
  {
   "cell_type": "code",
   "execution_count": 48,
   "metadata": {},
   "outputs": [
    {
     "data": {
      "text/plain": [
       "<Figure size 432x288 with 0 Axes>"
      ]
     },
     "metadata": {},
     "output_type": "display_data"
    },
    {
     "data": {
      "image/png": "[encoded data removed]",
      "text/plain": [
       "<Figure size 432x288 with 1 Axes>"
      ]
     },
     "metadata": {
      "needs_background": "light"
     },
     "output_type": "display_data"
    },
    {
     "data": {
      "text/plain": [
       "<Figure size 432x288 with 0 Axes>"
      ]
     },
     "metadata": {},
     "output_type": "display_data"
    },
    {
     "data": {
      "image/png": "[encoded data removed]",
      "text/plain": [
       "<Figure size 432x288 with 1 Axes>"
      ]
     },
     "metadata": {
      "needs_background": "light"
     },
     "output_type": "display_data"
    },
    {
     "data": {
      "text/plain": [
       "<Figure size 432x288 with 0 Axes>"
      ]
     },
     "metadata": {},
     "output_type": "display_data"
    },
    {
     "data": {
      "image/png": "[encoded data removed]",
      "text/plain": [
       "<Figure size 432x288 with 1 Axes>"
      ]
     },
     "metadata": {
      "needs_background": "light"
     },
     "output_type": "display_data"
    }
   ],
   "source": [
    "plt.figure()\n",
    "tsaplots.plot_acf(arma_mod20.resid, lags=np.arange(50))\n",
    "\n",
    "plt.figure()\n",
    "_ = tsaplots.plot_acf(arma_mod30.resid, lags=np.arange(50))\n",
    "\n",
    "plt.figure()\n",
    "_ = tsaplots.plot_acf(arma_mods11.resid, lags=np.arange(50))"
   ]
  },
  {
   "cell_type": "code",
   "execution_count": 49,
   "metadata": {},
   "outputs": [
    {
     "data": {
      "image/png": "[encoded data removed]",
      "text/plain": [
       "<Figure size 432x288 with 1 Axes>"
      ]
     },
     "metadata": {
      "needs_background": "light"
     },
     "output_type": "display_data"
    }
   ],
   "source": [
    "n_forecast = 40\n",
    "x_pred = np.arange(x[-1], x[-1] + n_forecast)\n",
    "y_pred_20 = arma_mod20.predict(len(x), len(x) + n_forecast - 1)\n",
    "y_pred_s = arma_mods11.predict(len(x), len(x) + n_forecast - 1)\n",
    "\n",
    "plt.plot(x, y_log)\n",
    "plt.plot(x_pred, y_pred_20)\n",
    "plt.plot(x_pred, y_pred_s)\n",
    "plt.xlabel(\"Year\")\n",
    "plt.ylabel(\"Activity index\")\n",
    "plt.title(\"Solar activity\")\n",
    "plt.tight_layout()\n",
    "plt.show()"
   ]
  },
  {
   "cell_type": "markdown",
   "metadata": {},
   "source": [
    "**Задание 1.7**\n",
    "\n",
    "Используя данные о солнечной активности из файла `sunspots.csv` (по аналогии с предыдущими ячейками), найдите наиболее подходящую модель семейства ARIMA, опираясь на принцип максимального правдоподобия при сравнении моделей.\n",
    "* Руководствуясь принципом простоты, количество параметров модели не должно превышать 12\n",
    "* Попробуйте применить различные преобразования из семейства Бокса-Кокса перед обучением модели\n",
    "\n",
    "Для найденной модели постройте график АКФ невязок, распечатайте `summary()`, и постройте график прогноза на ближайшие 40 точек в будущее.\n",
    "\n",
    "*Бонусные баллы* полагаются тому, кто найдет удовлетворяющую условиям модель с наибольшим правдоподобием среди всей группы."
   ]
  },
  {
   "cell_type": "markdown",
   "metadata": {},
   "source": [
    "### Гауссовы процессы"
   ]
  },
  {
   "cell_type": "markdown",
   "metadata": {},
   "source": [
    "**Задание 1.8**\n",
    "\n",
    "Ниже приведен пример кода использования гауссовых процессов для моделирования временных рядов. Используются всё те же данные солнечной активности. В этом задании можно получить *бонусные баллы*, для этого надо подобрать ядро преобразования `kernel` в примере таким образом, чтобы среднеквадратичная ошибка модели на тестовой выборке (посление 100 отсчетов по времени), стала лучше всех в группе."
   ]
  },
  {
   "cell_type": "code",
   "execution_count": 50,
   "metadata": {},
   "outputs": [
    {
     "name": "stdout",
     "output_type": "stream",
     "text": [
      "Kernel: 0.737**2 * ExpSineSquared(length_scale=0.688, periodicity=22.2) + WhiteKernel(noise_level=0.663)\n"
     ]
    },
    {
     "data": {
      "image/png": "[encoded data removed]",
      "text/plain": [
       "<Figure size 432x288 with 1 Axes>"
      ]
     },
     "metadata": {
      "needs_background": "light"
     },
     "output_type": "display_data"
    },
    {
     "data": {
      "text/plain": [
       "1.0665564779881627"
      ]
     },
     "execution_count": 50,
     "metadata": {},
     "output_type": "execute_result"
    }
   ],
   "source": [
    "import pandas as pd\n",
    "from sklearn.metrics import mean_squared_error\n",
    "from sklearn.gaussian_process import GaussianProcessRegressor\n",
    "from sklearn.gaussian_process.kernels import RBF, WhiteKernel, RationalQuadratic, ExpSineSquared\n",
    "\n",
    "data = pd.read_csv('sunspots.csv')\n",
    "x = np.asarray(data['YEAR']).reshape(-1,1)\n",
    "y = np.log(np.asarray(data['SUNACTIVITY']) + 1).reshape(-1,1)\n",
    "\n",
    "x_train = x[:-100]\n",
    "y_train = y[:-100]\n",
    "x_test = x[-100:]\n",
    "y_test = y[-100:]\n",
    "\n",
    "kernel = 1 * ExpSineSquared(length_scale=2, periodicity=22, periodicity_bounds=(20,25)) + WhiteKernel()\n",
    "gp = GaussianProcessRegressor(kernel=kernel, normalize_y=True)\n",
    "gp.fit(x_train, y_train)\n",
    "y_pred, y_std = gp.predict(x_test, return_std=True)\n",
    "y_pred_lo = y_pred.reshape(-1) - y_std\n",
    "y_pred_hi = y_pred.reshape(-1) + y_std\n",
    "\n",
    "print(\"Kernel: {}\".format(gp.kernel_))\n",
    "\n",
    "plt.plot(x, y)\n",
    "plt.plot(x_test, y_pred, color='red')\n",
    "plt.fill_between(x_test.reshape(-1), y_pred_lo, y_pred_hi, alpha=0.3, color='red')\n",
    "plt.xlabel(\"Year\")\n",
    "plt.ylabel(\"Activity index\")\n",
    "plt.title(\"Solar activity\")\n",
    "plt.tight_layout()\n",
    "plt.show()\n",
    "\n",
    "np.sqrt(mean_squared_error(y_test, y_pred))"
   ]
  },
  {
   "cell_type": "code",
   "execution_count": 51,
   "metadata": {},
   "outputs": [
    {
     "name": "stdout",
     "output_type": "stream",
     "text": [
      "Kernel: 0.833**2 * RBF(length_scale=1.75) + 0.767**2 * ExpSineSquared(length_scale=0.808, periodicity=22.1) + WhiteKernel(noise_level=0.0451)\n"
     ]
    },
    {
     "data": {
      "image/png": "[encoded data removed]",
      "text/plain": [
       "<Figure size 432x288 with 1 Axes>"
      ]
     },
     "metadata": {
      "needs_background": "light"
     },
     "output_type": "display_data"
    },
    {
     "data": {
      "text/plain": [
       "0.34846760651549796"
      ]
     },
     "execution_count": 51,
     "metadata": {},
     "output_type": "execute_result"
    }
   ],
   "source": [
    "x_train, x_test, y_train, y_test = train_test_split(x, y, random_state=42)\n",
    "\n",
    "kernel = 1 * RBF() + 1 * ExpSineSquared(periodicity=11) + WhiteKernel()\n",
    "gp = GaussianProcessRegressor(kernel=kernel, normalize_y=True)\n",
    "gp.fit(x_train, y_train)\n",
    "y_pred, y_std = gp.predict(x_test, return_std=True)\n",
    "y_pred_lo = y_pred.reshape(-1) - y_std\n",
    "y_pred_hi = y_pred.reshape(-1) + y_std\n",
    "\n",
    "print(\"Kernel: {}\".format(gp.kernel_))\n",
    "\n",
    "plt.plot(x, y, '-')\n",
    "plt.plot(x_test, y_pred, '*', color='red')\n",
    "plt.xlabel(\"Year\")\n",
    "plt.ylabel(\"Activity index\")\n",
    "plt.title(\"Solar activity\")\n",
    "plt.tight_layout()\n",
    "plt.show()\n",
    "\n",
    "np.sqrt(mean_squared_error(y_test, y_pred))"
   ]
  },
  {
   "cell_type": "markdown",
   "metadata": {},
   "source": [
    "**Задание 1.9**\n",
    "\n",
    "В файле `forestfires.csv` в формате CSV, находятся данные о лесных пожарах в некотором заповеднике.\n",
    "Ваша задача состоит в том, чтобы попробовать построить зависимость мощности пожара (выгоревшей площади `area`), от условной координаты парка (колонки `X` и `Y`).\n",
    "Неплохой идеей кажется использовать для моделирования двумерные гауссовы процессы, т.к. ожидается корреляция между соседними в пространстве областями.\n",
    "\n",
    "Загрузите данные из файла: в вектор `x` колоки `X` и `Y`, в вектор `y` загрузите величину $\\log(\\mathtt{\"area\"} + 1)$\n",
    "\n",
    "Используя класс `sklearn.gaussian_process.GaussianProcessRegressor`, постройте модель. Подберите ядро самостоятельно.\n",
    "\n",
    "*Бонусные баллы* полагаются за наилучшую модель. Эффективность модели измеряется среднеквадратичной ошибкой на тестовой выборке."
   ]
  },
  {
   "cell_type": "code",
   "execution_count": null,
   "metadata": {},
   "outputs": [],
   "source": [
    "x = # матрица из колонок X, Y\n",
    "y = # np.asarray(np.log(data['area'] + 1))\n",
    "\n",
    "np.sqrt(mean_squared_error(y_test, y_pred))"
   ]
  },
  {
   "cell_type": "code",
   "execution_count": 52,
   "metadata": {},
   "outputs": [
    {
     "data": {
      "text/plain": [
       "1.420210088473765"
      ]
     },
     "execution_count": 52,
     "metadata": {},
     "output_type": "execute_result"
    }
   ],
   "source": [
    "from sklearn.model_selection import train_test_split\n",
    "from sklearn.gaussian_process import GaussianProcessRegressor\n",
    "from sklearn.gaussian_process.kernels import DotProduct, WhiteKernel, ExpSineSquared, RationalQuadratic, Matern, RBF\n",
    "from sklearn.metrics import mean_squared_error\n",
    "\n",
    "\n",
    "data = pd.read_csv('forestfires.csv')\n",
    "x = data[['X','Y']] # фичи\n",
    "y = np.asarray(np.log(data['area'] + 1))\n",
    "\n",
    "x_train, x_test, y_train, y_test = train_test_split(x, y, random_state=42)\n",
    "\n",
    "kernel = DotProduct()\n",
    "\n",
    "model = GaussianProcessRegressor(kernel=kernel).fit(x_train, y_train)\n",
    "y_pred = model.predict(x_test)\n",
    "\n",
    "np.sqrt(mean_squared_error(y_test, y_pred))"
   ]
  },
  {
   "cell_type": "code",
   "execution_count": null,
   "metadata": {},
   "outputs": [],
   "source": []
  }
 ],
 "metadata": {
  "kernelspec": {
   "display_name": "Python 3",
   "language": "python",
   "name": "python3"
  },
  "language_info": {
   "codemirror_mode": {
    "name": "ipython",
    "version": 3
   },
   "file_extension": ".py",
   "mimetype": "text/x-python",
   "name": "python",
   "nbconvert_exporter": "python",
   "pygments_lexer": "ipython3",
   "version": "3.7.6"
  },
  "latex_envs": {
   "LaTeX_envs_menu_present": true,
   "autoclose": false,
   "autocomplete": true,
   "bibliofile": "biblio.bib",
   "cite_by": "apalike",
   "current_citInitial": 1,
   "eqLabelWithNumbers": true,
   "eqNumInitial": 1,
   "hotkeys": {
    "equation": "Ctrl-E",
    "itemize": "Ctrl-I"
   },
   "labels_anchors": false,
   "latex_user_defs": false,
   "report_style_numbering": false,
   "user_envs_cfg": false
  }
 },
 "nbformat": 4,
 "nbformat_minor": 2
}
